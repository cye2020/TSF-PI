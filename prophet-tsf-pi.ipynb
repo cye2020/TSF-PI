{
 "cells": [
  {
   "cell_type": "code",
   "execution_count": 1,
   "id": "bf1f7e04",
   "metadata": {
    "execution": {
     "iopub.execute_input": "2024-04-08T07:36:58.544781Z",
     "iopub.status.busy": "2024-04-08T07:36:58.544483Z",
     "iopub.status.idle": "2024-04-08T07:37:00.261225Z",
     "shell.execute_reply": "2024-04-08T07:37:00.260073Z"
    },
    "papermill": {
     "duration": 1.727646,
     "end_time": "2024-04-08T07:37:00.263207",
     "exception": false,
     "start_time": "2024-04-08T07:36:58.535561",
     "status": "completed"
    },
    "tags": []
   },
   "outputs": [
    {
     "name": "stdout",
     "output_type": "stream",
     "text": [
      "Cloning into 'TSF-SPI'...\r\n",
      "remote: Enumerating objects: 343, done.\u001b[K\r\n",
      "remote: Counting objects: 100% (120/120), done.\u001b[K\r\n",
      "remote: Compressing objects: 100% (75/75), done.\u001b[K\r\n",
      "remote: Total 343 (delta 70), reused 82 (delta 39), pack-reused 223\u001b[K\r\n",
      "Receiving objects: 100% (343/343), 720.73 KiB | 5.54 MiB/s, done.\r\n",
      "Resolving deltas: 100% (189/189), done.\r\n"
     ]
    }
   ],
   "source": [
    "!git clone https://github.com/cye2020/TSF-SPI.git"
   ]
  },
  {
   "cell_type": "code",
   "execution_count": 2,
   "id": "4d77ef2a",
   "metadata": {
    "execution": {
     "iopub.execute_input": "2024-04-08T07:37:00.282098Z",
     "iopub.status.busy": "2024-04-08T07:37:00.281458Z",
     "iopub.status.idle": "2024-04-08T07:37:00.287253Z",
     "shell.execute_reply": "2024-04-08T07:37:00.286427Z"
    },
    "papermill": {
     "duration": 0.017368,
     "end_time": "2024-04-08T07:37:00.289254",
     "exception": false,
     "start_time": "2024-04-08T07:37:00.271886",
     "status": "completed"
    },
    "tags": []
   },
   "outputs": [
    {
     "name": "stdout",
     "output_type": "stream",
     "text": [
      "/kaggle/working/TSF-SPI\n"
     ]
    }
   ],
   "source": [
    "cd TSF-SPI/"
   ]
  },
  {
   "cell_type": "code",
   "execution_count": 3,
   "id": "4e0e133e",
   "metadata": {
    "execution": {
     "iopub.execute_input": "2024-04-08T07:37:00.306807Z",
     "iopub.status.busy": "2024-04-08T07:37:00.306562Z",
     "iopub.status.idle": "2024-04-08T07:37:01.531496Z",
     "shell.execute_reply": "2024-04-08T07:37:01.530492Z"
    },
    "papermill": {
     "duration": 1.236282,
     "end_time": "2024-04-08T07:37:01.533863",
     "exception": false,
     "start_time": "2024-04-08T07:37:00.297581",
     "status": "completed"
    },
    "tags": []
   },
   "outputs": [
    {
     "name": "stdout",
     "output_type": "stream",
     "text": [
      "Already up to date.\r\n"
     ]
    }
   ],
   "source": [
    "!git pull"
   ]
  },
  {
   "cell_type": "code",
   "execution_count": 4,
   "id": "a2d3dcf5",
   "metadata": {
    "execution": {
     "iopub.execute_input": "2024-04-08T07:37:01.553394Z",
     "iopub.status.busy": "2024-04-08T07:37:01.553091Z",
     "iopub.status.idle": "2024-04-08T07:37:28.071885Z",
     "shell.execute_reply": "2024-04-08T07:37:28.070591Z"
    },
    "papermill": {
     "duration": 26.531438,
     "end_time": "2024-04-08T07:37:28.074451",
     "exception": false,
     "start_time": "2024-04-08T07:37:01.543013",
     "status": "completed"
    },
    "tags": []
   },
   "outputs": [
    {
     "name": "stdout",
     "output_type": "stream",
     "text": [
      "Collecting torchsummary\r\n",
      "  Obtaining dependency information for torchsummary from https://files.pythonhosted.org/packages/7d/18/1474d06f721b86e6a9b9d7392ad68bed711a02f3b61ac43f13c719db50a6/torchsummary-1.5.1-py3-none-any.whl.metadata\r\n",
      "  Downloading torchsummary-1.5.1-py3-none-any.whl.metadata (296 bytes)\r\n",
      "Downloading torchsummary-1.5.1-py3-none-any.whl (2.8 kB)\r\n",
      "Installing collected packages: torchsummary\r\n",
      "Successfully installed torchsummary-1.5.1\r\n",
      "Requirement already satisfied: optuna in /opt/conda/lib/python3.10/site-packages (3.5.0)\r\n",
      "Requirement already satisfied: alembic>=1.5.0 in /opt/conda/lib/python3.10/site-packages (from optuna) (1.13.0)\r\n",
      "Requirement already satisfied: colorlog in /opt/conda/lib/python3.10/site-packages (from optuna) (6.8.0)\r\n",
      "Requirement already satisfied: numpy in /opt/conda/lib/python3.10/site-packages (from optuna) (1.24.3)\r\n",
      "Requirement already satisfied: packaging>=20.0 in /opt/conda/lib/python3.10/site-packages (from optuna) (21.3)\r\n",
      "Requirement already satisfied: sqlalchemy>=1.3.0 in /opt/conda/lib/python3.10/site-packages (from optuna) (2.0.20)\r\n",
      "Requirement already satisfied: tqdm in /opt/conda/lib/python3.10/site-packages (from optuna) (4.66.1)\r\n",
      "Requirement already satisfied: PyYAML in /opt/conda/lib/python3.10/site-packages (from optuna) (6.0.1)\r\n",
      "Requirement already satisfied: Mako in /opt/conda/lib/python3.10/site-packages (from alembic>=1.5.0->optuna) (1.3.0)\r\n",
      "Requirement already satisfied: typing-extensions>=4 in /opt/conda/lib/python3.10/site-packages (from alembic>=1.5.0->optuna) (4.5.0)\r\n",
      "Requirement already satisfied: pyparsing!=3.0.5,>=2.0.2 in /opt/conda/lib/python3.10/site-packages (from packaging>=20.0->optuna) (3.0.9)\r\n",
      "Requirement already satisfied: greenlet!=0.4.17 in /opt/conda/lib/python3.10/site-packages (from sqlalchemy>=1.3.0->optuna) (2.0.2)\r\n",
      "Requirement already satisfied: MarkupSafe>=0.9.2 in /opt/conda/lib/python3.10/site-packages (from Mako->alembic>=1.5.0->optuna) (2.1.3)\r\n"
     ]
    }
   ],
   "source": [
    "!pip install torchsummary\n",
    "!pip install optuna"
   ]
  },
  {
   "cell_type": "code",
   "execution_count": 5,
   "id": "6968dd4c",
   "metadata": {
    "execution": {
     "iopub.execute_input": "2024-04-08T07:37:28.096052Z",
     "iopub.status.busy": "2024-04-08T07:37:28.095375Z",
     "iopub.status.idle": "2024-04-08T07:37:49.046893Z",
     "shell.execute_reply": "2024-04-08T07:37:49.046052Z"
    },
    "papermill": {
     "duration": 20.964802,
     "end_time": "2024-04-08T07:37:49.049245",
     "exception": false,
     "start_time": "2024-04-08T07:37:28.084443",
     "status": "completed"
    },
    "tags": []
   },
   "outputs": [
    {
     "name": "stderr",
     "output_type": "stream",
     "text": [
      "/opt/conda/lib/python3.10/site-packages/scipy/__init__.py:146: UserWarning: A NumPy version >=1.16.5 and <1.23.0 is required for this version of SciPy (detected version 1.24.3\n",
      "  warnings.warn(f\"A NumPy version >={np_minversion} and <{np_maxversion}\"\n"
     ]
    }
   ],
   "source": [
    "import os\n",
    "import warnings\n",
    "\n",
    "# User-defined Data preprocessor\n",
    "from utils.data_loader import CustomDataLoader\n",
    "from utils.spliter import WindowGenerator\n",
    "\n",
    "# Dataframe\n",
    "import pandas as pd\n",
    "import numpy as np\n",
    "from itertools import chain, combinations\n",
    "import matplotlib.pyplot as plt\n",
    "\n",
    "# Seed\n",
    "import torch\n",
    "import random\n",
    "\n",
    "# Models\n",
    "from torch_models.cnn import CNN\n",
    "from torch_models.rnn import RNN\n",
    "from prophet import Prophet\n",
    "\n",
    "\n",
    "# predict result\n",
    "from utils.plot_util import plot\n",
    "from utils.evaluation import printResult\n",
    "\n",
    "import torch.optim as optim\n",
    "import torch.nn as nn\n",
    "from torch.utils.data import DataLoader, TensorDataset\n",
    "# from torch.optim.lr_scheduler import ReduceLROnPlateau\n",
    "from sklearn.model_selection import train_test_split\n",
    "from sklearn.metrics import mean_squared_error\n",
    "\n",
    "import optuna\n",
    "from optuna import Trial\n",
    "\n",
    "warnings.filterwarnings('ignore')"
   ]
  },
  {
   "cell_type": "code",
   "execution_count": 6,
   "id": "bf59a422",
   "metadata": {
    "execution": {
     "iopub.execute_input": "2024-04-08T07:37:49.070258Z",
     "iopub.status.busy": "2024-04-08T07:37:49.069714Z",
     "iopub.status.idle": "2024-04-08T07:37:49.074244Z",
     "shell.execute_reply": "2024-04-08T07:37:49.073421Z"
    },
    "papermill": {
     "duration": 0.017071,
     "end_time": "2024-04-08T07:37:49.076279",
     "exception": false,
     "start_time": "2024-04-08T07:37:49.059208",
     "status": "completed"
    },
    "tags": []
   },
   "outputs": [],
   "source": [
    "device = torch.device('cuda' if torch.cuda.is_available() else 'cpu')"
   ]
  },
  {
   "cell_type": "code",
   "execution_count": 7,
   "id": "7ab5fe47",
   "metadata": {
    "execution": {
     "iopub.execute_input": "2024-04-08T07:37:49.096423Z",
     "iopub.status.busy": "2024-04-08T07:37:49.096128Z",
     "iopub.status.idle": "2024-04-08T07:37:49.141108Z",
     "shell.execute_reply": "2024-04-08T07:37:49.140084Z"
    },
    "papermill": {
     "duration": 0.057594,
     "end_time": "2024-04-08T07:37:49.143088",
     "exception": false,
     "start_time": "2024-04-08T07:37:49.085494",
     "status": "completed"
    },
    "tags": []
   },
   "outputs": [
    {
     "data": {
      "text/html": [
       "<div>\n",
       "<style scoped>\n",
       "    .dataframe tbody tr th:only-of-type {\n",
       "        vertical-align: middle;\n",
       "    }\n",
       "\n",
       "    .dataframe tbody tr th {\n",
       "        vertical-align: top;\n",
       "    }\n",
       "\n",
       "    .dataframe thead th {\n",
       "        text-align: right;\n",
       "    }\n",
       "</style>\n",
       "<table border=\"1\" class=\"dataframe\">\n",
       "  <thead>\n",
       "    <tr style=\"text-align: right;\">\n",
       "      <th></th>\n",
       "      <th>Date</th>\n",
       "      <th>Kospi</th>\n",
       "      <th>USD/KRW</th>\n",
       "      <th>GDP</th>\n",
       "      <th>IAIP</th>\n",
       "      <th>LIR</th>\n",
       "      <th>M1</th>\n",
       "      <th>disease</th>\n",
       "    </tr>\n",
       "  </thead>\n",
       "  <tbody>\n",
       "    <tr>\n",
       "      <th>0</th>\n",
       "      <td>2010-01-04</td>\n",
       "      <td>1696.140015</td>\n",
       "      <td>1132.400024</td>\n",
       "      <td>1143.67</td>\n",
       "      <td>79.3</td>\n",
       "      <td>5.350</td>\n",
       "      <td>59.71815</td>\n",
       "      <td>0</td>\n",
       "    </tr>\n",
       "    <tr>\n",
       "      <th>1</th>\n",
       "      <td>2010-01-05</td>\n",
       "      <td>1690.619995</td>\n",
       "      <td>1141.300049</td>\n",
       "      <td>1143.67</td>\n",
       "      <td>79.3</td>\n",
       "      <td>5.350</td>\n",
       "      <td>59.71815</td>\n",
       "      <td>0</td>\n",
       "    </tr>\n",
       "    <tr>\n",
       "      <th>2</th>\n",
       "      <td>2010-01-06</td>\n",
       "      <td>1705.319946</td>\n",
       "      <td>1130.400024</td>\n",
       "      <td>1143.67</td>\n",
       "      <td>79.3</td>\n",
       "      <td>5.350</td>\n",
       "      <td>59.71815</td>\n",
       "      <td>0</td>\n",
       "    </tr>\n",
       "    <tr>\n",
       "      <th>3</th>\n",
       "      <td>2010-01-07</td>\n",
       "      <td>1683.449951</td>\n",
       "      <td>1134.900024</td>\n",
       "      <td>1143.67</td>\n",
       "      <td>79.3</td>\n",
       "      <td>5.350</td>\n",
       "      <td>59.71815</td>\n",
       "      <td>0</td>\n",
       "    </tr>\n",
       "    <tr>\n",
       "      <th>4</th>\n",
       "      <td>2010-01-08</td>\n",
       "      <td>1695.260010</td>\n",
       "      <td>1123.099976</td>\n",
       "      <td>1143.67</td>\n",
       "      <td>79.3</td>\n",
       "      <td>5.350</td>\n",
       "      <td>59.71815</td>\n",
       "      <td>0</td>\n",
       "    </tr>\n",
       "    <tr>\n",
       "      <th>...</th>\n",
       "      <td>...</td>\n",
       "      <td>...</td>\n",
       "      <td>...</td>\n",
       "      <td>...</td>\n",
       "      <td>...</td>\n",
       "      <td>...</td>\n",
       "      <td>...</td>\n",
       "      <td>...</td>\n",
       "    </tr>\n",
       "    <tr>\n",
       "      <th>3509</th>\n",
       "      <td>2024-04-01</td>\n",
       "      <td>2747.860107</td>\n",
       "      <td>1345.310059</td>\n",
       "      <td>1673.92</td>\n",
       "      <td>105.5</td>\n",
       "      <td>3.353</td>\n",
       "      <td>187.20330</td>\n",
       "      <td>0</td>\n",
       "    </tr>\n",
       "    <tr>\n",
       "      <th>3510</th>\n",
       "      <td>2024-04-02</td>\n",
       "      <td>2753.159912</td>\n",
       "      <td>1355.530029</td>\n",
       "      <td>1673.92</td>\n",
       "      <td>105.5</td>\n",
       "      <td>3.353</td>\n",
       "      <td>187.20330</td>\n",
       "      <td>0</td>\n",
       "    </tr>\n",
       "    <tr>\n",
       "      <th>3511</th>\n",
       "      <td>2024-04-03</td>\n",
       "      <td>2706.969971</td>\n",
       "      <td>1350.729980</td>\n",
       "      <td>1673.92</td>\n",
       "      <td>105.5</td>\n",
       "      <td>3.353</td>\n",
       "      <td>187.20330</td>\n",
       "      <td>0</td>\n",
       "    </tr>\n",
       "    <tr>\n",
       "      <th>3512</th>\n",
       "      <td>2024-04-04</td>\n",
       "      <td>2742.000000</td>\n",
       "      <td>1344.839966</td>\n",
       "      <td>1673.92</td>\n",
       "      <td>105.5</td>\n",
       "      <td>3.353</td>\n",
       "      <td>187.20330</td>\n",
       "      <td>0</td>\n",
       "    </tr>\n",
       "    <tr>\n",
       "      <th>3513</th>\n",
       "      <td>2024-04-05</td>\n",
       "      <td>2714.209961</td>\n",
       "      <td>1350.900024</td>\n",
       "      <td>1673.92</td>\n",
       "      <td>105.5</td>\n",
       "      <td>3.353</td>\n",
       "      <td>187.20330</td>\n",
       "      <td>0</td>\n",
       "    </tr>\n",
       "  </tbody>\n",
       "</table>\n",
       "<p>3514 rows × 8 columns</p>\n",
       "</div>"
      ],
      "text/plain": [
       "            Date        Kospi      USD/KRW      GDP   IAIP    LIR         M1  \\\n",
       "0     2010-01-04  1696.140015  1132.400024  1143.67   79.3  5.350   59.71815   \n",
       "1     2010-01-05  1690.619995  1141.300049  1143.67   79.3  5.350   59.71815   \n",
       "2     2010-01-06  1705.319946  1130.400024  1143.67   79.3  5.350   59.71815   \n",
       "3     2010-01-07  1683.449951  1134.900024  1143.67   79.3  5.350   59.71815   \n",
       "4     2010-01-08  1695.260010  1123.099976  1143.67   79.3  5.350   59.71815   \n",
       "...          ...          ...          ...      ...    ...    ...        ...   \n",
       "3509  2024-04-01  2747.860107  1345.310059  1673.92  105.5  3.353  187.20330   \n",
       "3510  2024-04-02  2753.159912  1355.530029  1673.92  105.5  3.353  187.20330   \n",
       "3511  2024-04-03  2706.969971  1350.729980  1673.92  105.5  3.353  187.20330   \n",
       "3512  2024-04-04  2742.000000  1344.839966  1673.92  105.5  3.353  187.20330   \n",
       "3513  2024-04-05  2714.209961  1350.900024  1673.92  105.5  3.353  187.20330   \n",
       "\n",
       "      disease  \n",
       "0           0  \n",
       "1           0  \n",
       "2           0  \n",
       "3           0  \n",
       "4           0  \n",
       "...       ...  \n",
       "3509        0  \n",
       "3510        0  \n",
       "3511        0  \n",
       "3512        0  \n",
       "3513        0  \n",
       "\n",
       "[3514 rows x 8 columns]"
      ]
     },
     "execution_count": 7,
     "metadata": {},
     "output_type": "execute_result"
    }
   ],
   "source": [
    "data = pd.read_csv('./data/kospi.csv').dropna()\n",
    "data"
   ]
  },
  {
   "cell_type": "code",
   "execution_count": 8,
   "id": "476641de",
   "metadata": {
    "execution": {
     "iopub.execute_input": "2024-04-08T07:37:49.163514Z",
     "iopub.status.busy": "2024-04-08T07:37:49.163255Z",
     "iopub.status.idle": "2024-04-08T07:37:49.182679Z",
     "shell.execute_reply": "2024-04-08T07:37:49.181969Z"
    },
    "papermill": {
     "duration": 0.031611,
     "end_time": "2024-04-08T07:37:49.184557",
     "exception": false,
     "start_time": "2024-04-08T07:37:49.152946",
     "status": "completed"
    },
    "tags": []
   },
   "outputs": [],
   "source": [
    "# data_loader = CustomDataLoader()\n",
    "# Target = 'Kospi'\n",
    "\n",
    "# # features = [Target, 'USD/KRW', 'GDP', 'IAIP', 'LIR', 'M1', 'disease']\n",
    "# features = [Target, 'USD/KRW', 'GDP', 'IAIP', 'LIR', 'M1', 'disease']\n",
    "\n",
    "\n",
    "# train, test, date_lists = data_loader.load_csv(path='./data/kospi.csv', \n",
    "#                                                 features=np.concatenate((['Date'],features), axis=0), \n",
    "#                                                 split_date='2019-12-31')\n",
    "\n",
    "\n",
    "split_date_train = '2018-12-31'\n",
    "split_date_valid = '2021-12-31'\n",
    "end_date= '2022-12-31'\n",
    "\n",
    "# train, valid, test 데이터 나누기\n",
    "train_data = data.loc[data['Date'] <= split_date_train].copy()\n",
    "valid_data = data.loc[(data['Date'] > split_date_train) & (data['Date'] <= split_date_valid)].copy()\n",
    "train_valid_data = data.loc[data['Date'] <= split_date_valid].copy()\n",
    "vaild_test_data = data.loc[(end_date >= data['Date']) & (data['Date'] > split_date_train)].copy()\n",
    "test_data = data.loc[(end_date >= data['Date']) & (data['Date'] > split_date_valid)].copy()"
   ]
  },
  {
   "cell_type": "code",
   "execution_count": 9,
   "id": "9b375078",
   "metadata": {
    "execution": {
     "iopub.execute_input": "2024-04-08T07:37:49.204777Z",
     "iopub.status.busy": "2024-04-08T07:37:49.204506Z",
     "iopub.status.idle": "2024-04-08T07:37:49.209805Z",
     "shell.execute_reply": "2024-04-08T07:37:49.208794Z"
    },
    "papermill": {
     "duration": 0.017862,
     "end_time": "2024-04-08T07:37:49.211893",
     "exception": false,
     "start_time": "2024-04-08T07:37:49.194031",
     "status": "completed"
    },
    "tags": []
   },
   "outputs": [
    {
     "name": "stdout",
     "output_type": "stream",
     "text": [
      "Train 데이터 크기: 2217\n",
      "Valid 데이터 크기: 742\n",
      "Test 데이터 크기: 244\n"
     ]
    }
   ],
   "source": [
    "# 결과 출력\n",
    "print(\"Train 데이터 크기:\", len(train_data))\n",
    "print(\"Valid 데이터 크기:\", len(valid_data))\n",
    "print(\"Test 데이터 크기:\", len(test_data))"
   ]
  },
  {
   "cell_type": "code",
   "execution_count": 10,
   "id": "9eb45f71",
   "metadata": {
    "execution": {
     "iopub.execute_input": "2024-04-08T07:37:49.232388Z",
     "iopub.status.busy": "2024-04-08T07:37:49.232079Z",
     "iopub.status.idle": "2024-04-08T07:37:49.235971Z",
     "shell.execute_reply": "2024-04-08T07:37:49.235166Z"
    },
    "papermill": {
     "duration": 0.016552,
     "end_time": "2024-04-08T07:37:49.237952",
     "exception": false,
     "start_time": "2024-04-08T07:37:49.221400",
     "status": "completed"
    },
    "tags": []
   },
   "outputs": [],
   "source": [
    "# boolarr = np.isnan(test)\n",
    "# boolarr.sum()\n",
    "# np.count_nonzero(boolarr)"
   ]
  },
  {
   "cell_type": "code",
   "execution_count": 11,
   "id": "adddecbc",
   "metadata": {
    "execution": {
     "iopub.execute_input": "2024-04-08T07:37:49.258623Z",
     "iopub.status.busy": "2024-04-08T07:37:49.258367Z",
     "iopub.status.idle": "2024-04-08T07:37:49.287951Z",
     "shell.execute_reply": "2024-04-08T07:37:49.287175Z"
    },
    "papermill": {
     "duration": 0.041899,
     "end_time": "2024-04-08T07:37:49.289858",
     "exception": false,
     "start_time": "2024-04-08T07:37:49.247959",
     "status": "completed"
    },
    "tags": []
   },
   "outputs": [],
   "source": [
    "data.rename(columns={'Date': 'ds', 'Kospi': 'y'}, inplace=True)\n",
    "data['ds'] = pd.to_datetime(data['ds'])\n",
    "\n",
    "train_data.rename(columns={'Date': 'ds', 'Kospi': 'y'}, inplace=True)\n",
    "train_data['ds'] = pd.to_datetime(train_data['ds'])\n",
    "\n",
    "valid_data.rename(columns={'Date': 'ds', 'Kospi': 'y'}, inplace=True)\n",
    "valid_data['ds'] = pd.to_datetime(valid_data['ds'])\n",
    "\n",
    "test_data.rename(columns={'Date': 'ds', 'Kospi': 'y'}, inplace=True)\n",
    "test_data['ds'] = pd.to_datetime(test_data['ds'])\n",
    "\n",
    "train_valid_data.rename(columns={'Date': 'ds', 'Kospi': 'y'}, inplace=True)\n",
    "train_valid_data['ds'] = pd.to_datetime(train_valid_data['ds'])\n",
    "\n",
    "vaild_test_data.rename(columns={'Date': 'ds', 'Kospi': 'y'}, inplace=True)\n",
    "vaild_test_data['ds'] = pd.to_datetime(vaild_test_data['ds'])\n",
    "\n",
    "\n",
    "additional_columns = ['USD/KRW', 'GDP', 'IAIP', 'LIR', 'M1', 'disease']\n",
    "\n",
    "# 가능한 모든 조합의 리스트 생성\n",
    "all_combinations = []\n",
    "for r in range(1, len(additional_columns) + 1):\n",
    "    all_combinations.extend(combinations(additional_columns, r))\n",
    "\n",
    "regressor_combinations = ['_'.join(combination) for combination in all_combinations]"
   ]
  },
  {
   "cell_type": "code",
   "execution_count": null,
   "id": "6478550c",
   "metadata": {
    "papermill": {
     "duration": 0.010101,
     "end_time": "2024-04-08T07:37:49.309534",
     "exception": false,
     "start_time": "2024-04-08T07:37:49.299433",
     "status": "completed"
    },
    "tags": []
   },
   "outputs": [],
   "source": []
  },
  {
   "cell_type": "code",
   "execution_count": 12,
   "id": "82b21079",
   "metadata": {
    "execution": {
     "iopub.execute_input": "2024-04-08T07:37:49.331048Z",
     "iopub.status.busy": "2024-04-08T07:37:49.330700Z",
     "iopub.status.idle": "2024-04-08T07:37:49.337567Z",
     "shell.execute_reply": "2024-04-08T07:37:49.336667Z"
    },
    "papermill": {
     "duration": 0.019742,
     "end_time": "2024-04-08T07:37:49.339471",
     "exception": false,
     "start_time": "2024-04-08T07:37:49.319729",
     "status": "completed"
    },
    "tags": []
   },
   "outputs": [],
   "source": [
    "def train(train_data, changepoints, changepoints_range, seasonality_mode, growth, regressors, cap=None):\n",
    "    # Changepoints 랜덤 생성\n",
    "    train_range = train_data['ds'].max() - train_data['ds'].min()\n",
    "    changepoints = sorted(random.sample(list(train_data['ds']), changepoints))\n",
    "\n",
    "    if growth == 'logistic':\n",
    "        train_data['cap'] = cap  # 용량 값 설정\n",
    "    \n",
    "    # Prophet 모델 생성 및 학습\n",
    "    model = Prophet(\n",
    "        changepoints=changepoints,\n",
    "        changepoint_range=changepoints_range,\n",
    "        seasonality_mode=seasonality_mode,\n",
    "        growth=growth,\n",
    "    )\n",
    "    \n",
    "    columns = regressors.split('_')\n",
    "    \n",
    "    for col in columns:\n",
    "        model.add_regressor(col)\n",
    "        \n",
    "    model.fit(train_data)\n",
    "\n",
    "    return model"
   ]
  },
  {
   "cell_type": "code",
   "execution_count": 13,
   "id": "e369d8bf",
   "metadata": {
    "execution": {
     "iopub.execute_input": "2024-04-08T07:37:49.360393Z",
     "iopub.status.busy": "2024-04-08T07:37:49.359797Z",
     "iopub.status.idle": "2024-04-08T07:37:49.366013Z",
     "shell.execute_reply": "2024-04-08T07:37:49.365183Z"
    },
    "papermill": {
     "duration": 0.018608,
     "end_time": "2024-04-08T07:37:49.367965",
     "exception": false,
     "start_time": "2024-04-08T07:37:49.349357",
     "status": "completed"
    },
    "tags": []
   },
   "outputs": [],
   "source": [
    "def test(model, test_data, total_data, regressors=[], growth='', cap=0, **kwargs):\n",
    "    columns = regressors.split('_')\n",
    "    \n",
    "    # 예측 및 평가\n",
    "    future = model.make_future_dataframe(periods=len(test_data), include_history=False)\n",
    "    \n",
    "    for col in columns:\n",
    "        future[col] = test_data[col].values\n",
    "        \n",
    "    if growth == 'logistic':\n",
    "        future['cap'] = cap  # 용량 값 설정\n",
    "    \n",
    "    forecast = model.predict(future)\n",
    "    rmse = np.sqrt(mean_squared_error(test_data[\"y\"], forecast[\"yhat\"]))\n",
    "\n",
    "    return rmse, forecast"
   ]
  },
  {
   "cell_type": "code",
   "execution_count": 14,
   "id": "969c20db",
   "metadata": {
    "execution": {
     "iopub.execute_input": "2024-04-08T07:37:49.388895Z",
     "iopub.status.busy": "2024-04-08T07:37:49.388222Z",
     "iopub.status.idle": "2024-04-08T07:37:49.395285Z",
     "shell.execute_reply": "2024-04-08T07:37:49.394490Z"
    },
    "papermill": {
     "duration": 0.019431,
     "end_time": "2024-04-08T07:37:49.397269",
     "exception": false,
     "start_time": "2024-04-08T07:37:49.377838",
     "status": "completed"
    },
    "tags": []
   },
   "outputs": [],
   "source": [
    "def objective(trial: Trial) -> float:\n",
    "    # 하이퍼파라미터 설정\n",
    "    changepoints = trial.suggest_int(\"changepoints\", 1, 10)\n",
    "    changepoints_range = trial.suggest_float(\"changepoints_range\", 0.8, 1.0)\n",
    "    seasonality_mode = trial.suggest_categorical(\"seasonality_mode\", [\"additive\", \"multiplicative\"])\n",
    "    growth = trial.suggest_categorical(\"growth\", [\"linear\", \"logistic\"])\n",
    "    \n",
    "    regressors = trial.suggest_categorical(\"regressors\", regressor_combinations)\n",
    "    \n",
    "    params = {'changepoints': changepoints, 'changepoints_range': changepoints_range, 'seasonality_mode': seasonality_mode, 'growth': growth, 'regressors': regressors}\n",
    "    \n",
    "    if growth == 'logistic':\n",
    "        cap = trial.suggest_float(\"cap\", 100, 1000)  # 용량 값 제공\n",
    "        params['cap'] = cap\n",
    "    \n",
    "    model = train(train_data, **params)\n",
    "    rmse, forecast = test(model, valid_data, train_valid_data, **params)\n",
    "    \n",
    "    return rmse"
   ]
  },
  {
   "cell_type": "code",
   "execution_count": 15,
   "id": "fd230e51",
   "metadata": {
    "execution": {
     "iopub.execute_input": "2024-04-08T07:37:49.419390Z",
     "iopub.status.busy": "2024-04-08T07:37:49.418683Z",
     "iopub.status.idle": "2024-04-08T07:39:59.603545Z",
     "shell.execute_reply": "2024-04-08T07:39:59.602617Z"
    },
    "papermill": {
     "duration": 130.222007,
     "end_time": "2024-04-08T07:39:59.629454",
     "exception": false,
     "start_time": "2024-04-08T07:37:49.407447",
     "status": "completed"
    },
    "tags": []
   },
   "outputs": [
    {
     "name": "stderr",
     "output_type": "stream",
     "text": [
      "[I 2024-04-08 07:37:49,421] A new study created in memory with name: no-name-d31660ef-8a5d-440e-961a-d7c068628d66\n",
      "07:37:50 - cmdstanpy - INFO - Chain [1] start processing\n",
      "07:37:51 - cmdstanpy - INFO - Chain [1] done processing\n",
      "[I 2024-04-08 07:37:52,176] Trial 0 finished with value: 5870.756074746698 and parameters: {'changepoints': 5, 'changepoints_range': 0.9464160123452768, 'seasonality_mode': 'multiplicative', 'growth': 'linear', 'regressors': 'USD/KRW_GDP_LIR_disease'}. Best is trial 0 with value: 5870.756074746698.\n",
      "07:37:52 - cmdstanpy - INFO - Chain [1] start processing\n",
      "07:37:53 - cmdstanpy - INFO - Chain [1] done processing\n",
      "[I 2024-04-08 07:37:54,164] Trial 1 finished with value: 258.8135280838077 and parameters: {'changepoints': 8, 'changepoints_range': 0.9587057019621733, 'seasonality_mode': 'additive', 'growth': 'linear', 'regressors': 'USD/KRW_IAIP_LIR_M1'}. Best is trial 1 with value: 258.8135280838077.\n",
      "07:37:54 - cmdstanpy - INFO - Chain [1] start processing\n",
      "07:37:54 - cmdstanpy - INFO - Chain [1] done processing\n",
      "[I 2024-04-08 07:37:59,685] Trial 2 finished with value: 3633.0565051080393 and parameters: {'changepoints': 9, 'changepoints_range': 0.989468981974172, 'seasonality_mode': 'multiplicative', 'growth': 'logistic', 'regressors': 'IAIP', 'cap': 148.40958974672705}. Best is trial 1 with value: 258.8135280838077.\n",
      "07:37:59 - cmdstanpy - INFO - Chain [1] start processing\n",
      "07:38:00 - cmdstanpy - INFO - Chain [1] done processing\n",
      "[I 2024-04-08 07:38:05,180] Trial 3 finished with value: 2552.7294855538253 and parameters: {'changepoints': 10, 'changepoints_range': 0.8411805284887435, 'seasonality_mode': 'additive', 'growth': 'logistic', 'regressors': 'IAIP_disease', 'cap': 769.5856555285512}. Best is trial 1 with value: 258.8135280838077.\n",
      "07:38:05 - cmdstanpy - INFO - Chain [1] start processing\n",
      "07:38:05 - cmdstanpy - INFO - Chain [1] done processing\n",
      "[I 2024-04-08 07:38:06,566] Trial 4 finished with value: 3801.983055175816 and parameters: {'changepoints': 1, 'changepoints_range': 0.9639239952603732, 'seasonality_mode': 'multiplicative', 'growth': 'linear', 'regressors': 'M1'}. Best is trial 1 with value: 258.8135280838077.\n",
      "07:38:06 - cmdstanpy - INFO - Chain [1] start processing\n",
      "07:38:07 - cmdstanpy - INFO - Chain [1] done processing\n",
      "[I 2024-04-08 07:38:07,966] Trial 5 finished with value: 2458.157249850084 and parameters: {'changepoints': 2, 'changepoints_range': 0.8914050326797471, 'seasonality_mode': 'multiplicative', 'growth': 'linear', 'regressors': 'GDP_M1_disease'}. Best is trial 1 with value: 258.8135280838077.\n",
      "07:38:08 - cmdstanpy - INFO - Chain [1] start processing\n",
      "07:38:08 - cmdstanpy - INFO - Chain [1] done processing\n",
      "[I 2024-04-08 07:38:13,584] Trial 6 finished with value: 3454.73195411773 and parameters: {'changepoints': 3, 'changepoints_range': 0.9003824899581948, 'seasonality_mode': 'additive', 'growth': 'logistic', 'regressors': 'USD/KRW_GDP_IAIP_disease', 'cap': 267.38882165686823}. Best is trial 1 with value: 258.8135280838077.\n",
      "07:38:13 - cmdstanpy - INFO - Chain [1] start processing\n",
      "07:38:14 - cmdstanpy - INFO - Chain [1] done processing\n",
      "07:38:14 - cmdstanpy - ERROR - Chain [1] error: error during processing Communication error on send\n",
      "07:38:14 - cmdstanpy - INFO - Chain [1] start processing\n",
      "07:38:16 - cmdstanpy - INFO - Chain [1] done processing\n",
      "[I 2024-04-08 07:38:16,942] Trial 7 finished with value: 1914.374309727508 and parameters: {'changepoints': 1, 'changepoints_range': 0.8191028927128701, 'seasonality_mode': 'additive', 'growth': 'linear', 'regressors': 'USD/KRW_GDP_IAIP'}. Best is trial 1 with value: 258.8135280838077.\n",
      "07:38:17 - cmdstanpy - INFO - Chain [1] start processing\n",
      "07:38:17 - cmdstanpy - INFO - Chain [1] done processing\n",
      "[I 2024-04-08 07:38:18,622] Trial 8 finished with value: 1474.0011261897396 and parameters: {'changepoints': 9, 'changepoints_range': 0.9018980213194814, 'seasonality_mode': 'additive', 'growth': 'linear', 'regressors': 'USD/KRW_GDP_IAIP_M1_disease'}. Best is trial 1 with value: 258.8135280838077.\n",
      "07:38:18 - cmdstanpy - INFO - Chain [1] start processing\n",
      "07:38:19 - cmdstanpy - INFO - Chain [1] done processing\n",
      "[I 2024-04-08 07:38:24,193] Trial 9 finished with value: 3214.505224877571 and parameters: {'changepoints': 7, 'changepoints_range': 0.8409163680221924, 'seasonality_mode': 'additive', 'growth': 'logistic', 'regressors': 'USD/KRW_GDP_LIR_disease', 'cap': 406.9557786521814}. Best is trial 1 with value: 258.8135280838077.\n",
      "07:38:24 - cmdstanpy - INFO - Chain [1] start processing\n",
      "07:38:24 - cmdstanpy - INFO - Chain [1] done processing\n",
      "[I 2024-04-08 07:38:25,532] Trial 10 finished with value: 1641.093770692926 and parameters: {'changepoints': 6, 'changepoints_range': 0.9994895846758941, 'seasonality_mode': 'additive', 'growth': 'linear', 'regressors': 'IAIP_LIR_disease'}. Best is trial 1 with value: 258.8135280838077.\n",
      "07:38:25 - cmdstanpy - INFO - Chain [1] start processing\n",
      "07:38:26 - cmdstanpy - INFO - Chain [1] done processing\n",
      "[I 2024-04-08 07:38:27,574] Trial 11 finished with value: 529.5908996941052 and parameters: {'changepoints': 8, 'changepoints_range': 0.9128324981737914, 'seasonality_mode': 'additive', 'growth': 'linear', 'regressors': 'USD/KRW_GDP_IAIP_M1_disease'}. Best is trial 1 with value: 258.8135280838077.\n",
      "07:38:27 - cmdstanpy - INFO - Chain [1] start processing\n",
      "07:38:28 - cmdstanpy - INFO - Chain [1] done processing\n",
      "[I 2024-04-08 07:38:29,013] Trial 12 finished with value: 285.436668722745 and parameters: {'changepoints': 7, 'changepoints_range': 0.9346935935159816, 'seasonality_mode': 'additive', 'growth': 'linear', 'regressors': 'USD/KRW_IAIP_LIR_M1'}. Best is trial 1 with value: 258.8135280838077.\n",
      "07:38:29 - cmdstanpy - INFO - Chain [1] start processing\n",
      "07:38:29 - cmdstanpy - INFO - Chain [1] done processing\n",
      "[I 2024-04-08 07:38:30,177] Trial 13 finished with value: 535.6866311658097 and parameters: {'changepoints': 5, 'changepoints_range': 0.9348987894449973, 'seasonality_mode': 'additive', 'growth': 'linear', 'regressors': 'USD/KRW_IAIP_LIR_M1'}. Best is trial 1 with value: 258.8135280838077.\n",
      "07:38:30 - cmdstanpy - INFO - Chain [1] start processing\n",
      "07:38:30 - cmdstanpy - INFO - Chain [1] done processing\n",
      "[I 2024-04-08 07:38:31,845] Trial 14 finished with value: 342.33611729441446 and parameters: {'changepoints': 7, 'changepoints_range': 0.9670964706850201, 'seasonality_mode': 'additive', 'growth': 'linear', 'regressors': 'USD/KRW_IAIP_M1_disease'}. Best is trial 1 with value: 258.8135280838077.\n",
      "07:38:32 - cmdstanpy - INFO - Chain [1] start processing\n",
      "07:38:32 - cmdstanpy - INFO - Chain [1] done processing\n",
      "[I 2024-04-08 07:38:32,991] Trial 15 finished with value: 656.4579452650709 and parameters: {'changepoints': 4, 'changepoints_range': 0.9350351102509288, 'seasonality_mode': 'additive', 'growth': 'linear', 'regressors': 'USD/KRW_IAIP_LIR_M1'}. Best is trial 1 with value: 258.8135280838077.\n",
      "07:38:33 - cmdstanpy - INFO - Chain [1] start processing\n",
      "07:38:33 - cmdstanpy - INFO - Chain [1] done processing\n",
      "[I 2024-04-08 07:38:34,276] Trial 16 finished with value: 1200.324509811098 and parameters: {'changepoints': 7, 'changepoints_range': 0.8733099710437322, 'seasonality_mode': 'additive', 'growth': 'linear', 'regressors': 'USD/KRW_LIR_disease'}. Best is trial 1 with value: 258.8135280838077.\n",
      "07:38:34 - cmdstanpy - INFO - Chain [1] start processing\n",
      "07:38:35 - cmdstanpy - INFO - Chain [1] done processing\n",
      "[I 2024-04-08 07:38:35,995] Trial 17 finished with value: 837.2332884512847 and parameters: {'changepoints': 10, 'changepoints_range': 0.9616049966733375, 'seasonality_mode': 'additive', 'growth': 'linear', 'regressors': 'LIR_M1_disease'}. Best is trial 1 with value: 258.8135280838077.\n",
      "07:38:36 - cmdstanpy - INFO - Chain [1] start processing\n",
      "07:38:36 - cmdstanpy - INFO - Chain [1] done processing\n",
      "[I 2024-04-08 07:38:41,464] Trial 18 finished with value: 2136.4189876132286 and parameters: {'changepoints': 8, 'changepoints_range': 0.9229118372670554, 'seasonality_mode': 'multiplicative', 'growth': 'logistic', 'regressors': 'USD/KRW_M1_disease', 'cap': 923.3866741088311}. Best is trial 1 with value: 258.8135280838077.\n",
      "07:38:41 - cmdstanpy - INFO - Chain [1] start processing\n",
      "07:38:41 - cmdstanpy - INFO - Chain [1] done processing\n",
      "07:38:41 - cmdstanpy - ERROR - Chain [1] error: error during processing Communication error on send\n",
      "07:38:42 - cmdstanpy - INFO - Chain [1] start processing\n",
      "07:38:44 - cmdstanpy - INFO - Chain [1] done processing\n",
      "[I 2024-04-08 07:38:44,958] Trial 19 finished with value: 1875.3912637798333 and parameters: {'changepoints': 6, 'changepoints_range': 0.8731418208306277, 'seasonality_mode': 'additive', 'growth': 'linear', 'regressors': 'GDP_IAIP'}. Best is trial 1 with value: 258.8135280838077.\n",
      "07:38:45 - cmdstanpy - INFO - Chain [1] start processing\n",
      "07:38:45 - cmdstanpy - INFO - Chain [1] done processing\n",
      "[I 2024-04-08 07:38:46,407] Trial 20 finished with value: 1280.2580093850218 and parameters: {'changepoints': 8, 'changepoints_range': 0.9866948892208517, 'seasonality_mode': 'additive', 'growth': 'linear', 'regressors': 'USD/KRW_IAIP'}. Best is trial 1 with value: 258.8135280838077.\n",
      "07:38:46 - cmdstanpy - INFO - Chain [1] start processing\n",
      "07:38:47 - cmdstanpy - INFO - Chain [1] done processing\n",
      "07:38:47 - cmdstanpy - ERROR - Chain [1] error: error during processing Communication error on send\n",
      "07:38:47 - cmdstanpy - INFO - Chain [1] start processing\n",
      "07:38:49 - cmdstanpy - INFO - Chain [1] done processing\n",
      "[I 2024-04-08 07:38:50,577] Trial 21 finished with value: 2252.383258055984 and parameters: {'changepoints': 7, 'changepoints_range': 0.9674686885844505, 'seasonality_mode': 'additive', 'growth': 'linear', 'regressors': 'USD/KRW_IAIP_M1_disease'}. Best is trial 1 with value: 258.8135280838077.\n",
      "07:38:50 - cmdstanpy - INFO - Chain [1] start processing\n",
      "07:38:51 - cmdstanpy - INFO - Chain [1] done processing\n",
      "[I 2024-04-08 07:38:51,935] Trial 22 finished with value: 1133.0853332552472 and parameters: {'changepoints': 7, 'changepoints_range': 0.9500861975825616, 'seasonality_mode': 'additive', 'growth': 'linear', 'regressors': 'USD/KRW_IAIP_LIR_M1'}. Best is trial 1 with value: 258.8135280838077.\n",
      "07:38:52 - cmdstanpy - INFO - Chain [1] start processing\n",
      "07:38:52 - cmdstanpy - INFO - Chain [1] done processing\n",
      "[I 2024-04-08 07:38:53,512] Trial 23 finished with value: 539.1308132560032 and parameters: {'changepoints': 6, 'changepoints_range': 0.9819324601049331, 'seasonality_mode': 'additive', 'growth': 'linear', 'regressors': 'USD/KRW_GDP_M1'}. Best is trial 1 with value: 258.8135280838077.\n",
      "07:38:53 - cmdstanpy - INFO - Chain [1] start processing\n",
      "07:38:54 - cmdstanpy - INFO - Chain [1] done processing\n",
      "[I 2024-04-08 07:38:55,436] Trial 24 finished with value: 365.59860461050533 and parameters: {'changepoints': 9, 'changepoints_range': 0.9714504455448495, 'seasonality_mode': 'additive', 'growth': 'linear', 'regressors': 'GDP_M1'}. Best is trial 1 with value: 258.8135280838077.\n",
      "07:38:55 - cmdstanpy - INFO - Chain [1] start processing\n",
      "07:38:56 - cmdstanpy - INFO - Chain [1] done processing\n",
      "[I 2024-04-08 07:38:57,020] Trial 25 finished with value: 839.6010980670816 and parameters: {'changepoints': 8, 'changepoints_range': 0.9473876362215615, 'seasonality_mode': 'additive', 'growth': 'linear', 'regressors': 'USD/KRW_IAIP_M1'}. Best is trial 1 with value: 258.8135280838077.\n",
      "07:38:57 - cmdstanpy - INFO - Chain [1] start processing\n",
      "07:38:57 - cmdstanpy - INFO - Chain [1] done processing\n",
      "07:38:57 - cmdstanpy - ERROR - Chain [1] error: error during processing Communication error on send\n",
      "07:38:58 - cmdstanpy - INFO - Chain [1] start processing\n",
      "07:39:04 - cmdstanpy - INFO - Chain [1] done processing\n",
      "[I 2024-04-08 07:39:09,044] Trial 26 finished with value: 3745.616135831018 and parameters: {'changepoints': 5, 'changepoints_range': 0.9222772056145025, 'seasonality_mode': 'multiplicative', 'growth': 'logistic', 'regressors': 'LIR', 'cap': 629.0577662473278}. Best is trial 1 with value: 258.8135280838077.\n",
      "07:39:09 - cmdstanpy - INFO - Chain [1] start processing\n",
      "07:39:09 - cmdstanpy - INFO - Chain [1] done processing\n",
      "[I 2024-04-08 07:39:10,404] Trial 27 finished with value: 834.2052841460735 and parameters: {'changepoints': 4, 'changepoints_range': 0.9318476313723312, 'seasonality_mode': 'additive', 'growth': 'linear', 'regressors': 'GDP_LIR_disease'}. Best is trial 1 with value: 258.8135280838077.\n",
      "07:39:10 - cmdstanpy - INFO - Chain [1] start processing\n",
      "07:39:11 - cmdstanpy - INFO - Chain [1] done processing\n",
      "[I 2024-04-08 07:39:11,824] Trial 28 finished with value: 416.50840372355043 and parameters: {'changepoints': 7, 'changepoints_range': 0.9522310172101832, 'seasonality_mode': 'additive', 'growth': 'linear', 'regressors': 'GDP_IAIP_LIR_disease'}. Best is trial 1 with value: 258.8135280838077.\n",
      "07:39:12 - cmdstanpy - INFO - Chain [1] start processing\n",
      "07:39:12 - cmdstanpy - INFO - Chain [1] done processing\n",
      "[I 2024-04-08 07:39:13,501] Trial 29 finished with value: 2559.333888818609 and parameters: {'changepoints': 6, 'changepoints_range': 0.9760751833617748, 'seasonality_mode': 'multiplicative', 'growth': 'linear', 'regressors': 'USD/KRW_GDP_LIR'}. Best is trial 1 with value: 258.8135280838077.\n",
      "07:39:13 - cmdstanpy - INFO - Chain [1] start processing\n",
      "07:39:14 - cmdstanpy - INFO - Chain [1] done processing\n",
      "07:39:14 - cmdstanpy - ERROR - Chain [1] error: error during processing Communication error on send\n",
      "07:39:14 - cmdstanpy - INFO - Chain [1] start processing\n",
      "07:39:18 - cmdstanpy - INFO - Chain [1] done processing\n",
      "[I 2024-04-08 07:39:18,674] Trial 30 finished with value: 1748.0536779890706 and parameters: {'changepoints': 9, 'changepoints_range': 0.9538998599933756, 'seasonality_mode': 'additive', 'growth': 'linear', 'regressors': 'USD/KRW_LIR'}. Best is trial 1 with value: 258.8135280838077.\n",
      "07:39:19 - cmdstanpy - INFO - Chain [1] start processing\n",
      "07:39:19 - cmdstanpy - INFO - Chain [1] done processing\n",
      "[I 2024-04-08 07:39:20,102] Trial 31 finished with value: 508.346640310836 and parameters: {'changepoints': 9, 'changepoints_range': 0.9738253465152596, 'seasonality_mode': 'additive', 'growth': 'linear', 'regressors': 'USD/KRW_LIR_M1'}. Best is trial 1 with value: 258.8135280838077.\n",
      "07:39:20 - cmdstanpy - INFO - Chain [1] start processing\n",
      "07:39:20 - cmdstanpy - INFO - Chain [1] done processing\n",
      "[I 2024-04-08 07:39:21,560] Trial 32 finished with value: 1742.0232102164907 and parameters: {'changepoints': 8, 'changepoints_range': 0.9996678466837036, 'seasonality_mode': 'additive', 'growth': 'linear', 'regressors': 'IAIP_LIR_M1_disease'}. Best is trial 1 with value: 258.8135280838077.\n",
      "07:39:21 - cmdstanpy - INFO - Chain [1] start processing\n",
      "07:39:23 - cmdstanpy - INFO - Chain [1] done processing\n",
      "[I 2024-04-08 07:39:23,666] Trial 33 finished with value: 556.5775343236265 and parameters: {'changepoints': 10, 'changepoints_range': 0.9414832650345124, 'seasonality_mode': 'additive', 'growth': 'linear', 'regressors': 'USD/KRW_GDP_IAIP_M1'}. Best is trial 1 with value: 258.8135280838077.\n",
      "07:39:23 - cmdstanpy - INFO - Chain [1] start processing\n",
      "07:39:24 - cmdstanpy - INFO - Chain [1] done processing\n",
      "[I 2024-04-08 07:39:29,016] Trial 34 finished with value: 2050.732277185449 and parameters: {'changepoints': 9, 'changepoints_range': 0.9655289752894508, 'seasonality_mode': 'multiplicative', 'growth': 'logistic', 'regressors': 'GDP_M1', 'cap': 998.0742795674352}. Best is trial 1 with value: 258.8135280838077.\n",
      "07:39:29 - cmdstanpy - INFO - Chain [1] start processing\n",
      "07:39:29 - cmdstanpy - INFO - Chain [1] done processing\n",
      "[I 2024-04-08 07:39:30,306] Trial 35 finished with value: 1033.3023162779457 and parameters: {'changepoints': 8, 'changepoints_range': 0.9885170049446693, 'seasonality_mode': 'additive', 'growth': 'linear', 'regressors': 'USD/KRW_GDP_IAIP_LIR_disease'}. Best is trial 1 with value: 258.8135280838077.\n",
      "07:39:30 - cmdstanpy - INFO - Chain [1] start processing\n",
      "07:39:31 - cmdstanpy - INFO - Chain [1] done processing\n",
      "[I 2024-04-08 07:39:31,637] Trial 36 finished with value: 892.6430505011239 and parameters: {'changepoints': 10, 'changepoints_range': 0.9613924205873007, 'seasonality_mode': 'additive', 'growth': 'linear', 'regressors': 'USD/KRW_IAIP_LIR_disease'}. Best is trial 1 with value: 258.8135280838077.\n",
      "07:39:31 - cmdstanpy - INFO - Chain [1] start processing\n",
      "07:39:32 - cmdstanpy - INFO - Chain [1] done processing\n",
      "[I 2024-04-08 07:39:36,960] Trial 37 finished with value: 2961.7898762398136 and parameters: {'changepoints': 7, 'changepoints_range': 0.9191369645532537, 'seasonality_mode': 'multiplicative', 'growth': 'logistic', 'regressors': 'IAIP_M1_disease', 'cap': 494.76835265505525}. Best is trial 1 with value: 258.8135280838077.\n",
      "07:39:37 - cmdstanpy - INFO - Chain [1] start processing\n",
      "07:39:37 - cmdstanpy - INFO - Chain [1] done processing\n",
      "[I 2024-04-08 07:39:38,189] Trial 38 finished with value: 1442.5633286073573 and parameters: {'changepoints': 9, 'changepoints_range': 0.9778710717090513, 'seasonality_mode': 'additive', 'growth': 'linear', 'regressors': 'USD/KRW_GDP_M1_disease'}. Best is trial 1 with value: 258.8135280838077.\n",
      "07:39:38 - cmdstanpy - INFO - Chain [1] start processing\n",
      "07:39:39 - cmdstanpy - INFO - Chain [1] done processing\n",
      "[I 2024-04-08 07:39:39,628] Trial 39 finished with value: 364.1865983442525 and parameters: {'changepoints': 8, 'changepoints_range': 0.9392696180841433, 'seasonality_mode': 'additive', 'growth': 'linear', 'regressors': 'USD/KRW_LIR_M1_disease'}. Best is trial 1 with value: 258.8135280838077.\n",
      "07:39:39 - cmdstanpy - INFO - Chain [1] start processing\n",
      "07:39:40 - cmdstanpy - INFO - Chain [1] done processing\n",
      "[I 2024-04-08 07:39:45,651] Trial 40 finished with value: 2565.938617645063 and parameters: {'changepoints': 6, 'changepoints_range': 0.886170068079382, 'seasonality_mode': 'additive', 'growth': 'logistic', 'regressors': 'LIR_M1', 'cap': 682.6106362499111}. Best is trial 1 with value: 258.8135280838077.\n",
      "07:39:45 - cmdstanpy - INFO - Chain [1] start processing\n",
      "07:39:46 - cmdstanpy - INFO - Chain [1] done processing\n",
      "[I 2024-04-08 07:39:46,954] Trial 41 finished with value: 1025.6790803989645 and parameters: {'changepoints': 8, 'changepoints_range': 0.940900032187668, 'seasonality_mode': 'additive', 'growth': 'linear', 'regressors': 'USD/KRW_LIR_M1_disease'}. Best is trial 1 with value: 258.8135280838077.\n",
      "07:39:47 - cmdstanpy - INFO - Chain [1] start processing\n",
      "07:39:47 - cmdstanpy - INFO - Chain [1] done processing\n",
      "[I 2024-04-08 07:39:48,360] Trial 42 finished with value: 1251.3028516773973 and parameters: {'changepoints': 7, 'changepoints_range': 0.9093882769842578, 'seasonality_mode': 'additive', 'growth': 'linear', 'regressors': 'USD/KRW_IAIP_LIR_M1_disease'}. Best is trial 1 with value: 258.8135280838077.\n",
      "07:39:48 - cmdstanpy - INFO - Chain [1] start processing\n",
      "07:39:49 - cmdstanpy - INFO - Chain [1] done processing\n",
      "[I 2024-04-08 07:39:49,724] Trial 43 finished with value: 1251.3586895210985 and parameters: {'changepoints': 9, 'changepoints_range': 0.804344249583469, 'seasonality_mode': 'additive', 'growth': 'linear', 'regressors': 'USD/KRW'}. Best is trial 1 with value: 258.8135280838077.\n",
      "07:39:50 - cmdstanpy - INFO - Chain [1] start processing\n",
      "07:39:50 - cmdstanpy - INFO - Chain [1] done processing\n",
      "[I 2024-04-08 07:39:51,308] Trial 44 finished with value: 440.88280284146566 and parameters: {'changepoints': 8, 'changepoints_range': 0.9569489120435306, 'seasonality_mode': 'additive', 'growth': 'linear', 'regressors': 'USD/KRW_disease'}. Best is trial 1 with value: 258.8135280838077.\n",
      "07:39:51 - cmdstanpy - INFO - Chain [1] start processing\n",
      "07:39:52 - cmdstanpy - INFO - Chain [1] done processing\n",
      "[I 2024-04-08 07:39:52,760] Trial 45 finished with value: 1206.5588917291345 and parameters: {'changepoints': 10, 'changepoints_range': 0.9712095113961983, 'seasonality_mode': 'additive', 'growth': 'linear', 'regressors': 'USD/KRW_IAIP_LIR'}. Best is trial 1 with value: 258.8135280838077.\n",
      "07:39:53 - cmdstanpy - INFO - Chain [1] start processing\n",
      "07:39:53 - cmdstanpy - INFO - Chain [1] done processing\n",
      "[I 2024-04-08 07:39:54,257] Trial 46 finished with value: 369.46411845044025 and parameters: {'changepoints': 9, 'changepoints_range': 0.9275534431337205, 'seasonality_mode': 'additive', 'growth': 'linear', 'regressors': 'USD/KRW_GDP_LIR_M1'}. Best is trial 1 with value: 258.8135280838077.\n",
      "07:39:54 - cmdstanpy - INFO - Chain [1] start processing\n",
      "07:39:55 - cmdstanpy - INFO - Chain [1] done processing\n",
      "[I 2024-04-08 07:39:56,049] Trial 47 finished with value: 853.0175116895698 and parameters: {'changepoints': 7, 'changepoints_range': 0.9406745641824715, 'seasonality_mode': 'additive', 'growth': 'linear', 'regressors': 'GDP_IAIP_LIR_M1_disease'}. Best is trial 1 with value: 258.8135280838077.\n",
      "07:39:56 - cmdstanpy - INFO - Chain [1] start processing\n",
      "07:39:57 - cmdstanpy - INFO - Chain [1] done processing\n",
      "[I 2024-04-08 07:39:58,370] Trial 48 finished with value: 3252.1883539586 and parameters: {'changepoints': 6, 'changepoints_range': 0.9084873734248274, 'seasonality_mode': 'multiplicative', 'growth': 'linear', 'regressors': 'USD/KRW_GDP_LIR_M1_disease'}. Best is trial 1 with value: 258.8135280838077.\n",
      "07:39:58 - cmdstanpy - INFO - Chain [1] start processing\n",
      "07:39:59 - cmdstanpy - INFO - Chain [1] done processing\n",
      "[I 2024-04-08 07:39:59,599] Trial 49 finished with value: 498.5915021614712 and parameters: {'changepoints': 8, 'changepoints_range': 0.9934664072196552, 'seasonality_mode': 'additive', 'growth': 'linear', 'regressors': 'IAIP_M1'}. Best is trial 1 with value: 258.8135280838077.\n"
     ]
    },
    {
     "name": "stdout",
     "output_type": "stream",
     "text": [
      "최적의 하이퍼파라미터: {'changepoints': 8, 'changepoints_range': 0.9587057019621733, 'seasonality_mode': 'additive', 'growth': 'linear', 'regressors': 'USD/KRW_IAIP_LIR_M1'}\n"
     ]
    }
   ],
   "source": [
    "study = optuna.create_study(direction=\"minimize\")\n",
    "study.optimize(objective, n_trials=50)\n",
    "\n",
    "best_params = study.best_params\n",
    "print(f\"최적의 하이퍼파라미터: {best_params}\")"
   ]
  },
  {
   "cell_type": "code",
   "execution_count": 16,
   "id": "50015cab",
   "metadata": {
    "execution": {
     "iopub.execute_input": "2024-04-08T07:39:59.677957Z",
     "iopub.status.busy": "2024-04-08T07:39:59.677622Z",
     "iopub.status.idle": "2024-04-08T07:40:00.643869Z",
     "shell.execute_reply": "2024-04-08T07:40:00.643115Z"
    },
    "papermill": {
     "duration": 0.993792,
     "end_time": "2024-04-08T07:40:00.646186",
     "exception": false,
     "start_time": "2024-04-08T07:39:59.652394",
     "status": "completed"
    },
    "tags": []
   },
   "outputs": [
    {
     "name": "stderr",
     "output_type": "stream",
     "text": [
      "07:40:00 - cmdstanpy - INFO - Chain [1] start processing\n",
      "07:40:00 - cmdstanpy - INFO - Chain [1] done processing\n"
     ]
    }
   ],
   "source": [
    "model = train(train_valid_data, **best_params)  "
   ]
  },
  {
   "cell_type": "code",
   "execution_count": 17,
   "id": "d20595d0",
   "metadata": {
    "execution": {
     "iopub.execute_input": "2024-04-08T07:40:00.695669Z",
     "iopub.status.busy": "2024-04-08T07:40:00.694949Z",
     "iopub.status.idle": "2024-04-08T07:40:01.074016Z",
     "shell.execute_reply": "2024-04-08T07:40:01.073225Z"
    },
    "papermill": {
     "duration": 0.405696,
     "end_time": "2024-04-08T07:40:01.076272",
     "exception": false,
     "start_time": "2024-04-08T07:40:00.670576",
     "status": "completed"
    },
    "tags": []
   },
   "outputs": [],
   "source": [
    "rmse, forecast = test(model, test_data, data, **best_params)"
   ]
  },
  {
   "cell_type": "code",
   "execution_count": 18,
   "id": "f58bfb18",
   "metadata": {
    "execution": {
     "iopub.execute_input": "2024-04-08T07:40:01.124986Z",
     "iopub.status.busy": "2024-04-08T07:40:01.124327Z",
     "iopub.status.idle": "2024-04-08T07:40:01.130385Z",
     "shell.execute_reply": "2024-04-08T07:40:01.129537Z"
    },
    "papermill": {
     "duration": 0.032205,
     "end_time": "2024-04-08T07:40:01.132320",
     "exception": false,
     "start_time": "2024-04-08T07:40:01.100115",
     "status": "completed"
    },
    "tags": []
   },
   "outputs": [],
   "source": [
    "forecast['ds'].iloc[:] = pd.to_datetime(test_data['ds']).iloc[:]"
   ]
  },
  {
   "cell_type": "code",
   "execution_count": 19,
   "id": "e129c2eb",
   "metadata": {
    "execution": {
     "iopub.execute_input": "2024-04-08T07:40:01.236163Z",
     "iopub.status.busy": "2024-04-08T07:40:01.234961Z",
     "iopub.status.idle": "2024-04-08T07:40:01.244362Z",
     "shell.execute_reply": "2024-04-08T07:40:01.243196Z"
    },
    "papermill": {
     "duration": 0.046454,
     "end_time": "2024-04-08T07:40:01.246917",
     "exception": false,
     "start_time": "2024-04-08T07:40:01.200463",
     "status": "completed"
    },
    "tags": []
   },
   "outputs": [
    {
     "data": {
      "text/plain": [
       "0     2022-01-04\n",
       "1     2022-01-05\n",
       "2     2022-01-06\n",
       "3     2022-01-07\n",
       "4     2022-01-10\n",
       "         ...    \n",
       "239   2022-12-23\n",
       "240   2022-12-26\n",
       "241   2022-12-27\n",
       "242   2022-12-28\n",
       "243   2022-12-29\n",
       "Name: ds, Length: 244, dtype: datetime64[ns]"
      ]
     },
     "execution_count": 19,
     "metadata": {},
     "output_type": "execute_result"
    }
   ],
   "source": [
    "forecast['ds']"
   ]
  },
  {
   "cell_type": "code",
   "execution_count": 20,
   "id": "87a5a3c6",
   "metadata": {
    "execution": {
     "iopub.execute_input": "2024-04-08T07:40:01.299153Z",
     "iopub.status.busy": "2024-04-08T07:40:01.298845Z",
     "iopub.status.idle": "2024-04-08T07:40:01.333580Z",
     "shell.execute_reply": "2024-04-08T07:40:01.332698Z"
    },
    "papermill": {
     "duration": 0.061615,
     "end_time": "2024-04-08T07:40:01.335945",
     "exception": false,
     "start_time": "2024-04-08T07:40:01.274330",
     "status": "completed"
    },
    "tags": []
   },
   "outputs": [
    {
     "data": {
      "text/html": [
       "<div>\n",
       "<style scoped>\n",
       "    .dataframe tbody tr th:only-of-type {\n",
       "        vertical-align: middle;\n",
       "    }\n",
       "\n",
       "    .dataframe tbody tr th {\n",
       "        vertical-align: top;\n",
       "    }\n",
       "\n",
       "    .dataframe thead th {\n",
       "        text-align: right;\n",
       "    }\n",
       "</style>\n",
       "<table border=\"1\" class=\"dataframe\">\n",
       "  <thead>\n",
       "    <tr style=\"text-align: right;\">\n",
       "      <th></th>\n",
       "      <th>ds</th>\n",
       "      <th>trend</th>\n",
       "      <th>yhat_lower</th>\n",
       "      <th>yhat_upper</th>\n",
       "      <th>trend_lower</th>\n",
       "      <th>trend_upper</th>\n",
       "      <th>IAIP</th>\n",
       "      <th>IAIP_lower</th>\n",
       "      <th>IAIP_upper</th>\n",
       "      <th>LIR</th>\n",
       "      <th>...</th>\n",
       "      <th>weekly</th>\n",
       "      <th>weekly_lower</th>\n",
       "      <th>weekly_upper</th>\n",
       "      <th>yearly</th>\n",
       "      <th>yearly_lower</th>\n",
       "      <th>yearly_upper</th>\n",
       "      <th>multiplicative_terms</th>\n",
       "      <th>multiplicative_terms_lower</th>\n",
       "      <th>multiplicative_terms_upper</th>\n",
       "      <th>yhat</th>\n",
       "    </tr>\n",
       "  </thead>\n",
       "  <tbody>\n",
       "    <tr>\n",
       "      <th>0</th>\n",
       "      <td>2022-01-04</td>\n",
       "      <td>1125.401384</td>\n",
       "      <td>2968.124711</td>\n",
       "      <td>3218.736555</td>\n",
       "      <td>1125.401384</td>\n",
       "      <td>1125.401384</td>\n",
       "      <td>56.580307</td>\n",
       "      <td>56.580307</td>\n",
       "      <td>56.580307</td>\n",
       "      <td>-32.667755</td>\n",
       "      <td>...</td>\n",
       "      <td>121.986896</td>\n",
       "      <td>121.986896</td>\n",
       "      <td>121.986896</td>\n",
       "      <td>-27.836368</td>\n",
       "      <td>-27.836368</td>\n",
       "      <td>-27.836368</td>\n",
       "      <td>0.0</td>\n",
       "      <td>0.0</td>\n",
       "      <td>0.0</td>\n",
       "      <td>3092.522907</td>\n",
       "    </tr>\n",
       "    <tr>\n",
       "      <th>1</th>\n",
       "      <td>2022-01-05</td>\n",
       "      <td>1124.905634</td>\n",
       "      <td>2534.305148</td>\n",
       "      <td>2800.307781</td>\n",
       "      <td>1124.905634</td>\n",
       "      <td>1124.905634</td>\n",
       "      <td>56.580307</td>\n",
       "      <td>56.580307</td>\n",
       "      <td>56.580307</td>\n",
       "      <td>-32.667755</td>\n",
       "      <td>...</td>\n",
       "      <td>-301.363594</td>\n",
       "      <td>-301.363594</td>\n",
       "      <td>-301.363594</td>\n",
       "      <td>-21.449689</td>\n",
       "      <td>-21.449689</td>\n",
       "      <td>-21.449689</td>\n",
       "      <td>0.0</td>\n",
       "      <td>0.0</td>\n",
       "      <td>0.0</td>\n",
       "      <td>2670.741329</td>\n",
       "    </tr>\n",
       "    <tr>\n",
       "      <th>2</th>\n",
       "      <td>2022-01-06</td>\n",
       "      <td>1124.409884</td>\n",
       "      <td>2545.299959</td>\n",
       "      <td>2813.212078</td>\n",
       "      <td>1124.409884</td>\n",
       "      <td>1124.409884</td>\n",
       "      <td>56.580307</td>\n",
       "      <td>56.580307</td>\n",
       "      <td>56.580307</td>\n",
       "      <td>-32.667755</td>\n",
       "      <td>...</td>\n",
       "      <td>-301.363627</td>\n",
       "      <td>-301.363627</td>\n",
       "      <td>-301.363627</td>\n",
       "      <td>-15.198305</td>\n",
       "      <td>-15.198305</td>\n",
       "      <td>-15.198305</td>\n",
       "      <td>0.0</td>\n",
       "      <td>0.0</td>\n",
       "      <td>0.0</td>\n",
       "      <td>2669.966214</td>\n",
       "    </tr>\n",
       "    <tr>\n",
       "      <th>3</th>\n",
       "      <td>2022-01-07</td>\n",
       "      <td>1123.914134</td>\n",
       "      <td>2956.141933</td>\n",
       "      <td>3201.323593</td>\n",
       "      <td>1123.914134</td>\n",
       "      <td>1123.914134</td>\n",
       "      <td>56.580307</td>\n",
       "      <td>56.580307</td>\n",
       "      <td>56.580307</td>\n",
       "      <td>-32.667755</td>\n",
       "      <td>...</td>\n",
       "      <td>115.551265</td>\n",
       "      <td>115.551265</td>\n",
       "      <td>115.551265</td>\n",
       "      <td>-9.147910</td>\n",
       "      <td>-9.147910</td>\n",
       "      <td>-9.147910</td>\n",
       "      <td>0.0</td>\n",
       "      <td>0.0</td>\n",
       "      <td>0.0</td>\n",
       "      <td>3076.928204</td>\n",
       "    </tr>\n",
       "    <tr>\n",
       "      <th>4</th>\n",
       "      <td>2022-01-10</td>\n",
       "      <td>1123.418385</td>\n",
       "      <td>2983.990390</td>\n",
       "      <td>3229.063013</td>\n",
       "      <td>1123.418385</td>\n",
       "      <td>1123.418385</td>\n",
       "      <td>56.580307</td>\n",
       "      <td>56.580307</td>\n",
       "      <td>56.580307</td>\n",
       "      <td>-32.667755</td>\n",
       "      <td>...</td>\n",
       "      <td>122.901838</td>\n",
       "      <td>122.901838</td>\n",
       "      <td>122.901838</td>\n",
       "      <td>-3.358327</td>\n",
       "      <td>-3.358327</td>\n",
       "      <td>-3.358327</td>\n",
       "      <td>0.0</td>\n",
       "      <td>0.0</td>\n",
       "      <td>0.0</td>\n",
       "      <td>3110.708435</td>\n",
       "    </tr>\n",
       "    <tr>\n",
       "      <th>...</th>\n",
       "      <td>...</td>\n",
       "      <td>...</td>\n",
       "      <td>...</td>\n",
       "      <td>...</td>\n",
       "      <td>...</td>\n",
       "      <td>...</td>\n",
       "      <td>...</td>\n",
       "      <td>...</td>\n",
       "      <td>...</td>\n",
       "      <td>...</td>\n",
       "      <td>...</td>\n",
       "      <td>...</td>\n",
       "      <td>...</td>\n",
       "      <td>...</td>\n",
       "      <td>...</td>\n",
       "      <td>...</td>\n",
       "      <td>...</td>\n",
       "      <td>...</td>\n",
       "      <td>...</td>\n",
       "      <td>...</td>\n",
       "      <td>...</td>\n",
       "    </tr>\n",
       "    <tr>\n",
       "      <th>239</th>\n",
       "      <td>2022-12-23</td>\n",
       "      <td>1006.917185</td>\n",
       "      <td>2079.775333</td>\n",
       "      <td>2342.536919</td>\n",
       "      <td>986.618142</td>\n",
       "      <td>1034.507773</td>\n",
       "      <td>176.851254</td>\n",
       "      <td>176.851254</td>\n",
       "      <td>176.851254</td>\n",
       "      <td>99.519117</td>\n",
       "      <td>...</td>\n",
       "      <td>-301.363594</td>\n",
       "      <td>-301.363594</td>\n",
       "      <td>-301.363594</td>\n",
       "      <td>7.381638</td>\n",
       "      <td>7.381638</td>\n",
       "      <td>7.381638</td>\n",
       "      <td>0.0</td>\n",
       "      <td>0.0</td>\n",
       "      <td>0.0</td>\n",
       "      <td>2218.897135</td>\n",
       "    </tr>\n",
       "    <tr>\n",
       "      <th>240</th>\n",
       "      <td>2022-12-26</td>\n",
       "      <td>1006.421435</td>\n",
       "      <td>2104.416331</td>\n",
       "      <td>2378.804124</td>\n",
       "      <td>986.006621</td>\n",
       "      <td>1034.343090</td>\n",
       "      <td>176.851254</td>\n",
       "      <td>176.851254</td>\n",
       "      <td>176.851254</td>\n",
       "      <td>99.519117</td>\n",
       "      <td>...</td>\n",
       "      <td>-301.363627</td>\n",
       "      <td>-301.363627</td>\n",
       "      <td>-301.363627</td>\n",
       "      <td>7.022908</td>\n",
       "      <td>7.022908</td>\n",
       "      <td>7.022908</td>\n",
       "      <td>0.0</td>\n",
       "      <td>0.0</td>\n",
       "      <td>0.0</td>\n",
       "      <td>2244.070396</td>\n",
       "    </tr>\n",
       "    <tr>\n",
       "      <th>241</th>\n",
       "      <td>2022-12-27</td>\n",
       "      <td>1005.925685</td>\n",
       "      <td>2534.235561</td>\n",
       "      <td>2808.693056</td>\n",
       "      <td>985.368056</td>\n",
       "      <td>1034.178406</td>\n",
       "      <td>176.851254</td>\n",
       "      <td>176.851254</td>\n",
       "      <td>176.851254</td>\n",
       "      <td>99.519117</td>\n",
       "      <td>...</td>\n",
       "      <td>115.551265</td>\n",
       "      <td>115.551265</td>\n",
       "      <td>115.551265</td>\n",
       "      <td>6.875477</td>\n",
       "      <td>6.875477</td>\n",
       "      <td>6.875477</td>\n",
       "      <td>0.0</td>\n",
       "      <td>0.0</td>\n",
       "      <td>0.0</td>\n",
       "      <td>2670.102522</td>\n",
       "    </tr>\n",
       "    <tr>\n",
       "      <th>242</th>\n",
       "      <td>2022-12-28</td>\n",
       "      <td>1005.429936</td>\n",
       "      <td>2544.184734</td>\n",
       "      <td>2824.767203</td>\n",
       "      <td>984.747270</td>\n",
       "      <td>1034.013723</td>\n",
       "      <td>176.851254</td>\n",
       "      <td>176.851254</td>\n",
       "      <td>176.851254</td>\n",
       "      <td>99.519117</td>\n",
       "      <td>...</td>\n",
       "      <td>122.901838</td>\n",
       "      <td>122.901838</td>\n",
       "      <td>122.901838</td>\n",
       "      <td>6.941928</td>\n",
       "      <td>6.941928</td>\n",
       "      <td>6.941928</td>\n",
       "      <td>0.0</td>\n",
       "      <td>0.0</td>\n",
       "      <td>0.0</td>\n",
       "      <td>2683.791935</td>\n",
       "    </tr>\n",
       "    <tr>\n",
       "      <th>243</th>\n",
       "      <td>2022-12-29</td>\n",
       "      <td>1004.934186</td>\n",
       "      <td>2533.488112</td>\n",
       "      <td>2808.992215</td>\n",
       "      <td>984.134208</td>\n",
       "      <td>1033.849039</td>\n",
       "      <td>176.851254</td>\n",
       "      <td>176.851254</td>\n",
       "      <td>176.851254</td>\n",
       "      <td>99.519117</td>\n",
       "      <td>...</td>\n",
       "      <td>121.007004</td>\n",
       "      <td>121.007004</td>\n",
       "      <td>121.007004</td>\n",
       "      <td>7.220412</td>\n",
       "      <td>7.220412</td>\n",
       "      <td>7.220412</td>\n",
       "      <td>0.0</td>\n",
       "      <td>0.0</td>\n",
       "      <td>0.0</td>\n",
       "      <td>2676.835429</td>\n",
       "    </tr>\n",
       "  </tbody>\n",
       "</table>\n",
       "<p>244 rows × 34 columns</p>\n",
       "</div>"
      ],
      "text/plain": [
       "            ds        trend   yhat_lower   yhat_upper  trend_lower  \\\n",
       "0   2022-01-04  1125.401384  2968.124711  3218.736555  1125.401384   \n",
       "1   2022-01-05  1124.905634  2534.305148  2800.307781  1124.905634   \n",
       "2   2022-01-06  1124.409884  2545.299959  2813.212078  1124.409884   \n",
       "3   2022-01-07  1123.914134  2956.141933  3201.323593  1123.914134   \n",
       "4   2022-01-10  1123.418385  2983.990390  3229.063013  1123.418385   \n",
       "..         ...          ...          ...          ...          ...   \n",
       "239 2022-12-23  1006.917185  2079.775333  2342.536919   986.618142   \n",
       "240 2022-12-26  1006.421435  2104.416331  2378.804124   986.006621   \n",
       "241 2022-12-27  1005.925685  2534.235561  2808.693056   985.368056   \n",
       "242 2022-12-28  1005.429936  2544.184734  2824.767203   984.747270   \n",
       "243 2022-12-29  1004.934186  2533.488112  2808.992215   984.134208   \n",
       "\n",
       "     trend_upper        IAIP  IAIP_lower  IAIP_upper        LIR  ...  \\\n",
       "0    1125.401384   56.580307   56.580307   56.580307 -32.667755  ...   \n",
       "1    1124.905634   56.580307   56.580307   56.580307 -32.667755  ...   \n",
       "2    1124.409884   56.580307   56.580307   56.580307 -32.667755  ...   \n",
       "3    1123.914134   56.580307   56.580307   56.580307 -32.667755  ...   \n",
       "4    1123.418385   56.580307   56.580307   56.580307 -32.667755  ...   \n",
       "..           ...         ...         ...         ...        ...  ...   \n",
       "239  1034.507773  176.851254  176.851254  176.851254  99.519117  ...   \n",
       "240  1034.343090  176.851254  176.851254  176.851254  99.519117  ...   \n",
       "241  1034.178406  176.851254  176.851254  176.851254  99.519117  ...   \n",
       "242  1034.013723  176.851254  176.851254  176.851254  99.519117  ...   \n",
       "243  1033.849039  176.851254  176.851254  176.851254  99.519117  ...   \n",
       "\n",
       "         weekly  weekly_lower  weekly_upper     yearly  yearly_lower  \\\n",
       "0    121.986896    121.986896    121.986896 -27.836368    -27.836368   \n",
       "1   -301.363594   -301.363594   -301.363594 -21.449689    -21.449689   \n",
       "2   -301.363627   -301.363627   -301.363627 -15.198305    -15.198305   \n",
       "3    115.551265    115.551265    115.551265  -9.147910     -9.147910   \n",
       "4    122.901838    122.901838    122.901838  -3.358327     -3.358327   \n",
       "..          ...           ...           ...        ...           ...   \n",
       "239 -301.363594   -301.363594   -301.363594   7.381638      7.381638   \n",
       "240 -301.363627   -301.363627   -301.363627   7.022908      7.022908   \n",
       "241  115.551265    115.551265    115.551265   6.875477      6.875477   \n",
       "242  122.901838    122.901838    122.901838   6.941928      6.941928   \n",
       "243  121.007004    121.007004    121.007004   7.220412      7.220412   \n",
       "\n",
       "     yearly_upper  multiplicative_terms  multiplicative_terms_lower  \\\n",
       "0      -27.836368                   0.0                         0.0   \n",
       "1      -21.449689                   0.0                         0.0   \n",
       "2      -15.198305                   0.0                         0.0   \n",
       "3       -9.147910                   0.0                         0.0   \n",
       "4       -3.358327                   0.0                         0.0   \n",
       "..            ...                   ...                         ...   \n",
       "239      7.381638                   0.0                         0.0   \n",
       "240      7.022908                   0.0                         0.0   \n",
       "241      6.875477                   0.0                         0.0   \n",
       "242      6.941928                   0.0                         0.0   \n",
       "243      7.220412                   0.0                         0.0   \n",
       "\n",
       "     multiplicative_terms_upper         yhat  \n",
       "0                           0.0  3092.522907  \n",
       "1                           0.0  2670.741329  \n",
       "2                           0.0  2669.966214  \n",
       "3                           0.0  3076.928204  \n",
       "4                           0.0  3110.708435  \n",
       "..                          ...          ...  \n",
       "239                         0.0  2218.897135  \n",
       "240                         0.0  2244.070396  \n",
       "241                         0.0  2670.102522  \n",
       "242                         0.0  2683.791935  \n",
       "243                         0.0  2676.835429  \n",
       "\n",
       "[244 rows x 34 columns]"
      ]
     },
     "execution_count": 20,
     "metadata": {},
     "output_type": "execute_result"
    }
   ],
   "source": [
    "forecast"
   ]
  },
  {
   "cell_type": "code",
   "execution_count": 21,
   "id": "a8d3feba",
   "metadata": {
    "execution": {
     "iopub.execute_input": "2024-04-08T07:40:01.388680Z",
     "iopub.status.busy": "2024-04-08T07:40:01.388403Z",
     "iopub.status.idle": "2024-04-08T07:40:01.723850Z",
     "shell.execute_reply": "2024-04-08T07:40:01.723053Z"
    },
    "papermill": {
     "duration": 0.363581,
     "end_time": "2024-04-08T07:40:01.726090",
     "exception": false,
     "start_time": "2024-04-08T07:40:01.362509",
     "status": "completed"
    },
    "tags": []
   },
   "outputs": [
    {
     "data": {
      "image/png": "[encoded data removed]",
      "text/plain": [
       "<Figure size 640x480 with 1 Axes>"
      ]
     },
     "metadata": {},
     "output_type": "display_data"
    }
   ],
   "source": [
    "plt.plot(forecast['ds'], forecast['yhat'], label='Predicted', color='red')\n",
    "plt.show()"
   ]
  },
  {
   "cell_type": "code",
   "execution_count": 22,
   "id": "b815a532",
   "metadata": {
    "execution": {
     "iopub.execute_input": "2024-04-08T07:40:01.779156Z",
     "iopub.status.busy": "2024-04-08T07:40:01.778528Z",
     "iopub.status.idle": "2024-04-08T07:40:01.784429Z",
     "shell.execute_reply": "2024-04-08T07:40:01.783506Z"
    },
    "papermill": {
     "duration": 0.035076,
     "end_time": "2024-04-08T07:40:01.786486",
     "exception": false,
     "start_time": "2024-04-08T07:40:01.751410",
     "status": "completed"
    },
    "tags": []
   },
   "outputs": [],
   "source": [
    "temp = data[data['ds'] >'2020-01-01']"
   ]
  },
  {
   "cell_type": "code",
   "execution_count": 23,
   "id": "42c1fa52",
   "metadata": {
    "execution": {
     "iopub.execute_input": "2024-04-08T07:40:01.836358Z",
     "iopub.status.busy": "2024-04-08T07:40:01.835797Z",
     "iopub.status.idle": "2024-04-08T07:40:01.841334Z",
     "shell.execute_reply": "2024-04-08T07:40:01.840477Z"
    },
    "papermill": {
     "duration": 0.032256,
     "end_time": "2024-04-08T07:40:01.843189",
     "exception": false,
     "start_time": "2024-04-08T07:40:01.810933",
     "status": "completed"
    },
    "tags": []
   },
   "outputs": [],
   "source": [
    "def plot_stock_forecast(data, forecast):\n",
    "    plt.figure(figsize=(12, 6))\n",
    "    plt.plot(forecast['ds'], forecast['yhat'], label='Predicted', color='red')\n",
    "    plt.plot(data['ds'], data['y'], label='Actual', color='blue')\n",
    "#     plt.fill_between(forecast['ds'], forecast['yhat_lower'], forecast['yhat_upper'], color='pink', alpha=0.5)\n",
    "    plt.title('Stock Price Forecast')\n",
    "    plt.xlabel('Date')\n",
    "    plt.ylabel('Price')\n",
    "    plt.legend()\n",
    "    plt.show()"
   ]
  },
  {
   "cell_type": "code",
   "execution_count": 24,
   "id": "0247bb3e",
   "metadata": {
    "execution": {
     "iopub.execute_input": "2024-04-08T07:40:01.892131Z",
     "iopub.status.busy": "2024-04-08T07:40:01.891855Z",
     "iopub.status.idle": "2024-04-08T07:40:02.365115Z",
     "shell.execute_reply": "2024-04-08T07:40:02.363958Z"
    },
    "papermill": {
     "duration": 0.500947,
     "end_time": "2024-04-08T07:40:02.367663",
     "exception": false,
     "start_time": "2024-04-08T07:40:01.866716",
     "status": "completed"
    },
    "tags": []
   },
   "outputs": [
    {
     "data": {
      "image/png": "[encoded data removed]",
      "text/plain": [
       "<Figure size 1200x600 with 1 Axes>"
      ]
     },
     "metadata": {},
     "output_type": "display_data"
    }
   ],
   "source": [
    "plot_stock_forecast(temp, forecast)"
   ]
  },
  {
   "cell_type": "code",
   "execution_count": 25,
   "id": "2c1b579c",
   "metadata": {
    "execution": {
     "iopub.execute_input": "2024-04-08T07:40:02.422558Z",
     "iopub.status.busy": "2024-04-08T07:40:02.422231Z",
     "iopub.status.idle": "2024-04-08T07:40:02.426316Z",
     "shell.execute_reply": "2024-04-08T07:40:02.425435Z"
    },
    "papermill": {
     "duration": 0.033772,
     "end_time": "2024-04-08T07:40:02.428397",
     "exception": false,
     "start_time": "2024-04-08T07:40:02.394625",
     "status": "completed"
    },
    "tags": []
   },
   "outputs": [],
   "source": [
    "# printResult(date_lists[2], test_cnn_y, test_cnn_predict, Target, features)"
   ]
  },
  {
   "cell_type": "code",
   "execution_count": 26,
   "id": "6af042c5",
   "metadata": {
    "execution": {
     "iopub.execute_input": "2024-04-08T07:40:02.481660Z",
     "iopub.status.busy": "2024-04-08T07:40:02.481392Z",
     "iopub.status.idle": "2024-04-08T07:40:02.485112Z",
     "shell.execute_reply": "2024-04-08T07:40:02.484228Z"
    },
    "papermill": {
     "duration": 0.032878,
     "end_time": "2024-04-08T07:40:02.487000",
     "exception": false,
     "start_time": "2024-04-08T07:40:02.454122",
     "status": "completed"
    },
    "tags": []
   },
   "outputs": [],
   "source": [
    "# test_cnn_x[-1]"
   ]
  }
 ],
 "metadata": {
  "kaggle": {
   "accelerator": "nvidiaTeslaT4",
   "dataSources": [],
   "dockerImageVersionId": 30627,
   "isGpuEnabled": true,
   "isInternetEnabled": true,
   "language": "python",
   "sourceType": "notebook"
  },
  "kernelspec": {
   "display_name": "Python 3",
   "language": "python",
   "name": "python3"
  },
  "language_info": {
   "codemirror_mode": {
    "name": "ipython",
    "version": 3
   },
   "file_extension": ".py",
   "mimetype": "text/x-python",
   "name": "python",
   "nbconvert_exporter": "python",
   "pygments_lexer": "ipython3",
   "version": "3.10.12"
  },
  "papermill": {
   "default_parameters": {},
   "duration": 190.782336,
   "end_time": "2024-04-08T07:40:05.690542",
   "environment_variables": {},
   "exception": null,
   "input_path": "__notebook__.ipynb",
   "output_path": "__notebook__.ipynb",
   "parameters": {},
   "start_time": "2024-04-08T07:36:54.908206",
   "version": "2.4.0"
  }
 },
 "nbformat": 4,
 "nbformat_minor": 5
}
