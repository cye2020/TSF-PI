{
 "cells": [
  {
   "cell_type": "code",
   "execution_count": 1,
   "id": "d0f75763",
   "metadata": {
    "execution": {
     "iopub.execute_input": "2024-04-07T07:06:44.758964Z",
     "iopub.status.busy": "2024-04-07T07:06:44.758626Z",
     "iopub.status.idle": "2024-04-07T07:06:46.221033Z",
     "shell.execute_reply": "2024-04-07T07:06:46.219864Z"
    },
    "papermill": {
     "duration": 1.472619,
     "end_time": "2024-04-07T07:06:46.223280",
     "exception": false,
     "start_time": "2024-04-07T07:06:44.750661",
     "status": "completed"
    },
    "tags": []
   },
   "outputs": [
    {
     "name": "stdout",
     "output_type": "stream",
     "text": [
      "Cloning into 'TSF-SPI'...\r\n",
      "remote: Enumerating objects: 336, done.\u001b[K\r\n",
      "remote: Counting objects: 100% (113/113), done.\u001b[K\r\n",
      "remote: Compressing objects: 100% (70/70), done.\u001b[K\r\n",
      "remote: Total 336 (delta 68), reused 78 (delta 38), pack-reused 223\u001b[K\r\n",
      "Receiving objects: 100% (336/336), 388.08 KiB | 5.88 MiB/s, done.\r\n",
      "Resolving deltas: 100% (187/187), done.\r\n"
     ]
    }
   ],
   "source": [
    "!git clone https://github.com/cye2020/TSF-SPI.git"
   ]
  },
  {
   "cell_type": "code",
   "execution_count": 2,
   "id": "db57f182",
   "metadata": {
    "execution": {
     "iopub.execute_input": "2024-04-07T07:06:46.238327Z",
     "iopub.status.busy": "2024-04-07T07:06:46.237533Z",
     "iopub.status.idle": "2024-04-07T07:06:46.244688Z",
     "shell.execute_reply": "2024-04-07T07:06:46.243587Z"
    },
    "papermill": {
     "duration": 0.016812,
     "end_time": "2024-04-07T07:06:46.246715",
     "exception": false,
     "start_time": "2024-04-07T07:06:46.229903",
     "status": "completed"
    },
    "tags": []
   },
   "outputs": [
    {
     "name": "stdout",
     "output_type": "stream",
     "text": [
      "/kaggle/working/TSF-SPI\n"
     ]
    }
   ],
   "source": [
    "cd TSF-SPI/"
   ]
  },
  {
   "cell_type": "code",
   "execution_count": 3,
   "id": "f3fac430",
   "metadata": {
    "execution": {
     "iopub.execute_input": "2024-04-07T07:06:46.260799Z",
     "iopub.status.busy": "2024-04-07T07:06:46.260041Z",
     "iopub.status.idle": "2024-04-07T07:06:47.387119Z",
     "shell.execute_reply": "2024-04-07T07:06:47.386193Z"
    },
    "papermill": {
     "duration": 1.136515,
     "end_time": "2024-04-07T07:06:47.389416",
     "exception": false,
     "start_time": "2024-04-07T07:06:46.252901",
     "status": "completed"
    },
    "tags": []
   },
   "outputs": [
    {
     "name": "stdout",
     "output_type": "stream",
     "text": [
      "Already up to date.\r\n"
     ]
    }
   ],
   "source": [
    "!git pull"
   ]
  },
  {
   "cell_type": "code",
   "execution_count": 4,
   "id": "adc6344e",
   "metadata": {
    "execution": {
     "iopub.execute_input": "2024-04-07T07:06:47.404373Z",
     "iopub.status.busy": "2024-04-07T07:06:47.404081Z",
     "iopub.status.idle": "2024-04-07T07:07:12.349625Z",
     "shell.execute_reply": "2024-04-07T07:07:12.348460Z"
    },
    "papermill": {
     "duration": 24.955866,
     "end_time": "2024-04-07T07:07:12.352186",
     "exception": false,
     "start_time": "2024-04-07T07:06:47.396320",
     "status": "completed"
    },
    "tags": []
   },
   "outputs": [
    {
     "name": "stdout",
     "output_type": "stream",
     "text": [
      "Collecting torchsummary\r\n",
      "  Obtaining dependency information for torchsummary from https://files.pythonhosted.org/packages/7d/18/1474d06f721b86e6a9b9d7392ad68bed711a02f3b61ac43f13c719db50a6/torchsummary-1.5.1-py3-none-any.whl.metadata\r\n",
      "  Downloading torchsummary-1.5.1-py3-none-any.whl.metadata (296 bytes)\r\n",
      "Downloading torchsummary-1.5.1-py3-none-any.whl (2.8 kB)\r\n",
      "Installing collected packages: torchsummary\r\n",
      "Successfully installed torchsummary-1.5.1\r\n",
      "Requirement already satisfied: optuna in /opt/conda/lib/python3.10/site-packages (3.5.0)\r\n",
      "Requirement already satisfied: alembic>=1.5.0 in /opt/conda/lib/python3.10/site-packages (from optuna) (1.13.0)\r\n",
      "Requirement already satisfied: colorlog in /opt/conda/lib/python3.10/site-packages (from optuna) (6.8.0)\r\n",
      "Requirement already satisfied: numpy in /opt/conda/lib/python3.10/site-packages (from optuna) (1.24.3)\r\n",
      "Requirement already satisfied: packaging>=20.0 in /opt/conda/lib/python3.10/site-packages (from optuna) (21.3)\r\n",
      "Requirement already satisfied: sqlalchemy>=1.3.0 in /opt/conda/lib/python3.10/site-packages (from optuna) (2.0.20)\r\n",
      "Requirement already satisfied: tqdm in /opt/conda/lib/python3.10/site-packages (from optuna) (4.66.1)\r\n",
      "Requirement already satisfied: PyYAML in /opt/conda/lib/python3.10/site-packages (from optuna) (6.0.1)\r\n",
      "Requirement already satisfied: Mako in /opt/conda/lib/python3.10/site-packages (from alembic>=1.5.0->optuna) (1.3.0)\r\n",
      "Requirement already satisfied: typing-extensions>=4 in /opt/conda/lib/python3.10/site-packages (from alembic>=1.5.0->optuna) (4.5.0)\r\n",
      "Requirement already satisfied: pyparsing!=3.0.5,>=2.0.2 in /opt/conda/lib/python3.10/site-packages (from packaging>=20.0->optuna) (3.0.9)\r\n",
      "Requirement already satisfied: greenlet!=0.4.17 in /opt/conda/lib/python3.10/site-packages (from sqlalchemy>=1.3.0->optuna) (2.0.2)\r\n",
      "Requirement already satisfied: MarkupSafe>=0.9.2 in /opt/conda/lib/python3.10/site-packages (from Mako->alembic>=1.5.0->optuna) (2.1.3)\r\n"
     ]
    }
   ],
   "source": [
    "!pip install torchsummary\n",
    "!pip install optuna"
   ]
  },
  {
   "cell_type": "code",
   "execution_count": 5,
   "id": "e63080b5",
   "metadata": {
    "execution": {
     "iopub.execute_input": "2024-04-07T07:07:12.368290Z",
     "iopub.status.busy": "2024-04-07T07:07:12.367986Z",
     "iopub.status.idle": "2024-04-07T07:07:29.662909Z",
     "shell.execute_reply": "2024-04-07T07:07:29.661865Z"
    },
    "papermill": {
     "duration": 17.305731,
     "end_time": "2024-04-07T07:07:29.665295",
     "exception": false,
     "start_time": "2024-04-07T07:07:12.359564",
     "status": "completed"
    },
    "tags": []
   },
   "outputs": [
    {
     "name": "stderr",
     "output_type": "stream",
     "text": [
      "/opt/conda/lib/python3.10/site-packages/scipy/__init__.py:146: UserWarning: A NumPy version >=1.16.5 and <1.23.0 is required for this version of SciPy (detected version 1.24.3\n",
      "  warnings.warn(f\"A NumPy version >={np_minversion} and <{np_maxversion}\"\n"
     ]
    }
   ],
   "source": [
    "import os\n",
    "import warnings\n",
    "\n",
    "# User-defined Data preprocessor\n",
    "from utils.data_loader import CustomDataLoader\n",
    "from utils.spliter import WindowGenerator\n",
    "\n",
    "# Dataframe\n",
    "import pandas as pd\n",
    "import numpy as np\n",
    "from itertools import chain, combinations\n",
    "import matplotlib.pyplot as plt\n",
    "\n",
    "# Seed\n",
    "import torch\n",
    "import random\n",
    "\n",
    "# Models\n",
    "from torch_models.cnn import CNN\n",
    "from torch_models.rnn import RNN\n",
    "from prophet import Prophet\n",
    "\n",
    "\n",
    "# predict result\n",
    "from utils.plot_util import plot\n",
    "from utils.evaluation import printResult\n",
    "\n",
    "import torch.optim as optim\n",
    "import torch.nn as nn\n",
    "from torch.utils.data import DataLoader, TensorDataset\n",
    "# from torch.optim.lr_scheduler import ReduceLROnPlateau\n",
    "from sklearn.model_selection import train_test_split\n",
    "from sklearn.metrics import mean_squared_error\n",
    "\n",
    "import optuna\n",
    "from optuna import Trial\n",
    "\n",
    "warnings.filterwarnings('ignore')"
   ]
  },
  {
   "cell_type": "code",
   "execution_count": 6,
   "id": "2bcafc34",
   "metadata": {
    "execution": {
     "iopub.execute_input": "2024-04-07T07:07:29.681729Z",
     "iopub.status.busy": "2024-04-07T07:07:29.681134Z",
     "iopub.status.idle": "2024-04-07T07:07:29.686096Z",
     "shell.execute_reply": "2024-04-07T07:07:29.685179Z"
    },
    "papermill": {
     "duration": 0.015555,
     "end_time": "2024-04-07T07:07:29.688369",
     "exception": false,
     "start_time": "2024-04-07T07:07:29.672814",
     "status": "completed"
    },
    "tags": []
   },
   "outputs": [],
   "source": [
    "device = torch.device('cuda' if torch.cuda.is_available() else 'cpu')"
   ]
  },
  {
   "cell_type": "code",
   "execution_count": 7,
   "id": "77afb555",
   "metadata": {
    "execution": {
     "iopub.execute_input": "2024-04-07T07:07:29.705252Z",
     "iopub.status.busy": "2024-04-07T07:07:29.704985Z",
     "iopub.status.idle": "2024-04-07T07:07:29.744681Z",
     "shell.execute_reply": "2024-04-07T07:07:29.743810Z"
    },
    "papermill": {
     "duration": 0.050233,
     "end_time": "2024-04-07T07:07:29.746684",
     "exception": false,
     "start_time": "2024-04-07T07:07:29.696451",
     "status": "completed"
    },
    "tags": []
   },
   "outputs": [
    {
     "data": {
      "text/html": [
       "<div>\n",
       "<style scoped>\n",
       "    .dataframe tbody tr th:only-of-type {\n",
       "        vertical-align: middle;\n",
       "    }\n",
       "\n",
       "    .dataframe tbody tr th {\n",
       "        vertical-align: top;\n",
       "    }\n",
       "\n",
       "    .dataframe thead th {\n",
       "        text-align: right;\n",
       "    }\n",
       "</style>\n",
       "<table border=\"1\" class=\"dataframe\">\n",
       "  <thead>\n",
       "    <tr style=\"text-align: right;\">\n",
       "      <th></th>\n",
       "      <th>Date</th>\n",
       "      <th>Kospi</th>\n",
       "      <th>USD/KRW</th>\n",
       "      <th>GDP</th>\n",
       "      <th>IAIP</th>\n",
       "      <th>LIR</th>\n",
       "      <th>M1</th>\n",
       "      <th>disease</th>\n",
       "    </tr>\n",
       "  </thead>\n",
       "  <tbody>\n",
       "    <tr>\n",
       "      <th>0</th>\n",
       "      <td>2010-01-04</td>\n",
       "      <td>1696.140015</td>\n",
       "      <td>1132.400024</td>\n",
       "      <td>1143.67</td>\n",
       "      <td>79.3</td>\n",
       "      <td>5.350</td>\n",
       "      <td>59.71815</td>\n",
       "      <td>0</td>\n",
       "    </tr>\n",
       "    <tr>\n",
       "      <th>1</th>\n",
       "      <td>2010-01-05</td>\n",
       "      <td>1690.619995</td>\n",
       "      <td>1141.300049</td>\n",
       "      <td>1143.67</td>\n",
       "      <td>79.3</td>\n",
       "      <td>5.350</td>\n",
       "      <td>59.71815</td>\n",
       "      <td>0</td>\n",
       "    </tr>\n",
       "    <tr>\n",
       "      <th>2</th>\n",
       "      <td>2010-01-06</td>\n",
       "      <td>1705.319946</td>\n",
       "      <td>1130.400024</td>\n",
       "      <td>1143.67</td>\n",
       "      <td>79.3</td>\n",
       "      <td>5.350</td>\n",
       "      <td>59.71815</td>\n",
       "      <td>0</td>\n",
       "    </tr>\n",
       "    <tr>\n",
       "      <th>3</th>\n",
       "      <td>2010-01-07</td>\n",
       "      <td>1683.449951</td>\n",
       "      <td>1134.900024</td>\n",
       "      <td>1143.67</td>\n",
       "      <td>79.3</td>\n",
       "      <td>5.350</td>\n",
       "      <td>59.71815</td>\n",
       "      <td>0</td>\n",
       "    </tr>\n",
       "    <tr>\n",
       "      <th>4</th>\n",
       "      <td>2010-01-08</td>\n",
       "      <td>1695.260010</td>\n",
       "      <td>1123.099976</td>\n",
       "      <td>1143.67</td>\n",
       "      <td>79.3</td>\n",
       "      <td>5.350</td>\n",
       "      <td>59.71815</td>\n",
       "      <td>0</td>\n",
       "    </tr>\n",
       "    <tr>\n",
       "      <th>...</th>\n",
       "      <td>...</td>\n",
       "      <td>...</td>\n",
       "      <td>...</td>\n",
       "      <td>...</td>\n",
       "      <td>...</td>\n",
       "      <td>...</td>\n",
       "      <td>...</td>\n",
       "      <td>...</td>\n",
       "    </tr>\n",
       "    <tr>\n",
       "      <th>3509</th>\n",
       "      <td>2024-04-01</td>\n",
       "      <td>2747.860107</td>\n",
       "      <td>1345.310059</td>\n",
       "      <td>1673.92</td>\n",
       "      <td>105.5</td>\n",
       "      <td>3.353</td>\n",
       "      <td>187.20330</td>\n",
       "      <td>0</td>\n",
       "    </tr>\n",
       "    <tr>\n",
       "      <th>3510</th>\n",
       "      <td>2024-04-02</td>\n",
       "      <td>2753.159912</td>\n",
       "      <td>1355.530029</td>\n",
       "      <td>1673.92</td>\n",
       "      <td>105.5</td>\n",
       "      <td>3.353</td>\n",
       "      <td>187.20330</td>\n",
       "      <td>0</td>\n",
       "    </tr>\n",
       "    <tr>\n",
       "      <th>3511</th>\n",
       "      <td>2024-04-03</td>\n",
       "      <td>2706.969971</td>\n",
       "      <td>1350.729980</td>\n",
       "      <td>1673.92</td>\n",
       "      <td>105.5</td>\n",
       "      <td>3.353</td>\n",
       "      <td>187.20330</td>\n",
       "      <td>0</td>\n",
       "    </tr>\n",
       "    <tr>\n",
       "      <th>3512</th>\n",
       "      <td>2024-04-04</td>\n",
       "      <td>2742.000000</td>\n",
       "      <td>1344.839966</td>\n",
       "      <td>1673.92</td>\n",
       "      <td>105.5</td>\n",
       "      <td>3.353</td>\n",
       "      <td>187.20330</td>\n",
       "      <td>0</td>\n",
       "    </tr>\n",
       "    <tr>\n",
       "      <th>3513</th>\n",
       "      <td>2024-04-05</td>\n",
       "      <td>2714.209961</td>\n",
       "      <td>1350.900024</td>\n",
       "      <td>1673.92</td>\n",
       "      <td>105.5</td>\n",
       "      <td>3.353</td>\n",
       "      <td>187.20330</td>\n",
       "      <td>0</td>\n",
       "    </tr>\n",
       "  </tbody>\n",
       "</table>\n",
       "<p>3514 rows × 8 columns</p>\n",
       "</div>"
      ],
      "text/plain": [
       "            Date        Kospi      USD/KRW      GDP   IAIP    LIR         M1  \\\n",
       "0     2010-01-04  1696.140015  1132.400024  1143.67   79.3  5.350   59.71815   \n",
       "1     2010-01-05  1690.619995  1141.300049  1143.67   79.3  5.350   59.71815   \n",
       "2     2010-01-06  1705.319946  1130.400024  1143.67   79.3  5.350   59.71815   \n",
       "3     2010-01-07  1683.449951  1134.900024  1143.67   79.3  5.350   59.71815   \n",
       "4     2010-01-08  1695.260010  1123.099976  1143.67   79.3  5.350   59.71815   \n",
       "...          ...          ...          ...      ...    ...    ...        ...   \n",
       "3509  2024-04-01  2747.860107  1345.310059  1673.92  105.5  3.353  187.20330   \n",
       "3510  2024-04-02  2753.159912  1355.530029  1673.92  105.5  3.353  187.20330   \n",
       "3511  2024-04-03  2706.969971  1350.729980  1673.92  105.5  3.353  187.20330   \n",
       "3512  2024-04-04  2742.000000  1344.839966  1673.92  105.5  3.353  187.20330   \n",
       "3513  2024-04-05  2714.209961  1350.900024  1673.92  105.5  3.353  187.20330   \n",
       "\n",
       "      disease  \n",
       "0           0  \n",
       "1           0  \n",
       "2           0  \n",
       "3           0  \n",
       "4           0  \n",
       "...       ...  \n",
       "3509        0  \n",
       "3510        0  \n",
       "3511        0  \n",
       "3512        0  \n",
       "3513        0  \n",
       "\n",
       "[3514 rows x 8 columns]"
      ]
     },
     "execution_count": 7,
     "metadata": {},
     "output_type": "execute_result"
    }
   ],
   "source": [
    "data = pd.read_csv('./data/kospi.csv').dropna()\n",
    "data"
   ]
  },
  {
   "cell_type": "code",
   "execution_count": 8,
   "id": "690fbec0",
   "metadata": {
    "execution": {
     "iopub.execute_input": "2024-04-07T07:07:29.763448Z",
     "iopub.status.busy": "2024-04-07T07:07:29.763150Z",
     "iopub.status.idle": "2024-04-07T07:07:29.781467Z",
     "shell.execute_reply": "2024-04-07T07:07:29.780695Z"
    },
    "papermill": {
     "duration": 0.028841,
     "end_time": "2024-04-07T07:07:29.783299",
     "exception": false,
     "start_time": "2024-04-07T07:07:29.754458",
     "status": "completed"
    },
    "tags": []
   },
   "outputs": [],
   "source": [
    "# data_loader = CustomDataLoader()\n",
    "# Target = 'Kospi'\n",
    "\n",
    "# # features = [Target, 'USD/KRW', 'GDP', 'IAIP', 'LIR', 'M1', 'disease']\n",
    "# features = [Target, 'USD/KRW', 'GDP', 'IAIP', 'LIR', 'M1', 'disease']\n",
    "\n",
    "\n",
    "# train, test, date_lists = data_loader.load_csv(path='./data/kospi.csv', \n",
    "#                                                 features=np.concatenate((['Date'],features), axis=0), \n",
    "#                                                 split_date='2019-12-31')\n",
    "\n",
    "\n",
    "split_date_train = '2018-12-31'\n",
    "split_date_valid = '2021-12-31'\n",
    "\n",
    "# train, valid, test 데이터 나누기\n",
    "train_data = data.loc[data['Date'] <= split_date_train].copy()\n",
    "valid_data = data.loc[(data['Date'] > split_date_train) & (data['Date'] <= split_date_valid)].copy()\n",
    "train_valid_data = data.loc[data['Date'] <= split_date_valid].copy()\n",
    "vaild_test_data = data.loc[data['Date'] > split_date_train].copy()\n",
    "test_data = data.loc[data['Date'] > split_date_valid].copy()"
   ]
  },
  {
   "cell_type": "code",
   "execution_count": 9,
   "id": "ebfba8f4",
   "metadata": {
    "execution": {
     "iopub.execute_input": "2024-04-07T07:07:29.799912Z",
     "iopub.status.busy": "2024-04-07T07:07:29.799661Z",
     "iopub.status.idle": "2024-04-07T07:07:29.804757Z",
     "shell.execute_reply": "2024-04-07T07:07:29.803861Z"
    },
    "papermill": {
     "duration": 0.015872,
     "end_time": "2024-04-07T07:07:29.806757",
     "exception": false,
     "start_time": "2024-04-07T07:07:29.790885",
     "status": "completed"
    },
    "tags": []
   },
   "outputs": [
    {
     "name": "stdout",
     "output_type": "stream",
     "text": [
      "Train 데이터 크기: 2217\n",
      "Valid 데이터 크기: 742\n",
      "Test 데이터 크기: 555\n"
     ]
    }
   ],
   "source": [
    "# 결과 출력\n",
    "print(\"Train 데이터 크기:\", len(train_data))\n",
    "print(\"Valid 데이터 크기:\", len(valid_data))\n",
    "print(\"Test 데이터 크기:\", len(test_data))"
   ]
  },
  {
   "cell_type": "code",
   "execution_count": 10,
   "id": "1d5f352c",
   "metadata": {
    "execution": {
     "iopub.execute_input": "2024-04-07T07:07:29.824533Z",
     "iopub.status.busy": "2024-04-07T07:07:29.823929Z",
     "iopub.status.idle": "2024-04-07T07:07:29.827637Z",
     "shell.execute_reply": "2024-04-07T07:07:29.826829Z"
    },
    "papermill": {
     "duration": 0.014534,
     "end_time": "2024-04-07T07:07:29.829523",
     "exception": false,
     "start_time": "2024-04-07T07:07:29.814989",
     "status": "completed"
    },
    "tags": []
   },
   "outputs": [],
   "source": [
    "# boolarr = np.isnan(test)\n",
    "# boolarr.sum()\n",
    "# np.count_nonzero(boolarr)"
   ]
  },
  {
   "cell_type": "code",
   "execution_count": 11,
   "id": "62d34833",
   "metadata": {
    "execution": {
     "iopub.execute_input": "2024-04-07T07:07:29.846678Z",
     "iopub.status.busy": "2024-04-07T07:07:29.846414Z",
     "iopub.status.idle": "2024-04-07T07:07:29.873302Z",
     "shell.execute_reply": "2024-04-07T07:07:29.872616Z"
    },
    "papermill": {
     "duration": 0.037683,
     "end_time": "2024-04-07T07:07:29.875202",
     "exception": false,
     "start_time": "2024-04-07T07:07:29.837519",
     "status": "completed"
    },
    "tags": []
   },
   "outputs": [],
   "source": [
    "data.rename(columns={'Date': 'ds', 'Kospi': 'y'}, inplace=True)\n",
    "data['ds'] = pd.to_datetime(data['ds'])\n",
    "\n",
    "train_data.rename(columns={'Date': 'ds', 'Kospi': 'y'}, inplace=True)\n",
    "train_data['ds'] = pd.to_datetime(train_data['ds'])\n",
    "\n",
    "valid_data.rename(columns={'Date': 'ds', 'Kospi': 'y'}, inplace=True)\n",
    "valid_data['ds'] = pd.to_datetime(valid_data['ds'])\n",
    "\n",
    "test_data.rename(columns={'Date': 'ds', 'Kospi': 'y'}, inplace=True)\n",
    "test_data['ds'] = pd.to_datetime(test_data['ds'])\n",
    "\n",
    "train_valid_data.rename(columns={'Date': 'ds', 'Kospi': 'y'}, inplace=True)\n",
    "train_valid_data['ds'] = pd.to_datetime(train_valid_data['ds'])\n",
    "\n",
    "vaild_test_data.rename(columns={'Date': 'ds', 'Kospi': 'y'}, inplace=True)\n",
    "vaild_test_data['ds'] = pd.to_datetime(vaild_test_data['ds'])\n",
    "\n",
    "\n",
    "additional_columns = ['USD/KRW', 'GDP', 'IAIP', 'LIR', 'M1', 'disease']\n",
    "\n",
    "# 가능한 모든 조합의 리스트 생성\n",
    "all_combinations = []\n",
    "for r in range(1, len(additional_columns) + 1):\n",
    "    all_combinations.extend(combinations(additional_columns, r))\n",
    "\n",
    "regressor_combinations = ['_'.join(combination) for combination in all_combinations]"
   ]
  },
  {
   "cell_type": "code",
   "execution_count": 12,
   "id": "b008c049",
   "metadata": {
    "execution": {
     "iopub.execute_input": "2024-04-07T07:07:29.892356Z",
     "iopub.status.busy": "2024-04-07T07:07:29.892095Z",
     "iopub.status.idle": "2024-04-07T07:07:29.896487Z",
     "shell.execute_reply": "2024-04-07T07:07:29.895575Z"
    },
    "papermill": {
     "duration": 0.015162,
     "end_time": "2024-04-07T07:07:29.898384",
     "exception": false,
     "start_time": "2024-04-07T07:07:29.883222",
     "status": "completed"
    },
    "tags": []
   },
   "outputs": [],
   "source": [
    "\n",
    "\n",
    "# prophet_model = Prophet(daily_seasonality=True)\n",
    "\n",
    "# # 다른 변수들을 regressor로 추가\n",
    "# additional_columns = ['USD/KRW', 'GDP', 'IAIP', 'LIR', 'M1', 'disease']\n",
    "# for column in additional_columns:\n",
    "#     prophet_model.add_regressor(column)\n",
    "\n",
    "\n",
    "# prophet_model.fit(train)\n",
    "\n",
    "# future = prophet_model.make_future_dataframe(periods=len(test))\n",
    "# # 예측하려는 기간에 대한 추가 변수의 값을 future 데이터프레임에 추가\n",
    "\n",
    "\n",
    "# for col in additional_columns:\n",
    "#     future[col] = data[col].values\n",
    "\n",
    "\n",
    "# forecast = prophet_model.predict(future)"
   ]
  },
  {
   "cell_type": "code",
   "execution_count": 13,
   "id": "dbabc6be",
   "metadata": {
    "execution": {
     "iopub.execute_input": "2024-04-07T07:07:29.915365Z",
     "iopub.status.busy": "2024-04-07T07:07:29.915103Z",
     "iopub.status.idle": "2024-04-07T07:07:29.921290Z",
     "shell.execute_reply": "2024-04-07T07:07:29.920479Z"
    },
    "papermill": {
     "duration": 0.016744,
     "end_time": "2024-04-07T07:07:29.923187",
     "exception": false,
     "start_time": "2024-04-07T07:07:29.906443",
     "status": "completed"
    },
    "tags": []
   },
   "outputs": [],
   "source": [
    "def train(train_data, changepoints, changepoints_range, seasonality_mode, growth, regressors, cap=None):\n",
    "    # Changepoints 랜덤 생성\n",
    "    train_range = train_data['ds'].max() - train_data['ds'].min()\n",
    "    changepoints = sorted(random.sample(list(train_data['ds']), changepoints))\n",
    "\n",
    "    if growth == 'logistic':\n",
    "        train_data['cap'] = cap  # 용량 값 설정\n",
    "    \n",
    "    # Prophet 모델 생성 및 학습\n",
    "    model = Prophet(\n",
    "        changepoints=changepoints,\n",
    "        changepoint_range=changepoints_range,\n",
    "        seasonality_mode=seasonality_mode,\n",
    "        growth=growth,\n",
    "    )\n",
    "    \n",
    "    columns = regressors.split('_')\n",
    "    \n",
    "    for col in columns:\n",
    "        model.add_regressor(col)\n",
    "        \n",
    "    model.fit(train_data)\n",
    "\n",
    "    return model"
   ]
  },
  {
   "cell_type": "code",
   "execution_count": 14,
   "id": "9928d361",
   "metadata": {
    "execution": {
     "iopub.execute_input": "2024-04-07T07:07:29.940118Z",
     "iopub.status.busy": "2024-04-07T07:07:29.939856Z",
     "iopub.status.idle": "2024-04-07T07:07:29.945700Z",
     "shell.execute_reply": "2024-04-07T07:07:29.944909Z"
    },
    "papermill": {
     "duration": 0.016355,
     "end_time": "2024-04-07T07:07:29.947523",
     "exception": false,
     "start_time": "2024-04-07T07:07:29.931168",
     "status": "completed"
    },
    "tags": []
   },
   "outputs": [],
   "source": [
    "def test(model, test_data, total_data, regressors=[], growth='', cap=0, **kwargs):\n",
    "    columns = regressors.split('_')\n",
    "    \n",
    "    # 예측 및 평가\n",
    "    future = model.make_future_dataframe(periods=len(test_data), include_history=False)\n",
    "    \n",
    "    for col in columns:\n",
    "        future[col] = test_data[col].values\n",
    "        \n",
    "    if growth == 'logistic':\n",
    "        future['cap'] = cap  # 용량 값 설정\n",
    "    \n",
    "    forecast = model.predict(future)\n",
    "    rmse = np.sqrt(mean_squared_error(test_data[\"y\"], forecast[\"yhat\"]))\n",
    "\n",
    "    return rmse, forecast"
   ]
  },
  {
   "cell_type": "code",
   "execution_count": 15,
   "id": "069d8021",
   "metadata": {
    "execution": {
     "iopub.execute_input": "2024-04-07T07:07:29.965295Z",
     "iopub.status.busy": "2024-04-07T07:07:29.965053Z",
     "iopub.status.idle": "2024-04-07T07:07:29.971681Z",
     "shell.execute_reply": "2024-04-07T07:07:29.970880Z"
    },
    "papermill": {
     "duration": 0.017524,
     "end_time": "2024-04-07T07:07:29.973559",
     "exception": false,
     "start_time": "2024-04-07T07:07:29.956035",
     "status": "completed"
    },
    "tags": []
   },
   "outputs": [],
   "source": [
    "def objective(trial: Trial) -> float:\n",
    "    # 하이퍼파라미터 설정\n",
    "    changepoints = trial.suggest_int(\"changepoints\", 1, 10)\n",
    "    changepoints_range = trial.suggest_float(\"changepoints_range\", 0.8, 1.0)\n",
    "    seasonality_mode = trial.suggest_categorical(\"seasonality_mode\", [\"additive\", \"multiplicative\"])\n",
    "    growth = trial.suggest_categorical(\"growth\", [\"linear\", \"logistic\"])\n",
    "    \n",
    "    regressors = trial.suggest_categorical(\"regressors\", regressor_combinations)\n",
    "    \n",
    "    params = {'changepoints': changepoints, 'changepoints_range': changepoints_range, 'seasonality_mode': seasonality_mode, 'growth': growth, 'regressors': regressors}\n",
    "    \n",
    "    if growth == 'logistic':\n",
    "        cap = trial.suggest_float(\"cap\", 100, 1000)  # 용량 값 제공\n",
    "        params['cap'] = cap\n",
    "    \n",
    "    model = train(train_data, **params)\n",
    "    rmse, forecast = test(model, valid_data, train_valid_data, **params)\n",
    "    \n",
    "    return rmse"
   ]
  },
  {
   "cell_type": "code",
   "execution_count": 16,
   "id": "b3567eff",
   "metadata": {
    "execution": {
     "iopub.execute_input": "2024-04-07T07:07:29.990746Z",
     "iopub.status.busy": "2024-04-07T07:07:29.990482Z",
     "iopub.status.idle": "2024-04-07T07:10:57.023433Z",
     "shell.execute_reply": "2024-04-07T07:10:57.022055Z"
    },
    "papermill": {
     "duration": 207.044218,
     "end_time": "2024-04-07T07:10:57.025817",
     "exception": false,
     "start_time": "2024-04-07T07:07:29.981599",
     "status": "completed"
    },
    "tags": []
   },
   "outputs": [
    {
     "name": "stderr",
     "output_type": "stream",
     "text": [
      "[I 2024-04-07 07:07:29,992] A new study created in memory with name: no-name-24713fe7-105f-45ec-87ac-ee7ce64df665\n",
      "07:07:30 - cmdstanpy - INFO - Chain [1] start processing\n",
      "07:07:30 - cmdstanpy - INFO - Chain [1] done processing\n",
      "[I 2024-04-07 07:07:35,650] Trial 0 finished with value: 3129.9790408519575 and parameters: {'changepoints': 2, 'changepoints_range': 0.8173684205732048, 'seasonality_mode': 'multiplicative', 'growth': 'logistic', 'regressors': 'USD/KRW_M1_disease', 'cap': 387.9315905327821}. Best is trial 0 with value: 3129.9790408519575.\n",
      "07:07:35 - cmdstanpy - INFO - Chain [1] start processing\n",
      "07:07:36 - cmdstanpy - INFO - Chain [1] done processing\n",
      "[I 2024-04-07 07:07:41,080] Trial 1 finished with value: 2086.468181280282 and parameters: {'changepoints': 4, 'changepoints_range': 0.8344720790589222, 'seasonality_mode': 'additive', 'growth': 'logistic', 'regressors': 'USD/KRW_LIR_M1', 'cap': 940.7740449851955}. Best is trial 1 with value: 2086.468181280282.\n",
      "07:07:41 - cmdstanpy - INFO - Chain [1] start processing\n",
      "07:07:41 - cmdstanpy - INFO - Chain [1] done processing\n",
      "[I 2024-04-07 07:07:46,379] Trial 2 finished with value: 3206.41966915828 and parameters: {'changepoints': 7, 'changepoints_range': 0.9901195882441083, 'seasonality_mode': 'multiplicative', 'growth': 'logistic', 'regressors': 'USD/KRW_IAIP_LIR_M1', 'cap': 321.9160989837036}. Best is trial 1 with value: 2086.468181280282.\n",
      "07:07:46 - cmdstanpy - INFO - Chain [1] start processing\n",
      "07:07:46 - cmdstanpy - INFO - Chain [1] done processing\n",
      "[I 2024-04-07 07:07:47,328] Trial 3 finished with value: 1625.5843451037906 and parameters: {'changepoints': 1, 'changepoints_range': 0.9511794792838715, 'seasonality_mode': 'additive', 'growth': 'linear', 'regressors': 'GDP_IAIP_disease'}. Best is trial 3 with value: 1625.5843451037906.\n",
      "07:07:47 - cmdstanpy - INFO - Chain [1] start processing\n",
      "07:07:47 - cmdstanpy - INFO - Chain [1] done processing\n",
      "[I 2024-04-07 07:07:53,016] Trial 4 finished with value: 3574.874285248746 and parameters: {'changepoints': 9, 'changepoints_range': 0.9439913209658931, 'seasonality_mode': 'multiplicative', 'growth': 'logistic', 'regressors': 'USD/KRW_GDP_IAIP_disease', 'cap': 202.8963123242616}. Best is trial 3 with value: 1625.5843451037906.\n",
      "07:07:53 - cmdstanpy - INFO - Chain [1] start processing\n",
      "07:07:53 - cmdstanpy - INFO - Chain [1] done processing\n",
      "[I 2024-04-07 07:07:57,958] Trial 5 finished with value: 3037.667457656576 and parameters: {'changepoints': 10, 'changepoints_range': 0.904802155521872, 'seasonality_mode': 'additive', 'growth': 'logistic', 'regressors': 'USD/KRW_IAIP_LIR', 'cap': 496.89749451464314}. Best is trial 3 with value: 1625.5843451037906.\n",
      "07:07:58 - cmdstanpy - INFO - Chain [1] start processing\n",
      "07:07:58 - cmdstanpy - INFO - Chain [1] done processing\n",
      "[I 2024-04-07 07:08:03,215] Trial 6 finished with value: 3165.4538266229456 and parameters: {'changepoints': 1, 'changepoints_range': 0.891866919221539, 'seasonality_mode': 'additive', 'growth': 'logistic', 'regressors': 'GDP', 'cap': 411.09269784344946}. Best is trial 3 with value: 1625.5843451037906.\n",
      "07:08:03 - cmdstanpy - INFO - Chain [1] start processing\n",
      "07:08:03 - cmdstanpy - INFO - Chain [1] done processing\n",
      "[I 2024-04-07 07:08:04,449] Trial 7 finished with value: 368.196522443289 and parameters: {'changepoints': 1, 'changepoints_range': 0.8541549693804616, 'seasonality_mode': 'additive', 'growth': 'linear', 'regressors': 'USD/KRW_IAIP_LIR_disease'}. Best is trial 7 with value: 368.196522443289.\n",
      "07:08:04 - cmdstanpy - INFO - Chain [1] start processing\n",
      "07:08:05 - cmdstanpy - INFO - Chain [1] done processing\n",
      "[I 2024-04-07 07:08:06,063] Trial 8 finished with value: 2584.8799383627247 and parameters: {'changepoints': 4, 'changepoints_range': 0.8317055696726866, 'seasonality_mode': 'multiplicative', 'growth': 'linear', 'regressors': 'GDP_LIR'}. Best is trial 7 with value: 368.196522443289.\n",
      "07:08:06 - cmdstanpy - INFO - Chain [1] start processing\n",
      "07:08:08 - cmdstanpy - INFO - Chain [1] done processing\n",
      "[I 2024-04-07 07:08:09,170] Trial 9 finished with value: 3618.17067867605 and parameters: {'changepoints': 9, 'changepoints_range': 0.8848314135978915, 'seasonality_mode': 'multiplicative', 'growth': 'linear', 'regressors': 'USD/KRW_GDP_LIR_M1_disease'}. Best is trial 7 with value: 368.196522443289.\n",
      "07:08:09 - cmdstanpy - INFO - Chain [1] start processing\n",
      "07:08:09 - cmdstanpy - INFO - Chain [1] done processing\n",
      "[I 2024-04-07 07:08:10,423] Trial 10 finished with value: 459.75933129784715 and parameters: {'changepoints': 6, 'changepoints_range': 0.8578242100164527, 'seasonality_mode': 'additive', 'growth': 'linear', 'regressors': 'USD/KRW_IAIP_LIR_disease'}. Best is trial 7 with value: 368.196522443289.\n",
      "07:08:10 - cmdstanpy - INFO - Chain [1] start processing\n",
      "07:08:11 - cmdstanpy - INFO - Chain [1] done processing\n",
      "[I 2024-04-07 07:08:11,814] Trial 11 finished with value: 547.6187867171645 and parameters: {'changepoints': 6, 'changepoints_range': 0.8626881759847805, 'seasonality_mode': 'additive', 'growth': 'linear', 'regressors': 'USD/KRW_IAIP_LIR_disease'}. Best is trial 7 with value: 368.196522443289.\n",
      "07:08:12 - cmdstanpy - INFO - Chain [1] start processing\n",
      "07:08:12 - cmdstanpy - INFO - Chain [1] done processing\n",
      "07:08:12 - cmdstanpy - ERROR - Chain [1] error: error during processing Communication error on send\n",
      "07:08:12 - cmdstanpy - INFO - Chain [1] start processing\n",
      "07:08:13 - cmdstanpy - INFO - Chain [1] done processing\n",
      "[I 2024-04-07 07:08:14,444] Trial 12 finished with value: 1275.595435285717 and parameters: {'changepoints': 4, 'changepoints_range': 0.8590635053746161, 'seasonality_mode': 'additive', 'growth': 'linear', 'regressors': 'USD/KRW_IAIP_LIR_disease'}. Best is trial 7 with value: 368.196522443289.\n",
      "07:08:14 - cmdstanpy - INFO - Chain [1] start processing\n",
      "07:08:15 - cmdstanpy - INFO - Chain [1] done processing\n",
      "[I 2024-04-07 07:08:15,743] Trial 13 finished with value: 1143.8887940630273 and parameters: {'changepoints': 7, 'changepoints_range': 0.8013570059754094, 'seasonality_mode': 'additive', 'growth': 'linear', 'regressors': 'USD/KRW_GDP_LIR_M1'}. Best is trial 7 with value: 368.196522443289.\n",
      "07:08:16 - cmdstanpy - INFO - Chain [1] start processing\n",
      "07:08:16 - cmdstanpy - INFO - Chain [1] done processing\n",
      "[I 2024-04-07 07:08:16,997] Trial 14 finished with value: 268.3684380361227 and parameters: {'changepoints': 3, 'changepoints_range': 0.8621571308801782, 'seasonality_mode': 'additive', 'growth': 'linear', 'regressors': 'USD/KRW_GDP_M1_disease'}. Best is trial 14 with value: 268.3684380361227.\n",
      "07:08:17 - cmdstanpy - INFO - Chain [1] start processing\n",
      "07:08:17 - cmdstanpy - INFO - Chain [1] done processing\n",
      "[I 2024-04-07 07:08:18,006] Trial 15 finished with value: 436.34500133545777 and parameters: {'changepoints': 3, 'changepoints_range': 0.9248067329791256, 'seasonality_mode': 'additive', 'growth': 'linear', 'regressors': 'USD/KRW_GDP_M1_disease'}. Best is trial 14 with value: 268.3684380361227.\n",
      "07:08:18 - cmdstanpy - INFO - Chain [1] start processing\n",
      "07:08:18 - cmdstanpy - INFO - Chain [1] done processing\n",
      "[I 2024-04-07 07:08:19,076] Trial 16 finished with value: 471.0535645266792 and parameters: {'changepoints': 2, 'changepoints_range': 0.8671942160779189, 'seasonality_mode': 'additive', 'growth': 'linear', 'regressors': 'USD/KRW_GDP_IAIP_LIR_disease'}. Best is trial 14 with value: 268.3684380361227.\n",
      "07:08:19 - cmdstanpy - INFO - Chain [1] start processing\n",
      "07:08:19 - cmdstanpy - INFO - Chain [1] done processing\n",
      "[I 2024-04-07 07:08:20,313] Trial 17 finished with value: 915.6695738032053 and parameters: {'changepoints': 3, 'changepoints_range': 0.8414564499543498, 'seasonality_mode': 'additive', 'growth': 'linear', 'regressors': 'GDP_IAIP_LIR_M1'}. Best is trial 14 with value: 268.3684380361227.\n",
      "07:08:20 - cmdstanpy - INFO - Chain [1] start processing\n",
      "07:08:20 - cmdstanpy - INFO - Chain [1] done processing\n",
      "[I 2024-04-07 07:08:21,531] Trial 18 finished with value: 398.1574405274122 and parameters: {'changepoints': 2, 'changepoints_range': 0.9034120282131507, 'seasonality_mode': 'additive', 'growth': 'linear', 'regressors': 'USD/KRW_GDP_LIR'}. Best is trial 14 with value: 268.3684380361227.\n",
      "07:08:21 - cmdstanpy - INFO - Chain [1] start processing\n",
      "07:08:21 - cmdstanpy - INFO - Chain [1] done processing\n",
      "07:08:21 - cmdstanpy - ERROR - Chain [1] error: error during processing Communication error on send\n",
      "07:08:22 - cmdstanpy - INFO - Chain [1] start processing\n",
      "07:08:23 - cmdstanpy - INFO - Chain [1] done processing\n",
      "[I 2024-04-07 07:08:23,716] Trial 19 finished with value: 2345.3412594858123 and parameters: {'changepoints': 1, 'changepoints_range': 0.8844916805810925, 'seasonality_mode': 'additive', 'growth': 'linear', 'regressors': 'GDP_M1'}. Best is trial 14 with value: 268.3684380361227.\n",
      "07:08:23 - cmdstanpy - INFO - Chain [1] start processing\n",
      "07:08:24 - cmdstanpy - INFO - Chain [1] done processing\n",
      "[I 2024-04-07 07:08:24,789] Trial 20 finished with value: 1756.9783817058885 and parameters: {'changepoints': 4, 'changepoints_range': 0.8040976617452925, 'seasonality_mode': 'additive', 'growth': 'linear', 'regressors': 'USD/KRW_IAIP_disease'}. Best is trial 14 with value: 268.3684380361227.\n",
      "07:08:25 - cmdstanpy - INFO - Chain [1] start processing\n",
      "07:08:25 - cmdstanpy - INFO - Chain [1] done processing\n",
      "[I 2024-04-07 07:08:25,997] Trial 21 finished with value: 840.0817090655693 and parameters: {'changepoints': 2, 'changepoints_range': 0.9196574301545398, 'seasonality_mode': 'additive', 'growth': 'linear', 'regressors': 'USD/KRW_GDP_LIR'}. Best is trial 14 with value: 268.3684380361227.\n",
      "07:08:26 - cmdstanpy - INFO - Chain [1] start processing\n",
      "07:08:26 - cmdstanpy - INFO - Chain [1] done processing\n",
      "[I 2024-04-07 07:08:27,147] Trial 22 finished with value: 422.0978810713528 and parameters: {'changepoints': 3, 'changepoints_range': 0.9086202560848186, 'seasonality_mode': 'additive', 'growth': 'linear', 'regressors': 'USD/KRW_GDP_M1_disease'}. Best is trial 14 with value: 268.3684380361227.\n",
      "07:08:27 - cmdstanpy - INFO - Chain [1] start processing\n",
      "07:08:27 - cmdstanpy - INFO - Chain [1] done processing\n",
      "[I 2024-04-07 07:08:28,147] Trial 23 finished with value: 1074.7739931204658 and parameters: {'changepoints': 2, 'changepoints_range': 0.8743047395127914, 'seasonality_mode': 'additive', 'growth': 'linear', 'regressors': 'USD/KRW_IAIP_M1_disease'}. Best is trial 14 with value: 268.3684380361227.\n",
      "07:08:28 - cmdstanpy - INFO - Chain [1] start processing\n",
      "07:08:28 - cmdstanpy - INFO - Chain [1] done processing\n",
      "[I 2024-04-07 07:08:29,389] Trial 24 finished with value: 473.18527684651883 and parameters: {'changepoints': 1, 'changepoints_range': 0.8477611607393496, 'seasonality_mode': 'additive', 'growth': 'linear', 'regressors': 'GDP_IAIP_M1_disease'}. Best is trial 14 with value: 268.3684380361227.\n",
      "07:08:29 - cmdstanpy - INFO - Chain [1] start processing\n",
      "07:08:29 - cmdstanpy - INFO - Chain [1] done processing\n",
      "07:08:29 - cmdstanpy - ERROR - Chain [1] error: error during processing Communication error on send\n",
      "07:08:30 - cmdstanpy - INFO - Chain [1] start processing\n",
      "07:08:31 - cmdstanpy - INFO - Chain [1] done processing\n",
      "[I 2024-04-07 07:08:32,323] Trial 25 finished with value: 2211.6382726019856 and parameters: {'changepoints': 5, 'changepoints_range': 0.9542226031977509, 'seasonality_mode': 'additive', 'growth': 'linear', 'regressors': 'M1_disease'}. Best is trial 14 with value: 268.3684380361227.\n",
      "07:08:32 - cmdstanpy - INFO - Chain [1] start processing\n",
      "07:08:33 - cmdstanpy - INFO - Chain [1] done processing\n",
      "[I 2024-04-07 07:08:33,711] Trial 26 finished with value: 2865.218540093702 and parameters: {'changepoints': 3, 'changepoints_range': 0.8239356764245153, 'seasonality_mode': 'multiplicative', 'growth': 'linear', 'regressors': 'LIR_M1_disease'}. Best is trial 14 with value: 268.3684380361227.\n",
      "07:08:34 - cmdstanpy - INFO - Chain [1] start processing\n",
      "07:08:34 - cmdstanpy - INFO - Chain [1] done processing\n",
      "[I 2024-04-07 07:08:34,929] Trial 27 finished with value: 394.08679956911215 and parameters: {'changepoints': 2, 'changepoints_range': 0.8769136609512383, 'seasonality_mode': 'additive', 'growth': 'linear', 'regressors': 'GDP_IAIP_LIR'}. Best is trial 14 with value: 268.3684380361227.\n",
      "07:08:35 - cmdstanpy - INFO - Chain [1] start processing\n",
      "07:08:35 - cmdstanpy - INFO - Chain [1] done processing\n",
      "[I 2024-04-07 07:08:36,019] Trial 28 finished with value: 404.0278903321482 and parameters: {'changepoints': 5, 'changepoints_range': 0.8491077311455223, 'seasonality_mode': 'additive', 'growth': 'linear', 'regressors': 'USD/KRW_LIR'}. Best is trial 14 with value: 268.3684380361227.\n",
      "07:08:36 - cmdstanpy - INFO - Chain [1] start processing\n",
      "07:08:36 - cmdstanpy - INFO - Chain [1] done processing\n",
      "[I 2024-04-07 07:08:41,136] Trial 29 finished with value: 4283.042132564661 and parameters: {'changepoints': 1, 'changepoints_range': 0.8765246950208716, 'seasonality_mode': 'multiplicative', 'growth': 'logistic', 'regressors': 'GDP_IAIP_LIR', 'cap': 807.1632022146562}. Best is trial 14 with value: 268.3684380361227.\n",
      "07:08:41 - cmdstanpy - INFO - Chain [1] start processing\n",
      "07:08:41 - cmdstanpy - INFO - Chain [1] done processing\n",
      "[I 2024-04-07 07:08:42,131] Trial 30 finished with value: 1489.0647644729934 and parameters: {'changepoints': 3, 'changepoints_range': 0.8143822463409439, 'seasonality_mode': 'additive', 'growth': 'linear', 'regressors': 'USD/KRW_M1'}. Best is trial 14 with value: 268.3684380361227.\n",
      "07:08:42 - cmdstanpy - INFO - Chain [1] start processing\n",
      "07:08:42 - cmdstanpy - INFO - Chain [1] done processing\n",
      "[I 2024-04-07 07:08:43,396] Trial 31 finished with value: 1288.9131547034467 and parameters: {'changepoints': 2, 'changepoints_range': 0.8964245304018181, 'seasonality_mode': 'additive', 'growth': 'linear', 'regressors': 'USD/KRW_GDP_IAIP_M1'}. Best is trial 14 with value: 268.3684380361227.\n",
      "07:08:43 - cmdstanpy - INFO - Chain [1] start processing\n",
      "07:08:43 - cmdstanpy - INFO - Chain [1] done processing\n",
      "[I 2024-04-07 07:08:44,314] Trial 32 finished with value: 747.4757971175396 and parameters: {'changepoints': 2, 'changepoints_range': 0.9215786872304886, 'seasonality_mode': 'additive', 'growth': 'linear', 'regressors': 'USD/KRW'}. Best is trial 14 with value: 268.3684380361227.\n",
      "07:08:44 - cmdstanpy - INFO - Chain [1] start processing\n",
      "07:08:44 - cmdstanpy - INFO - Chain [1] done processing\n",
      "[I 2024-04-07 07:08:45,251] Trial 33 finished with value: 367.7425839815879 and parameters: {'changepoints': 1, 'changepoints_range': 0.8820939246986698, 'seasonality_mode': 'additive', 'growth': 'linear', 'regressors': 'GDP_LIR_M1'}. Best is trial 14 with value: 268.3684380361227.\n",
      "07:08:45 - cmdstanpy - INFO - Chain [1] start processing\n",
      "07:08:45 - cmdstanpy - INFO - Chain [1] done processing\n",
      "[I 2024-04-07 07:08:50,336] Trial 34 finished with value: 2598.689589541542 and parameters: {'changepoints': 1, 'changepoints_range': 0.8399878616957054, 'seasonality_mode': 'additive', 'growth': 'logistic', 'regressors': 'GDP_LIR_M1', 'cap': 691.7133458759347}. Best is trial 14 with value: 268.3684380361227.\n",
      "07:08:50 - cmdstanpy - INFO - Chain [1] start processing\n",
      "07:08:50 - cmdstanpy - INFO - Chain [1] done processing\n",
      "[I 2024-04-07 07:08:51,212] Trial 35 finished with value: 520.6701980790375 and parameters: {'changepoints': 1, 'changepoints_range': 0.8748925676763113, 'seasonality_mode': 'additive', 'growth': 'linear', 'regressors': 'disease'}. Best is trial 14 with value: 268.3684380361227.\n",
      "07:08:51 - cmdstanpy - INFO - Chain [1] start processing\n",
      "07:08:51 - cmdstanpy - INFO - Chain [1] done processing\n",
      "07:08:51 - cmdstanpy - ERROR - Chain [1] error: error during processing Communication error on send\n",
      "07:08:51 - cmdstanpy - INFO - Chain [1] start processing\n",
      "07:08:58 - cmdstanpy - INFO - Chain [1] done processing\n",
      "[I 2024-04-07 07:09:03,122] Trial 36 finished with value: 3945.8463566266205 and parameters: {'changepoints': 1, 'changepoints_range': 0.8513035925079724, 'seasonality_mode': 'multiplicative', 'growth': 'logistic', 'regressors': 'USD/KRW_GDP_IAIP_LIR', 'cap': 105.13908046768859}. Best is trial 14 with value: 268.3684380361227.\n",
      "07:09:03 - cmdstanpy - INFO - Chain [1] start processing\n",
      "07:09:03 - cmdstanpy - INFO - Chain [1] done processing\n",
      "07:09:03 - cmdstanpy - ERROR - Chain [1] error: error during processing Communication error on send\n",
      "07:09:03 - cmdstanpy - INFO - Chain [1] start processing\n",
      "07:09:07 - cmdstanpy - INFO - Chain [1] done processing\n",
      "[I 2024-04-07 07:09:07,904] Trial 37 finished with value: 1459.268680151161 and parameters: {'changepoints': 3, 'changepoints_range': 0.8286922074048665, 'seasonality_mode': 'additive', 'growth': 'linear', 'regressors': 'IAIP_LIR_M1'}. Best is trial 14 with value: 268.3684380361227.\n",
      "07:09:08 - cmdstanpy - INFO - Chain [1] start processing\n",
      "07:09:08 - cmdstanpy - INFO - Chain [1] done processing\n",
      "[I 2024-04-07 07:09:13,033] Trial 38 finished with value: 2800.559343049369 and parameters: {'changepoints': 4, 'changepoints_range': 0.9981235353574739, 'seasonality_mode': 'additive', 'growth': 'logistic', 'regressors': 'USD/KRW_GDP_LIR_disease', 'cap': 636.1449839620208}. Best is trial 14 with value: 268.3684380361227.\n",
      "07:09:13 - cmdstanpy - INFO - Chain [1] start processing\n",
      "07:09:13 - cmdstanpy - INFO - Chain [1] done processing\n",
      "[I 2024-04-07 07:09:14,077] Trial 39 finished with value: 1457.3490529683172 and parameters: {'changepoints': 2, 'changepoints_range': 0.8872281235073084, 'seasonality_mode': 'multiplicative', 'growth': 'linear', 'regressors': 'IAIP_M1_disease'}. Best is trial 14 with value: 268.3684380361227.\n",
      "07:09:14 - cmdstanpy - INFO - Chain [1] start processing\n",
      "07:09:14 - cmdstanpy - INFO - Chain [1] done processing\n",
      "[I 2024-04-07 07:09:15,302] Trial 40 finished with value: 292.25203393896203 and parameters: {'changepoints': 1, 'changepoints_range': 0.8684291633741844, 'seasonality_mode': 'additive', 'growth': 'linear', 'regressors': 'USD/KRW_GDP_IAIP_M1_disease'}. Best is trial 14 with value: 268.3684380361227.\n",
      "07:09:15 - cmdstanpy - INFO - Chain [1] start processing\n",
      "07:09:15 - cmdstanpy - INFO - Chain [1] done processing\n",
      "[I 2024-04-07 07:09:16,219] Trial 41 finished with value: 416.199204233023 and parameters: {'changepoints': 1, 'changepoints_range': 0.8666608429703532, 'seasonality_mode': 'additive', 'growth': 'linear', 'regressors': 'IAIP_LIR_disease'}. Best is trial 14 with value: 268.3684380361227.\n",
      "07:09:16 - cmdstanpy - INFO - Chain [1] start processing\n",
      "07:09:16 - cmdstanpy - INFO - Chain [1] done processing\n",
      "[I 2024-04-07 07:09:17,132] Trial 42 finished with value: 552.3553443131603 and parameters: {'changepoints': 1, 'changepoints_range': 0.8746768417240061, 'seasonality_mode': 'additive', 'growth': 'linear', 'regressors': 'IAIP_M1'}. Best is trial 14 with value: 268.3684380361227.\n",
      "07:09:17 - cmdstanpy - INFO - Chain [1] start processing\n",
      "07:09:17 - cmdstanpy - INFO - Chain [1] done processing\n",
      "[I 2024-04-07 07:09:18,062] Trial 43 finished with value: 462.24489444464183 and parameters: {'changepoints': 2, 'changepoints_range': 0.8565075954751631, 'seasonality_mode': 'additive', 'growth': 'linear', 'regressors': 'USD/KRW_disease'}. Best is trial 14 with value: 268.3684380361227.\n",
      "07:09:18 - cmdstanpy - INFO - Chain [1] start processing\n",
      "07:09:18 - cmdstanpy - INFO - Chain [1] done processing\n",
      "[I 2024-04-07 07:09:19,308] Trial 44 finished with value: 315.39157547068004 and parameters: {'changepoints': 1, 'changepoints_range': 0.8945569260638353, 'seasonality_mode': 'additive', 'growth': 'linear', 'regressors': 'USD/KRW_GDP_IAIP_M1_disease'}. Best is trial 14 with value: 268.3684380361227.\n",
      "07:09:19 - cmdstanpy - INFO - Chain [1] start processing\n",
      "07:09:19 - cmdstanpy - INFO - Chain [1] done processing\n",
      "[I 2024-04-07 07:09:20,315] Trial 45 finished with value: 569.2958875517281 and parameters: {'changepoints': 1, 'changepoints_range': 0.9417500495843926, 'seasonality_mode': 'additive', 'growth': 'linear', 'regressors': 'USD/KRW_GDP_IAIP_M1_disease'}. Best is trial 14 with value: 268.3684380361227.\n",
      "07:09:20 - cmdstanpy - INFO - Chain [1] start processing\n",
      "07:09:20 - cmdstanpy - INFO - Chain [1] done processing\n",
      "[I 2024-04-07 07:09:25,429] Trial 46 finished with value: 1965.8814048035913 and parameters: {'changepoints': 1, 'changepoints_range': 0.8943114083921093, 'seasonality_mode': 'additive', 'growth': 'logistic', 'regressors': 'USD/KRW_GDP_IAIP_M1_disease', 'cap': 995.549678471004}. Best is trial 14 with value: 268.3684380361227.\n",
      "07:09:25 - cmdstanpy - INFO - Chain [1] start processing\n",
      "07:09:27 - cmdstanpy - INFO - Chain [1] done processing\n",
      "[I 2024-04-07 07:09:27,862] Trial 47 finished with value: 1748.1446130911793 and parameters: {'changepoints': 7, 'changepoints_range': 0.9149102219793666, 'seasonality_mode': 'multiplicative', 'growth': 'linear', 'regressors': 'USD/KRW_LIR_M1_disease'}. Best is trial 14 with value: 268.3684380361227.\n",
      "07:09:28 - cmdstanpy - INFO - Chain [1] start processing\n",
      "07:09:29 - cmdstanpy - INFO - Chain [1] done processing\n",
      "[I 2024-04-07 07:09:29,945] Trial 48 finished with value: 1828.7749293130873 and parameters: {'changepoints': 10, 'changepoints_range': 0.8854852898836325, 'seasonality_mode': 'additive', 'growth': 'linear', 'regressors': 'USD/KRW_GDP_IAIP'}. Best is trial 14 with value: 268.3684380361227.\n",
      "07:09:30 - cmdstanpy - INFO - Chain [1] start processing\n",
      "07:09:30 - cmdstanpy - INFO - Chain [1] done processing\n",
      "07:09:30 - cmdstanpy - ERROR - Chain [1] error: error during processing Communication error on send\n",
      "07:09:30 - cmdstanpy - INFO - Chain [1] start processing\n",
      "07:09:32 - cmdstanpy - INFO - Chain [1] done processing\n",
      "[I 2024-04-07 07:09:33,155] Trial 49 finished with value: 1595.4822206086242 and parameters: {'changepoints': 2, 'changepoints_range': 0.8631465523969024, 'seasonality_mode': 'additive', 'growth': 'linear', 'regressors': 'IAIP_disease'}. Best is trial 14 with value: 268.3684380361227.\n",
      "07:09:33 - cmdstanpy - INFO - Chain [1] start processing\n",
      "07:09:33 - cmdstanpy - INFO - Chain [1] done processing\n",
      "[I 2024-04-07 07:09:34,523] Trial 50 finished with value: 372.60828413858644 and parameters: {'changepoints': 8, 'changepoints_range': 0.9097767841754725, 'seasonality_mode': 'additive', 'growth': 'linear', 'regressors': 'M1'}. Best is trial 14 with value: 268.3684380361227.\n",
      "07:09:34 - cmdstanpy - INFO - Chain [1] start processing\n",
      "07:09:35 - cmdstanpy - INFO - Chain [1] done processing\n",
      "[I 2024-04-07 07:09:35,742] Trial 51 finished with value: 309.5477521760815 and parameters: {'changepoints': 9, 'changepoints_range': 0.9360737744715445, 'seasonality_mode': 'additive', 'growth': 'linear', 'regressors': 'M1'}. Best is trial 14 with value: 268.3684380361227.\n",
      "07:09:36 - cmdstanpy - INFO - Chain [1] start processing\n",
      "07:09:36 - cmdstanpy - INFO - Chain [1] done processing\n",
      "[I 2024-04-07 07:09:37,503] Trial 52 finished with value: 974.6099847955195 and parameters: {'changepoints': 9, 'changepoints_range': 0.901585694150008, 'seasonality_mode': 'additive', 'growth': 'linear', 'regressors': 'USD/KRW_GDP_disease'}. Best is trial 14 with value: 268.3684380361227.\n",
      "07:09:37 - cmdstanpy - INFO - Chain [1] start processing\n",
      "07:09:38 - cmdstanpy - INFO - Chain [1] done processing\n",
      "[I 2024-04-07 07:09:38,999] Trial 53 finished with value: 1067.1059977345485 and parameters: {'changepoints': 8, 'changepoints_range': 0.9394439107695163, 'seasonality_mode': 'additive', 'growth': 'linear', 'regressors': 'USD/KRW_GDP_IAIP_LIR_M1_disease'}. Best is trial 14 with value: 268.3684380361227.\n",
      "07:09:39 - cmdstanpy - INFO - Chain [1] start processing\n",
      "07:09:39 - cmdstanpy - INFO - Chain [1] done processing\n",
      "[I 2024-04-07 07:09:40,519] Trial 54 finished with value: 2163.1439207548774 and parameters: {'changepoints': 4, 'changepoints_range': 0.9783950150831903, 'seasonality_mode': 'additive', 'growth': 'linear', 'regressors': 'GDP_IAIP_LIR_disease'}. Best is trial 14 with value: 268.3684380361227.\n",
      "07:09:40 - cmdstanpy - INFO - Chain [1] start processing\n",
      "07:09:41 - cmdstanpy - INFO - Chain [1] done processing\n",
      "[I 2024-04-07 07:09:41,561] Trial 55 finished with value: 1499.130060049559 and parameters: {'changepoints': 6, 'changepoints_range': 0.8392980652717373, 'seasonality_mode': 'additive', 'growth': 'linear', 'regressors': 'GDP_M1_disease'}. Best is trial 14 with value: 268.3684380361227.\n",
      "07:09:41 - cmdstanpy - INFO - Chain [1] start processing\n",
      "07:09:42 - cmdstanpy - INFO - Chain [1] done processing\n",
      "[I 2024-04-07 07:09:42,644] Trial 56 finished with value: 1100.4230961174874 and parameters: {'changepoints': 3, 'changepoints_range': 0.9357363244025334, 'seasonality_mode': 'additive', 'growth': 'linear', 'regressors': 'IAIP_LIR_M1_disease'}. Best is trial 14 with value: 268.3684380361227.\n",
      "07:09:42 - cmdstanpy - INFO - Chain [1] start processing\n",
      "07:09:43 - cmdstanpy - INFO - Chain [1] done processing\n",
      "[I 2024-04-07 07:09:44,017] Trial 57 finished with value: 455.8917072758529 and parameters: {'changepoints': 8, 'changepoints_range': 0.9326974808448086, 'seasonality_mode': 'additive', 'growth': 'linear', 'regressors': 'LIR'}. Best is trial 14 with value: 268.3684380361227.\n",
      "07:09:44 - cmdstanpy - INFO - Chain [1] start processing\n",
      "07:09:44 - cmdstanpy - INFO - Chain [1] done processing\n",
      "[I 2024-04-07 07:09:45,248] Trial 58 finished with value: 1720.7699416131725 and parameters: {'changepoints': 10, 'changepoints_range': 0.9749303987247189, 'seasonality_mode': 'additive', 'growth': 'linear', 'regressors': 'GDP_IAIP'}. Best is trial 14 with value: 268.3684380361227.\n",
      "07:09:45 - cmdstanpy - INFO - Chain [1] start processing\n",
      "07:09:45 - cmdstanpy - INFO - Chain [1] done processing\n",
      "[I 2024-04-07 07:09:46,311] Trial 59 finished with value: 1223.778336618096 and parameters: {'changepoints': 5, 'changepoints_range': 0.9507561320277921, 'seasonality_mode': 'additive', 'growth': 'linear', 'regressors': 'IAIP'}. Best is trial 14 with value: 268.3684380361227.\n",
      "07:09:46 - cmdstanpy - INFO - Chain [1] start processing\n",
      "07:09:46 - cmdstanpy - INFO - Chain [1] done processing\n",
      "[I 2024-04-07 07:09:51,480] Trial 60 finished with value: 2311.149802364124 and parameters: {'changepoints': 1, 'changepoints_range': 0.8682295138815551, 'seasonality_mode': 'multiplicative', 'growth': 'logistic', 'regressors': 'USD/KRW_IAIP_LIR_M1_disease', 'cap': 812.2198026147498}. Best is trial 14 with value: 268.3684380361227.\n",
      "07:09:51 - cmdstanpy - INFO - Chain [1] start processing\n",
      "07:09:52 - cmdstanpy - INFO - Chain [1] done processing\n",
      "[I 2024-04-07 07:09:52,572] Trial 61 finished with value: 1604.7566864950134 and parameters: {'changepoints': 9, 'changepoints_range': 0.9114547635328762, 'seasonality_mode': 'additive', 'growth': 'linear', 'regressors': 'M1'}. Best is trial 14 with value: 268.3684380361227.\n",
      "07:09:52 - cmdstanpy - INFO - Chain [1] start processing\n",
      "07:09:53 - cmdstanpy - INFO - Chain [1] done processing\n",
      "07:09:53 - cmdstanpy - ERROR - Chain [1] error: error during processing Communication error on send\n",
      "07:09:53 - cmdstanpy - INFO - Chain [1] start processing\n",
      "07:09:59 - cmdstanpy - INFO - Chain [1] done processing\n",
      "[I 2024-04-07 07:09:59,697] Trial 62 finished with value: 2441.6457225731097 and parameters: {'changepoints': 8, 'changepoints_range': 0.8891509982987463, 'seasonality_mode': 'additive', 'growth': 'linear', 'regressors': 'M1'}. Best is trial 14 with value: 268.3684380361227.\n",
      "07:09:59 - cmdstanpy - INFO - Chain [1] start processing\n",
      "07:10:00 - cmdstanpy - INFO - Chain [1] done processing\n",
      "[I 2024-04-07 07:10:00,906] Trial 63 finished with value: 332.3254301874883 and parameters: {'changepoints': 7, 'changepoints_range': 0.8811784825383225, 'seasonality_mode': 'additive', 'growth': 'linear', 'regressors': 'LIR_M1'}. Best is trial 14 with value: 268.3684380361227.\n",
      "07:10:01 - cmdstanpy - INFO - Chain [1] start processing\n",
      "07:10:01 - cmdstanpy - INFO - Chain [1] done processing\n",
      "07:10:01 - cmdstanpy - ERROR - Chain [1] error: error during processing Communication error on send\n",
      "07:10:01 - cmdstanpy - INFO - Chain [1] start processing\n",
      "07:10:03 - cmdstanpy - INFO - Chain [1] done processing\n",
      "[I 2024-04-07 07:10:04,350] Trial 64 finished with value: 1925.3085610079704 and parameters: {'changepoints': 7, 'changepoints_range': 0.8821351090085104, 'seasonality_mode': 'additive', 'growth': 'linear', 'regressors': 'LIR_disease'}. Best is trial 14 with value: 268.3684380361227.\n",
      "07:10:04 - cmdstanpy - INFO - Chain [1] start processing\n",
      "07:10:04 - cmdstanpy - INFO - Chain [1] done processing\n",
      "07:10:04 - cmdstanpy - ERROR - Chain [1] error: error during processing Communication error on send\n",
      "07:10:05 - cmdstanpy - INFO - Chain [1] start processing\n",
      "07:10:06 - cmdstanpy - INFO - Chain [1] done processing\n",
      "[I 2024-04-07 07:10:07,158] Trial 65 finished with value: 2248.1202580042254 and parameters: {'changepoints': 6, 'changepoints_range': 0.8564340110191826, 'seasonality_mode': 'additive', 'growth': 'linear', 'regressors': 'LIR_M1'}. Best is trial 14 with value: 268.3684380361227.\n",
      "07:10:07 - cmdstanpy - INFO - Chain [1] start processing\n",
      "07:10:07 - cmdstanpy - INFO - Chain [1] done processing\n",
      "[I 2024-04-07 07:10:08,574] Trial 66 finished with value: 1221.3397828507361 and parameters: {'changepoints': 9, 'changepoints_range': 0.8960458951956526, 'seasonality_mode': 'additive', 'growth': 'linear', 'regressors': 'GDP_IAIP_LIR_M1_disease'}. Best is trial 14 with value: 268.3684380361227.\n",
      "07:10:08 - cmdstanpy - INFO - Chain [1] start processing\n",
      "07:10:09 - cmdstanpy - INFO - Chain [1] done processing\n",
      "[I 2024-04-07 07:10:09,841] Trial 67 finished with value: 277.49225512938585 and parameters: {'changepoints': 2, 'changepoints_range': 0.8813952786178912, 'seasonality_mode': 'additive', 'growth': 'linear', 'regressors': 'USD/KRW_GDP_M1'}. Best is trial 14 with value: 268.3684380361227.\n",
      "07:10:10 - cmdstanpy - INFO - Chain [1] start processing\n",
      "07:10:10 - cmdstanpy - INFO - Chain [1] done processing\n",
      "[I 2024-04-07 07:10:10,789] Trial 68 finished with value: 421.8897079530365 and parameters: {'changepoints': 2, 'changepoints_range': 0.8816099520077835, 'seasonality_mode': 'additive', 'growth': 'linear', 'regressors': 'USD/KRW_IAIP'}. Best is trial 14 with value: 268.3684380361227.\n",
      "07:10:11 - cmdstanpy - INFO - Chain [1] start processing\n",
      "07:10:11 - cmdstanpy - INFO - Chain [1] done processing\n",
      "[I 2024-04-07 07:10:11,860] Trial 69 finished with value: 1568.634758779793 and parameters: {'changepoints': 7, 'changepoints_range': 0.8692919630894062, 'seasonality_mode': 'additive', 'growth': 'linear', 'regressors': 'USD/KRW_GDP_M1'}. Best is trial 14 with value: 268.3684380361227.\n",
      "07:10:12 - cmdstanpy - INFO - Chain [1] start processing\n",
      "07:10:12 - cmdstanpy - INFO - Chain [1] done processing\n",
      "[I 2024-04-07 07:10:13,031] Trial 70 finished with value: 552.4565781092582 and parameters: {'changepoints': 1, 'changepoints_range': 0.9008229029504422, 'seasonality_mode': 'additive', 'growth': 'linear', 'regressors': 'GDP_disease'}. Best is trial 14 with value: 268.3684380361227.\n",
      "07:10:13 - cmdstanpy - INFO - Chain [1] start processing\n",
      "07:10:13 - cmdstanpy - INFO - Chain [1] done processing\n",
      "[I 2024-04-07 07:10:13,942] Trial 71 finished with value: 414.9874025418424 and parameters: {'changepoints': 2, 'changepoints_range': 0.8600719820571193, 'seasonality_mode': 'additive', 'growth': 'linear', 'regressors': 'USD/KRW_GDP'}. Best is trial 14 with value: 268.3684380361227.\n",
      "07:10:14 - cmdstanpy - INFO - Chain [1] start processing\n",
      "07:10:14 - cmdstanpy - INFO - Chain [1] done processing\n",
      "[I 2024-04-07 07:10:14,894] Trial 72 finished with value: 441.633780779622 and parameters: {'changepoints': 1, 'changepoints_range': 0.8540151817927818, 'seasonality_mode': 'additive', 'growth': 'linear', 'regressors': 'GDP_LIR_M1_disease'}. Best is trial 14 with value: 268.3684380361227.\n",
      "07:10:15 - cmdstanpy - INFO - Chain [1] start processing\n",
      "07:10:15 - cmdstanpy - INFO - Chain [1] done processing\n",
      "[I 2024-04-07 07:10:15,844] Trial 73 finished with value: 367.1528549793166 and parameters: {'changepoints': 2, 'changepoints_range': 0.8688079187043835, 'seasonality_mode': 'additive', 'growth': 'linear', 'regressors': 'USD/KRW_LIR_disease'}. Best is trial 14 with value: 268.3684380361227.\n",
      "07:10:16 - cmdstanpy - INFO - Chain [1] start processing\n",
      "07:10:16 - cmdstanpy - INFO - Chain [1] done processing\n",
      "[I 2024-04-07 07:10:17,091] Trial 74 finished with value: 1703.5344071485438 and parameters: {'changepoints': 2, 'changepoints_range': 0.8901896737715763, 'seasonality_mode': 'additive', 'growth': 'linear', 'regressors': 'USD/KRW_LIR_disease'}. Best is trial 14 with value: 268.3684380361227.\n",
      "07:10:17 - cmdstanpy - INFO - Chain [1] start processing\n",
      "07:10:17 - cmdstanpy - INFO - Chain [1] done processing\n",
      "[I 2024-04-07 07:10:18,108] Trial 75 finished with value: 356.93259849895213 and parameters: {'changepoints': 3, 'changepoints_range': 0.8807265112637257, 'seasonality_mode': 'additive', 'growth': 'linear', 'regressors': 'USD/KRW_GDP_IAIP_LIR_M1'}. Best is trial 14 with value: 268.3684380361227.\n",
      "07:10:18 - cmdstanpy - INFO - Chain [1] start processing\n",
      "07:10:18 - cmdstanpy - INFO - Chain [1] done processing\n",
      "[I 2024-04-07 07:10:19,227] Trial 76 finished with value: 1308.0918015290486 and parameters: {'changepoints': 3, 'changepoints_range': 0.8706346835841989, 'seasonality_mode': 'additive', 'growth': 'linear', 'regressors': 'GDP_LIR_disease'}. Best is trial 14 with value: 268.3684380361227.\n",
      "07:10:19 - cmdstanpy - INFO - Chain [1] start processing\n",
      "07:10:20 - cmdstanpy - INFO - Chain [1] done processing\n",
      "[I 2024-04-07 07:10:20,929] Trial 77 finished with value: 1893.106542516551 and parameters: {'changepoints': 3, 'changepoints_range': 0.8794756636692979, 'seasonality_mode': 'multiplicative', 'growth': 'linear', 'regressors': 'USD/KRW_GDP_IAIP_LIR_M1'}. Best is trial 14 with value: 268.3684380361227.\n",
      "07:10:21 - cmdstanpy - INFO - Chain [1] start processing\n",
      "07:10:21 - cmdstanpy - INFO - Chain [1] done processing\n",
      "[I 2024-04-07 07:10:25,892] Trial 78 finished with value: 3404.106732019367 and parameters: {'changepoints': 3, 'changepoints_range': 0.8473816026082888, 'seasonality_mode': 'additive', 'growth': 'logistic', 'regressors': 'IAIP_LIR', 'cap': 544.5725776256749}. Best is trial 14 with value: 268.3684380361227.\n",
      "07:10:26 - cmdstanpy - INFO - Chain [1] start processing\n",
      "07:10:26 - cmdstanpy - INFO - Chain [1] done processing\n",
      "[I 2024-04-07 07:10:26,952] Trial 79 finished with value: 697.8218360257292 and parameters: {'changepoints': 4, 'changepoints_range': 0.8644906799727421, 'seasonality_mode': 'additive', 'growth': 'linear', 'regressors': 'GDP_IAIP_M1'}. Best is trial 14 with value: 268.3684380361227.\n",
      "07:10:27 - cmdstanpy - INFO - Chain [1] start processing\n",
      "07:10:27 - cmdstanpy - INFO - Chain [1] done processing\n",
      "[I 2024-04-07 07:10:28,158] Trial 80 finished with value: 238.60076644129728 and parameters: {'changepoints': 2, 'changepoints_range': 0.891982698238983, 'seasonality_mode': 'additive', 'growth': 'linear', 'regressors': 'USD/KRW_M1_disease'}. Best is trial 80 with value: 238.60076644129728.\n",
      "07:10:28 - cmdstanpy - INFO - Chain [1] start processing\n",
      "07:10:28 - cmdstanpy - INFO - Chain [1] done processing\n",
      "[I 2024-04-07 07:10:29,139] Trial 81 finished with value: 664.2442023125249 and parameters: {'changepoints': 2, 'changepoints_range': 0.8924820018285331, 'seasonality_mode': 'additive', 'growth': 'linear', 'regressors': 'USD/KRW_M1_disease'}. Best is trial 80 with value: 238.60076644129728.\n",
      "07:10:29 - cmdstanpy - INFO - Chain [1] start processing\n",
      "07:10:29 - cmdstanpy - INFO - Chain [1] done processing\n",
      "07:10:29 - cmdstanpy - ERROR - Chain [1] error: error during processing Communication error on send\n",
      "07:10:29 - cmdstanpy - INFO - Chain [1] start processing\n",
      "07:10:32 - cmdstanpy - INFO - Chain [1] done processing\n",
      "[I 2024-04-07 07:10:32,943] Trial 82 finished with value: 2015.776030652919 and parameters: {'changepoints': 2, 'changepoints_range': 0.9053098425932828, 'seasonality_mode': 'additive', 'growth': 'linear', 'regressors': 'USD/KRW_IAIP_M1'}. Best is trial 80 with value: 238.60076644129728.\n",
      "07:10:33 - cmdstanpy - INFO - Chain [1] start processing\n",
      "07:10:33 - cmdstanpy - INFO - Chain [1] done processing\n",
      "[I 2024-04-07 07:10:34,259] Trial 83 finished with value: 468.68306709746787 and parameters: {'changepoints': 2, 'changepoints_range': 0.8739630310286098, 'seasonality_mode': 'additive', 'growth': 'linear', 'regressors': 'USD/KRW_GDP_IAIP_M1_disease'}. Best is trial 80 with value: 238.60076644129728.\n",
      "07:10:34 - cmdstanpy - INFO - Chain [1] start processing\n",
      "07:10:34 - cmdstanpy - INFO - Chain [1] done processing\n",
      "[I 2024-04-07 07:10:35,421] Trial 84 finished with value: 377.57627753974816 and parameters: {'changepoints': 5, 'changepoints_range': 0.8870619308651374, 'seasonality_mode': 'additive', 'growth': 'linear', 'regressors': 'USD/KRW_GDP_M1_disease'}. Best is trial 80 with value: 238.60076644129728.\n",
      "07:10:35 - cmdstanpy - INFO - Chain [1] start processing\n",
      "07:10:35 - cmdstanpy - INFO - Chain [1] done processing\n",
      "[I 2024-04-07 07:10:36,468] Trial 85 finished with value: 358.44684439139775 and parameters: {'changepoints': 3, 'changepoints_range': 0.8978270351164307, 'seasonality_mode': 'additive', 'growth': 'linear', 'regressors': 'USD/KRW_IAIP_LIR_M1'}. Best is trial 80 with value: 238.60076644129728.\n",
      "07:10:36 - cmdstanpy - INFO - Chain [1] start processing\n",
      "07:10:37 - cmdstanpy - INFO - Chain [1] done processing\n",
      "[I 2024-04-07 07:10:37,604] Trial 86 finished with value: 314.09251467362225 and parameters: {'changepoints': 4, 'changepoints_range': 0.8979503788646837, 'seasonality_mode': 'additive', 'growth': 'linear', 'regressors': 'USD/KRW_LIR_M1'}. Best is trial 80 with value: 238.60076644129728.\n",
      "07:10:37 - cmdstanpy - INFO - Chain [1] start processing\n",
      "07:10:38 - cmdstanpy - INFO - Chain [1] done processing\n",
      "[I 2024-04-07 07:10:39,058] Trial 87 finished with value: 1491.2420116430974 and parameters: {'changepoints': 3, 'changepoints_range': 0.9169581826883402, 'seasonality_mode': 'additive', 'growth': 'linear', 'regressors': 'GDP_IAIP_disease'}. Best is trial 80 with value: 238.60076644129728.\n",
      "07:10:39 - cmdstanpy - INFO - Chain [1] start processing\n",
      "07:10:39 - cmdstanpy - INFO - Chain [1] done processing\n",
      "[I 2024-04-07 07:10:40,164] Trial 88 finished with value: 775.8775811177297 and parameters: {'changepoints': 4, 'changepoints_range': 0.926900333163167, 'seasonality_mode': 'additive', 'growth': 'linear', 'regressors': 'USD/KRW_LIR_M1'}. Best is trial 80 with value: 238.60076644129728.\n",
      "07:10:40 - cmdstanpy - INFO - Chain [1] start processing\n",
      "07:10:40 - cmdstanpy - INFO - Chain [1] done processing\n",
      "[I 2024-04-07 07:10:45,280] Trial 89 finished with value: 3334.322039126321 and parameters: {'changepoints': 4, 'changepoints_range': 0.9068864311110993, 'seasonality_mode': 'multiplicative', 'growth': 'logistic', 'regressors': 'USD/KRW_GDP_LIR_M1_disease', 'cap': 236.55540362518798}. Best is trial 80 with value: 238.60076644129728.\n",
      "07:10:45 - cmdstanpy - INFO - Chain [1] start processing\n",
      "07:10:46 - cmdstanpy - INFO - Chain [1] done processing\n",
      "[I 2024-04-07 07:10:46,865] Trial 90 finished with value: 389.34972900317536 and parameters: {'changepoints': 6, 'changepoints_range': 0.8779319313617057, 'seasonality_mode': 'additive', 'growth': 'linear', 'regressors': 'USD/KRW_IAIP_LIR'}. Best is trial 80 with value: 238.60076644129728.\n",
      "07:10:47 - cmdstanpy - INFO - Chain [1] start processing\n",
      "07:10:47 - cmdstanpy - INFO - Chain [1] done processing\n",
      "[I 2024-04-07 07:10:48,092] Trial 91 finished with value: 1242.618095228073 and parameters: {'changepoints': 3, 'changepoints_range': 0.8984954460267673, 'seasonality_mode': 'additive', 'growth': 'linear', 'regressors': 'USD/KRW_IAIP_LIR_M1'}. Best is trial 80 with value: 238.60076644129728.\n",
      "07:10:48 - cmdstanpy - INFO - Chain [1] start processing\n",
      "07:10:48 - cmdstanpy - INFO - Chain [1] done processing\n",
      "[I 2024-04-07 07:10:49,187] Trial 92 finished with value: 267.1488122894034 and parameters: {'changepoints': 3, 'changepoints_range': 0.8935587447543711, 'seasonality_mode': 'additive', 'growth': 'linear', 'regressors': 'USD/KRW_M1_disease'}. Best is trial 80 with value: 238.60076644129728.\n",
      "07:10:49 - cmdstanpy - INFO - Chain [1] start processing\n",
      "07:10:49 - cmdstanpy - INFO - Chain [1] done processing\n",
      "[I 2024-04-07 07:10:50,445] Trial 93 finished with value: 1032.6135589828227 and parameters: {'changepoints': 4, 'changepoints_range': 0.8923484647992502, 'seasonality_mode': 'additive', 'growth': 'linear', 'regressors': 'LIR_M1'}. Best is trial 80 with value: 238.60076644129728.\n",
      "07:10:50 - cmdstanpy - INFO - Chain [1] start processing\n",
      "07:10:50 - cmdstanpy - INFO - Chain [1] done processing\n",
      "[I 2024-04-07 07:10:51,424] Trial 94 finished with value: 587.4458883805797 and parameters: {'changepoints': 3, 'changepoints_range': 0.8840687154166167, 'seasonality_mode': 'additive', 'growth': 'linear', 'regressors': 'USD/KRW_M1_disease'}. Best is trial 80 with value: 238.60076644129728.\n",
      "07:10:51 - cmdstanpy - INFO - Chain [1] start processing\n",
      "07:10:51 - cmdstanpy - INFO - Chain [1] done processing\n",
      "[I 2024-04-07 07:10:52,538] Trial 95 finished with value: 655.0380201584817 and parameters: {'changepoints': 3, 'changepoints_range': 0.9122027437721358, 'seasonality_mode': 'additive', 'growth': 'linear', 'regressors': 'USD/KRW_GDP_IAIP_disease'}. Best is trial 80 with value: 238.60076644129728.\n",
      "07:10:52 - cmdstanpy - INFO - Chain [1] start processing\n",
      "07:10:53 - cmdstanpy - INFO - Chain [1] done processing\n",
      "[I 2024-04-07 07:10:53,581] Trial 96 finished with value: 1052.5103191608264 and parameters: {'changepoints': 4, 'changepoints_range': 0.8729334963959261, 'seasonality_mode': 'additive', 'growth': 'linear', 'regressors': 'GDP'}. Best is trial 80 with value: 238.60076644129728.\n",
      "07:10:53 - cmdstanpy - INFO - Chain [1] start processing\n",
      "07:10:54 - cmdstanpy - INFO - Chain [1] done processing\n",
      "[I 2024-04-07 07:10:55,042] Trial 97 finished with value: 404.524667259196 and parameters: {'changepoints': 5, 'changepoints_range': 0.9043703342669555, 'seasonality_mode': 'additive', 'growth': 'linear', 'regressors': 'USD/KRW_GDP_IAIP_LIR_M1'}. Best is trial 80 with value: 238.60076644129728.\n",
      "07:10:55 - cmdstanpy - INFO - Chain [1] start processing\n",
      "07:10:55 - cmdstanpy - INFO - Chain [1] done processing\n",
      "[I 2024-04-07 07:10:55,982] Trial 98 finished with value: 263.4347087137284 and parameters: {'changepoints': 1, 'changepoints_range': 0.889475684402893, 'seasonality_mode': 'additive', 'growth': 'linear', 'regressors': 'USD/KRW_LIR_M1'}. Best is trial 80 with value: 238.60076644129728.\n",
      "07:10:56 - cmdstanpy - INFO - Chain [1] start processing\n",
      "07:10:56 - cmdstanpy - INFO - Chain [1] done processing\n",
      "[I 2024-04-07 07:10:57,018] Trial 99 finished with value: 202.10748820774415 and parameters: {'changepoints': 1, 'changepoints_range': 0.9636373093897851, 'seasonality_mode': 'additive', 'growth': 'linear', 'regressors': 'USD/KRW_LIR_M1'}. Best is trial 99 with value: 202.10748820774415.\n"
     ]
    },
    {
     "name": "stdout",
     "output_type": "stream",
     "text": [
      "최적의 하이퍼파라미터: {'changepoints': 1, 'changepoints_range': 0.9636373093897851, 'seasonality_mode': 'additive', 'growth': 'linear', 'regressors': 'USD/KRW_LIR_M1'}\n"
     ]
    }
   ],
   "source": [
    "study = optuna.create_study(direction=\"minimize\")\n",
    "study.optimize(objective, n_trials=100)\n",
    "\n",
    "best_params = study.best_params\n",
    "print(f\"최적의 하이퍼파라미터: {best_params}\")"
   ]
  },
  {
   "cell_type": "code",
   "execution_count": 17,
   "id": "740f4ed1",
   "metadata": {
    "execution": {
     "iopub.execute_input": "2024-04-07T07:10:57.099131Z",
     "iopub.status.busy": "2024-04-07T07:10:57.098849Z",
     "iopub.status.idle": "2024-04-07T07:10:57.606117Z",
     "shell.execute_reply": "2024-04-07T07:10:57.605366Z"
    },
    "papermill": {
     "duration": 0.545363,
     "end_time": "2024-04-07T07:10:57.608194",
     "exception": false,
     "start_time": "2024-04-07T07:10:57.062831",
     "status": "completed"
    },
    "tags": []
   },
   "outputs": [
    {
     "name": "stderr",
     "output_type": "stream",
     "text": [
      "07:10:57 - cmdstanpy - INFO - Chain [1] start processing\n",
      "07:10:57 - cmdstanpy - INFO - Chain [1] done processing\n"
     ]
    }
   ],
   "source": [
    "model = train(train_valid_data, **best_params)  "
   ]
  },
  {
   "cell_type": "code",
   "execution_count": 18,
   "id": "65bbb7df",
   "metadata": {
    "execution": {
     "iopub.execute_input": "2024-04-07T07:10:57.723985Z",
     "iopub.status.busy": "2024-04-07T07:10:57.723617Z",
     "iopub.status.idle": "2024-04-07T07:10:58.506430Z",
     "shell.execute_reply": "2024-04-07T07:10:58.505662Z"
    },
    "papermill": {
     "duration": 0.865554,
     "end_time": "2024-04-07T07:10:58.508701",
     "exception": false,
     "start_time": "2024-04-07T07:10:57.643147",
     "status": "completed"
    },
    "tags": []
   },
   "outputs": [],
   "source": [
    "rmse, forecast = test(model, test_data, data, **best_params)"
   ]
  },
  {
   "cell_type": "code",
   "execution_count": 19,
   "id": "4e21130f",
   "metadata": {
    "execution": {
     "iopub.execute_input": "2024-04-07T07:10:58.578995Z",
     "iopub.status.busy": "2024-04-07T07:10:58.578662Z",
     "iopub.status.idle": "2024-04-07T07:10:58.585118Z",
     "shell.execute_reply": "2024-04-07T07:10:58.584219Z"
    },
    "papermill": {
     "duration": 0.043733,
     "end_time": "2024-04-07T07:10:58.586977",
     "exception": false,
     "start_time": "2024-04-07T07:10:58.543244",
     "status": "completed"
    },
    "tags": []
   },
   "outputs": [],
   "source": [
    "forecast['ds'].iloc[:] = pd.to_datetime(test_data['ds']).iloc[:]"
   ]
  },
  {
   "cell_type": "code",
   "execution_count": 20,
   "id": "490c74f2",
   "metadata": {
    "execution": {
     "iopub.execute_input": "2024-04-07T07:10:58.655737Z",
     "iopub.status.busy": "2024-04-07T07:10:58.655465Z",
     "iopub.status.idle": "2024-04-07T07:10:58.662696Z",
     "shell.execute_reply": "2024-04-07T07:10:58.661759Z"
    },
    "papermill": {
     "duration": 0.04416,
     "end_time": "2024-04-07T07:10:58.664788",
     "exception": false,
     "start_time": "2024-04-07T07:10:58.620628",
     "status": "completed"
    },
    "tags": []
   },
   "outputs": [
    {
     "data": {
      "text/plain": [
       "0     2022-01-04\n",
       "1     2022-01-05\n",
       "2     2022-01-06\n",
       "3     2022-01-07\n",
       "4     2022-01-10\n",
       "         ...    \n",
       "550   2024-04-01\n",
       "551   2024-04-02\n",
       "552   2024-04-03\n",
       "553   2024-04-04\n",
       "554   2024-04-05\n",
       "Name: ds, Length: 555, dtype: datetime64[ns]"
      ]
     },
     "execution_count": 20,
     "metadata": {},
     "output_type": "execute_result"
    }
   ],
   "source": [
    "forecast['ds']"
   ]
  },
  {
   "cell_type": "code",
   "execution_count": 21,
   "id": "8b417598",
   "metadata": {
    "execution": {
     "iopub.execute_input": "2024-04-07T07:10:58.739491Z",
     "iopub.status.busy": "2024-04-07T07:10:58.739160Z",
     "iopub.status.idle": "2024-04-07T07:10:58.745777Z",
     "shell.execute_reply": "2024-04-07T07:10:58.744849Z"
    },
    "papermill": {
     "duration": 0.043968,
     "end_time": "2024-04-07T07:10:58.747699",
     "exception": false,
     "start_time": "2024-04-07T07:10:58.703731",
     "status": "completed"
    },
    "tags": []
   },
   "outputs": [],
   "source": [
    "def plot_stock_forecast(data, forecast):\n",
    "    plt.figure(figsize=(12, 6))\n",
    "    plt.plot(forecast['ds'], forecast['yhat'], label='Predicted', color='red')\n",
    "    plt.plot(pd.to_datetime(data['ds']), data['y'], label='Actual', color='blue')\n",
    "    plt.fill_between(forecast['ds'], forecast['yhat_lower'], forecast['yhat_upper'], color='pink', alpha=0.5)\n",
    "    plt.title('Stock Price Forecast')\n",
    "    plt.xlabel('Date')\n",
    "    plt.ylabel('Price')\n",
    "    plt.legend()\n",
    "    plt.show()"
   ]
  },
  {
   "cell_type": "code",
   "execution_count": 22,
   "id": "7f34ae05",
   "metadata": {
    "execution": {
     "iopub.execute_input": "2024-04-07T07:10:58.820987Z",
     "iopub.status.busy": "2024-04-07T07:10:58.820302Z",
     "iopub.status.idle": "2024-04-07T07:10:59.226380Z",
     "shell.execute_reply": "2024-04-07T07:10:59.225387Z"
    },
    "papermill": {
     "duration": 0.447281,
     "end_time": "2024-04-07T07:10:59.228884",
     "exception": false,
     "start_time": "2024-04-07T07:10:58.781603",
     "status": "completed"
    },
    "tags": []
   },
   "outputs": [
    {
     "data": {
      "image/png": "[encoded data removed]",
      "text/plain": [
       "<Figure size 1200x600 with 1 Axes>"
      ]
     },
     "metadata": {},
     "output_type": "display_data"
    }
   ],
   "source": [
    "plot_stock_forecast(data, forecast)"
   ]
  },
  {
   "cell_type": "code",
   "execution_count": 23,
   "id": "032e8053",
   "metadata": {
    "execution": {
     "iopub.execute_input": "2024-04-07T07:10:59.302555Z",
     "iopub.status.busy": "2024-04-07T07:10:59.302217Z",
     "iopub.status.idle": "2024-04-07T07:10:59.306211Z",
     "shell.execute_reply": "2024-04-07T07:10:59.305426Z"
    },
    "papermill": {
     "duration": 0.042684,
     "end_time": "2024-04-07T07:10:59.308057",
     "exception": false,
     "start_time": "2024-04-07T07:10:59.265373",
     "status": "completed"
    },
    "tags": []
   },
   "outputs": [],
   "source": [
    "# printResult(date_lists[2], test_cnn_y, test_cnn_predict, Target, features)"
   ]
  },
  {
   "cell_type": "code",
   "execution_count": 24,
   "id": "c16fadf3",
   "metadata": {
    "execution": {
     "iopub.execute_input": "2024-04-07T07:10:59.378684Z",
     "iopub.status.busy": "2024-04-07T07:10:59.378376Z",
     "iopub.status.idle": "2024-04-07T07:10:59.382021Z",
     "shell.execute_reply": "2024-04-07T07:10:59.381199Z"
    },
    "papermill": {
     "duration": 0.04102,
     "end_time": "2024-04-07T07:10:59.383769",
     "exception": false,
     "start_time": "2024-04-07T07:10:59.342749",
     "status": "completed"
    },
    "tags": []
   },
   "outputs": [],
   "source": [
    "# test_cnn_x[-1]"
   ]
  }
 ],
 "metadata": {
  "kaggle": {
   "accelerator": "nvidiaTeslaT4",
   "dataSources": [],
   "dockerImageVersionId": 30627,
   "isGpuEnabled": true,
   "isInternetEnabled": true,
   "language": "python",
   "sourceType": "notebook"
  },
  "kernelspec": {
   "display_name": "Python 3",
   "language": "python",
   "name": "python3"
  },
  "language_info": {
   "codemirror_mode": {
    "name": "ipython",
    "version": 3
   },
   "file_extension": ".py",
   "mimetype": "text/x-python",
   "name": "python",
   "nbconvert_exporter": "python",
   "pygments_lexer": "ipython3",
   "version": "3.10.12"
  },
  "papermill": {
   "default_parameters": {},
   "duration": 260.574109,
   "end_time": "2024-04-07T07:11:02.049729",
   "environment_variables": {},
   "exception": null,
   "input_path": "__notebook__.ipynb",
   "output_path": "__notebook__.ipynb",
   "parameters": {},
   "start_time": "2024-04-07T07:06:41.475620",
   "version": "2.4.0"
  }
 },
 "nbformat": 4,
 "nbformat_minor": 5
}
