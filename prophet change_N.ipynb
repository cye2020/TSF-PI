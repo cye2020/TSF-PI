{
 "cells": [
  {
   "cell_type": "code",
   "execution_count": 1,
   "metadata": {},
   "outputs": [
    {
     "name": "stderr",
     "output_type": "stream",
     "text": [
      "/home/yeeun/anaconda3/envs/tsf-spi/lib/python3.11/site-packages/tqdm/auto.py:21: TqdmWarning: IProgress not found. Please update jupyter and ipywidgets. See https://ipywidgets.readthedocs.io/en/stable/user_install.html\n",
      "  from .autonotebook import tqdm as notebook_tqdm\n",
      "Importing plotly failed. Interactive plots will not work.\n"
     ]
    }
   ],
   "source": [
    "import os\n",
    "import copy\n",
    "import warnings\n",
    "\n",
    "# Dataframe\n",
    "import pandas as pd\n",
    "import numpy as np\n",
    "from itertools import combinations\n",
    "import matplotlib.pyplot as plt\n",
    "from utils.prophet_data_loader import ProphetDataLoader\n",
    "from utils.change import change2close\n",
    "\n",
    "from prophet import Prophet\n",
    "from prophet.diagnostics import cross_validation\n",
    "from prophet.diagnostics import performance_metrics\n",
    "from sklearn.metrics import mean_squared_error\n",
    "\n",
    "from sklearn.model_selection import ParameterGrid\n",
    "\n",
    "warnings.filterwarnings('ignore')"
   ]
  },
  {
   "cell_type": "code",
   "execution_count": 2,
   "metadata": {},
   "outputs": [],
   "source": [
    "start_date = '2010-01-01'\n",
    "end_date = '2022-12-31'\n",
    "split_date = '2021-12-31'"
   ]
  },
  {
   "cell_type": "code",
   "execution_count": 3,
   "metadata": {},
   "outputs": [],
   "source": [
    "data_loader = ProphetDataLoader()\n",
    "\n",
    "data = data_loader.load_csv('./data/kospi.csv', end_date)\n",
    "data['Change'] = data_loader.minmaxScale('Change')\n",
    "train_data, test_data = data_loader.split_data(data, split_date)"
   ]
  },
  {
   "cell_type": "code",
   "execution_count": 4,
   "metadata": {},
   "outputs": [
    {
     "name": "stdout",
     "output_type": "stream",
     "text": [
      "Train 데이터 크기: 2959\n",
      "Test 데이터 크기: 244\n"
     ]
    }
   ],
   "source": [
    "print(\"Train 데이터 크기:\", len(train_data))\n",
    "print(\"Test 데이터 크기:\", len(test_data))"
   ]
  },
  {
   "cell_type": "code",
   "execution_count": 5,
   "metadata": {},
   "outputs": [
    {
     "data": {
      "text/html": [
       "<div>\n",
       "<style scoped>\n",
       "    .dataframe tbody tr th:only-of-type {\n",
       "        vertical-align: middle;\n",
       "    }\n",
       "\n",
       "    .dataframe tbody tr th {\n",
       "        vertical-align: top;\n",
       "    }\n",
       "\n",
       "    .dataframe thead th {\n",
       "        text-align: right;\n",
       "    }\n",
       "</style>\n",
       "<table border=\"1\" class=\"dataframe\">\n",
       "  <thead>\n",
       "    <tr style=\"text-align: right;\">\n",
       "      <th></th>\n",
       "      <th>ds</th>\n",
       "      <th>Kospi</th>\n",
       "      <th>USD/KRW</th>\n",
       "      <th>GDP</th>\n",
       "      <th>IAIP</th>\n",
       "      <th>LIR</th>\n",
       "      <th>M1</th>\n",
       "      <th>disease</th>\n",
       "      <th>y</th>\n",
       "    </tr>\n",
       "  </thead>\n",
       "  <tbody>\n",
       "    <tr>\n",
       "      <th>0</th>\n",
       "      <td>2010-01-04</td>\n",
       "      <td>1696.140015</td>\n",
       "      <td>1132.400024</td>\n",
       "      <td>1143.67</td>\n",
       "      <td>79.3</td>\n",
       "      <td>5.350</td>\n",
       "      <td>59.71815</td>\n",
       "      <td>0</td>\n",
       "      <td>0.493893</td>\n",
       "    </tr>\n",
       "    <tr>\n",
       "      <th>1</th>\n",
       "      <td>2010-01-05</td>\n",
       "      <td>1690.619995</td>\n",
       "      <td>1141.300049</td>\n",
       "      <td>1143.67</td>\n",
       "      <td>79.3</td>\n",
       "      <td>5.350</td>\n",
       "      <td>59.71815</td>\n",
       "      <td>0</td>\n",
       "      <td>0.474743</td>\n",
       "    </tr>\n",
       "    <tr>\n",
       "      <th>2</th>\n",
       "      <td>2010-01-06</td>\n",
       "      <td>1705.319946</td>\n",
       "      <td>1130.400024</td>\n",
       "      <td>1143.67</td>\n",
       "      <td>79.3</td>\n",
       "      <td>5.350</td>\n",
       "      <td>59.71815</td>\n",
       "      <td>0</td>\n",
       "      <td>0.545055</td>\n",
       "    </tr>\n",
       "    <tr>\n",
       "      <th>3</th>\n",
       "      <td>2010-01-07</td>\n",
       "      <td>1683.449951</td>\n",
       "      <td>1134.900024</td>\n",
       "      <td>1143.67</td>\n",
       "      <td>79.3</td>\n",
       "      <td>5.350</td>\n",
       "      <td>59.71815</td>\n",
       "      <td>0</td>\n",
       "      <td>0.418432</td>\n",
       "    </tr>\n",
       "    <tr>\n",
       "      <th>4</th>\n",
       "      <td>2010-01-08</td>\n",
       "      <td>1695.260010</td>\n",
       "      <td>1123.099976</td>\n",
       "      <td>1143.67</td>\n",
       "      <td>79.3</td>\n",
       "      <td>5.350</td>\n",
       "      <td>59.71815</td>\n",
       "      <td>0</td>\n",
       "      <td>0.535172</td>\n",
       "    </tr>\n",
       "    <tr>\n",
       "      <th>...</th>\n",
       "      <td>...</td>\n",
       "      <td>...</td>\n",
       "      <td>...</td>\n",
       "      <td>...</td>\n",
       "      <td>...</td>\n",
       "      <td>...</td>\n",
       "      <td>...</td>\n",
       "      <td>...</td>\n",
       "      <td>...</td>\n",
       "    </tr>\n",
       "    <tr>\n",
       "      <th>3198</th>\n",
       "      <td>2022-12-23</td>\n",
       "      <td>2313.689941</td>\n",
       "      <td>1290.199951</td>\n",
       "      <td>1673.92</td>\n",
       "      <td>126.0</td>\n",
       "      <td>3.541</td>\n",
       "      <td>193.79220</td>\n",
       "      <td>0</td>\n",
       "      <td>0.386433</td>\n",
       "    </tr>\n",
       "    <tr>\n",
       "      <th>3199</th>\n",
       "      <td>2022-12-26</td>\n",
       "      <td>2317.139893</td>\n",
       "      <td>1279.239990</td>\n",
       "      <td>1673.92</td>\n",
       "      <td>126.0</td>\n",
       "      <td>3.541</td>\n",
       "      <td>193.79220</td>\n",
       "      <td>0</td>\n",
       "      <td>0.502667</td>\n",
       "    </tr>\n",
       "    <tr>\n",
       "      <th>3200</th>\n",
       "      <td>2022-12-27</td>\n",
       "      <td>2332.790039</td>\n",
       "      <td>1275.130005</td>\n",
       "      <td>1673.92</td>\n",
       "      <td>126.0</td>\n",
       "      <td>3.541</td>\n",
       "      <td>193.79220</td>\n",
       "      <td>0</td>\n",
       "      <td>0.533635</td>\n",
       "    </tr>\n",
       "    <tr>\n",
       "      <th>3201</th>\n",
       "      <td>2022-12-28</td>\n",
       "      <td>2280.449951</td>\n",
       "      <td>1272.280029</td>\n",
       "      <td>1673.92</td>\n",
       "      <td>126.0</td>\n",
       "      <td>3.541</td>\n",
       "      <td>193.79220</td>\n",
       "      <td>0</td>\n",
       "      <td>0.361873</td>\n",
       "    </tr>\n",
       "    <tr>\n",
       "      <th>3202</th>\n",
       "      <td>2022-12-29</td>\n",
       "      <td>2236.399902</td>\n",
       "      <td>1274.319946</td>\n",
       "      <td>1673.92</td>\n",
       "      <td>126.0</td>\n",
       "      <td>3.541</td>\n",
       "      <td>193.79220</td>\n",
       "      <td>0</td>\n",
       "      <td>0.380233</td>\n",
       "    </tr>\n",
       "  </tbody>\n",
       "</table>\n",
       "<p>3203 rows × 9 columns</p>\n",
       "</div>"
      ],
      "text/plain": [
       "             ds        Kospi      USD/KRW      GDP   IAIP    LIR         M1  \\\n",
       "0    2010-01-04  1696.140015  1132.400024  1143.67   79.3  5.350   59.71815   \n",
       "1    2010-01-05  1690.619995  1141.300049  1143.67   79.3  5.350   59.71815   \n",
       "2    2010-01-06  1705.319946  1130.400024  1143.67   79.3  5.350   59.71815   \n",
       "3    2010-01-07  1683.449951  1134.900024  1143.67   79.3  5.350   59.71815   \n",
       "4    2010-01-08  1695.260010  1123.099976  1143.67   79.3  5.350   59.71815   \n",
       "...         ...          ...          ...      ...    ...    ...        ...   \n",
       "3198 2022-12-23  2313.689941  1290.199951  1673.92  126.0  3.541  193.79220   \n",
       "3199 2022-12-26  2317.139893  1279.239990  1673.92  126.0  3.541  193.79220   \n",
       "3200 2022-12-27  2332.790039  1275.130005  1673.92  126.0  3.541  193.79220   \n",
       "3201 2022-12-28  2280.449951  1272.280029  1673.92  126.0  3.541  193.79220   \n",
       "3202 2022-12-29  2236.399902  1274.319946  1673.92  126.0  3.541  193.79220   \n",
       "\n",
       "      disease         y  \n",
       "0           0  0.493893  \n",
       "1           0  0.474743  \n",
       "2           0  0.545055  \n",
       "3           0  0.418432  \n",
       "4           0  0.535172  \n",
       "...       ...       ...  \n",
       "3198        0  0.386433  \n",
       "3199        0  0.502667  \n",
       "3200        0  0.533635  \n",
       "3201        0  0.361873  \n",
       "3202        0  0.380233  \n",
       "\n",
       "[3203 rows x 9 columns]"
      ]
     },
     "execution_count": 5,
     "metadata": {},
     "output_type": "execute_result"
    }
   ],
   "source": [
    "data"
   ]
  },
  {
   "cell_type": "code",
   "execution_count": 8,
   "metadata": {},
   "outputs": [
    {
     "data": {
      "text/plain": [
       "<Axes: xlabel='y', ylabel='Density'>"
      ]
     },
     "execution_count": 8,
     "metadata": {},
     "output_type": "execute_result"
    },
    {
     "data": {
      "image/png": "[encoded data removed]",
      "text/plain": [
       "<Figure size 640x480 with 1 Axes>"
      ]
     },
     "metadata": {},
     "output_type": "display_data"
    }
   ],
   "source": [
    "import seaborn as sns\n",
    "\n",
    "sns.kdeplot(x=train_data['y'])"
   ]
  },
  {
   "cell_type": "code",
   "execution_count": null,
   "metadata": {},
   "outputs": [],
   "source": [
    "test_data"
   ]
  },
  {
   "cell_type": "code",
   "execution_count": null,
   "metadata": {},
   "outputs": [],
   "source": [
    "regressor_columns = ['USD/KRW', 'GDP', 'IAIP', 'LIR', 'M1', 'disease']\n",
    "\n",
    "# 가능한 모든 조합의 리스트 생성\n",
    "all_combinations = []\n",
    "for r in range(1, len(regressor_columns) + 1):\n",
    "    all_combinations.extend(combinations(regressor_columns, r))\n",
    "\n",
    "regressor_combinations = ['_'.join(combination) for combination in all_combinations]"
   ]
  },
  {
   "cell_type": "code",
   "execution_count": null,
   "metadata": {},
   "outputs": [],
   "source": [
    "regressor_column = regressor_combinations[0]\n",
    "regressor_column"
   ]
  },
  {
   "cell_type": "code",
   "execution_count": null,
   "metadata": {},
   "outputs": [],
   "source": [
    "train_data.iloc[:, :2]"
   ]
  },
  {
   "cell_type": "code",
   "execution_count": null,
   "metadata": {},
   "outputs": [],
   "source": [
    "m = Prophet()\n",
    "\n",
    "regressor_columns = ['USD/KRW', 'GDP', 'IAIP', 'LIR', 'M1', 'disease']\n",
    "\n",
    "for col in regressor_columns:\n",
    "    m.add_regressor(col)\n",
    "m.fit(train_data)\n",
    "\n",
    "future = m.make_future_dataframe(periods=len(test_data), include_history=False)\n",
    "\n",
    "for col in regressor_columns:\n",
    "    future[col] = test_data[col].values\n",
    "\n",
    "forecast = m.predict(future)\n",
    "forecast['ds'].iloc[:] = pd.to_datetime(test_data['ds']).iloc[:]\n",
    "m.plot(forecast)"
   ]
  },
  {
   "cell_type": "code",
   "execution_count": null,
   "metadata": {},
   "outputs": [],
   "source": [
    "def train(train_data,regressors=[], **kwargs):\n",
    "    \n",
    "    model = Prophet(\n",
    "        **kwargs,\n",
    "        growth='linear',\n",
    "    )\n",
    "    \n",
    "    columns = regressors.split('_')\n",
    "    \n",
    "    for col in columns:\n",
    "        model.add_regressor(col)\n",
    "    \n",
    "    model.fit(train_data)\n",
    "    train_cv = cross_validation(model, initial=f'2070 days', period='90 days', horizon='30 days', disable_tqdm=True)\n",
    "    \n",
    "    train_p = performance_metrics(train_cv)\n",
    "    \n",
    "    return model, train_cv, train_p"
   ]
  },
  {
   "cell_type": "code",
   "execution_count": null,
   "metadata": {},
   "outputs": [],
   "source": [
    "def test(model: Prophet, test_data, regressors=[], **kwargs):\n",
    "    columns = regressors.split('_')\n",
    "    \n",
    "    # 예측 및 평가\n",
    "    future = model.make_future_dataframe(periods=len(test_data), include_history=False)\n",
    "    \n",
    "    for col in columns:\n",
    "        future[col] = test_data[col].values\n",
    "    \n",
    "    forecast = model.predict(future)\n",
    "    rmse = np.sqrt(mean_squared_error(test_data[\"y\"], forecast[\"yhat\"]))\n",
    "\n",
    "    return rmse, forecast"
   ]
  },
  {
   "cell_type": "code",
   "execution_count": null,
   "metadata": {},
   "outputs": [],
   "source": [
    "params_grid = {\n",
    "    \"changepoints\": [None, ['2015-12-23', '2015-05-20', '2020-01-20']],\n",
    "    \"n_changepoints\": [10, 20, 50],\n",
    "    \"seasonality_mode\": [\"additive\", \"multiplicative\"],\n",
    "    'seasonality_prior_scale': [5, 10, 20],\n",
    "    \"changepoint_prior_scale\": [0.1, 0.2, 0.3, 0.4, 0.5, 0.6, 0.7, 0.8, 0.9],\n",
    "    # \"regressors\": regressor_combinations\n",
    "}\n",
    "grid = ParameterGrid(params_grid)\n",
    "\n",
    "cnt = 0\n",
    "for p in grid:\n",
    "    cnt = cnt+1\n",
    "\n",
    "print('Total Possible Models',cnt)"
   ]
  },
  {
   "cell_type": "code",
   "execution_count": null,
   "metadata": {},
   "outputs": [],
   "source": [
    "regressor_combinations[-1]"
   ]
  },
  {
   "cell_type": "code",
   "execution_count": null,
   "metadata": {},
   "outputs": [],
   "source": [
    "model_parameters = []\n",
    "for p in grid:\n",
    "    _, _, train_p = train(train_data, regressor_column, **p)\n",
    "    rmse = round(train_p[\"rmse\"].mean(),1)\n",
    "    smape = round(train_p[\"smape\"].mean(),1)\n",
    "    p['RMSE'] = rmse\n",
    "    p['SMAPE'] = smape\n",
    "    p = {k: [v] for k, v in p.items()}\n",
    "    model_parameters.append(pd.DataFrame(p))\n",
    "model_parameters = pd.concat(model_parameters, ignore_index=True)"
   ]
  },
  {
   "cell_type": "code",
   "execution_count": null,
   "metadata": {},
   "outputs": [],
   "source": [
    "model_parameters"
   ]
  },
  {
   "cell_type": "code",
   "execution_count": null,
   "metadata": {},
   "outputs": [],
   "source": [
    "model_parameters_sorted = model_parameters.sort_values(by=['RMSE'], ascending=True)\n",
    "min_rmse_group = model_parameters_sorted[model_parameters_sorted['RMSE'] == model_parameters_sorted['RMSE'].min()]\n",
    "min_rmse_smape_group = min_rmse_group[min_rmse_group['SMAPE'] == min_rmse_group['SMAPE'].min()]\n",
    "min_rmse_smape_group"
   ]
  },
  {
   "cell_type": "code",
   "execution_count": null,
   "metadata": {},
   "outputs": [],
   "source": [
    "best_params = min_rmse_smape_group.iloc[:, :5].to_dict('records')"
   ]
  },
  {
   "cell_type": "code",
   "execution_count": null,
   "metadata": {},
   "outputs": [],
   "source": [
    "best_params"
   ]
  },
  {
   "cell_type": "code",
   "execution_count": null,
   "metadata": {},
   "outputs": [],
   "source": []
  },
  {
   "cell_type": "code",
   "execution_count": null,
   "metadata": {},
   "outputs": [],
   "source": [
    "def plot_stock_forecast(data, forecast):\n",
    "    plt.figure(figsize=(12, 6))\n",
    "    plt.plot(forecast['ds'], forecast['yhat'], label='Predicted', color='red')\n",
    "    plt.plot(pd.to_datetime(data['ds']), data['y'], label='Actual', color='blue')\n",
    "    plt.fill_between(forecast['ds'], forecast['yhat_lower'], forecast['yhat_upper'], color='pink', alpha=0.5)\n",
    "    plt.title('Stock Price Forecast')\n",
    "    plt.xlabel('Date')\n",
    "    plt.ylabel('Price')\n",
    "    plt.legend()\n",
    "    plt.show()"
   ]
  },
  {
   "cell_type": "code",
   "execution_count": null,
   "metadata": {},
   "outputs": [],
   "source": []
  },
  {
   "cell_type": "code",
   "execution_count": null,
   "metadata": {},
   "outputs": [],
   "source": [
    "def printResult(test_datelist, test_true, test_forecast):\n",
    "    test_result_list = []\n",
    "    for date in test_datelist:\n",
    "        test_result_list.append([date, test_true[date], test_forecast[date]])\n",
    "    test_yyyymm = []\n",
    "    test_start_y = test_result_list[0][0].year\n",
    "    test_end_y = test_result_list[-1][0].year\n",
    "    test_start_m = test_result_list[0][0].month\n",
    "    test_end_m = test_result_list[-1][0].month\n",
    "    \n",
    "    if (test_start_y == test_end_y):\n",
    "        for i in range(test_start_m, test_end_m + 1):\n",
    "            test_yyyymm.append(test_start_y * 100 + i)\n",
    "    else:\n",
    "        for i in range(test_end_y - test_start_y + 1):\n",
    "            if (i == 0):\n",
    "                for j in range(test_start_m, 13):\n",
    "                    test_yyyymm.append((test_start_y + i) * 100 + j)\n",
    "            elif (i == (test_end_y - test_start_y)):\n",
    "                for j in range(1, test_end_m + 1):\n",
    "                    test_yyyymm.append((test_start_y + i) * 100 + j)\n",
    "            else:\n",
    "                for j in range(1, 13):\n",
    "                    test_yyyymm.append((test_start_y + i) * 100 + j) \n",
    "                    \n",
    "    test_month_tf = {}\n",
    "    errorRates = []\n",
    "    for i in range(len(test_yyyymm)):\n",
    "        test_month_tf[test_yyyymm[i]] = [0, 0]\n",
    "    for i in range(len(test_result_list)):\n",
    "        key = test_result_list[i][0].year * 100 + test_result_list[i][0].month\n",
    "        test_month_tf[key][0] += test_result_list[i][1]\n",
    "        test_month_tf[key][1] += test_result_list[i][2]\n",
    "        \n",
    "    for i in range(len(test_month_tf)):\n",
    "        printYear = int(test_yyyymm[i] // 100)\n",
    "        printMonth = int(test_yyyymm[i] % 100)\n",
    "        printTrue = int(test_month_tf[test_yyyymm[i]][0])\n",
    "        printForecast = round(test_month_tf[test_yyyymm[i]][1])\n",
    "        printDiff = printTrue - printForecast\n",
    "        errorRate = round(abs(printTrue - printForecast) / printTrue * 100, 2)\n",
    "        # print('[{0}년 {1}월] | 실제 코스피 지수: {2}원    | 예상 코스피 지수: {3}원       | 차이: {4}원       | 절대 오차율: {5}%'.format(printYear, printMonth, printTrue, printForecast, printDiff, errorRate))\n",
    "        errorRates.append(errorRate)\n",
    "    avg_errorRates = round(sum(errorRates)/len(errorRates), 2)\n",
    "    print(f'평균 오차율: {avg_errorRates}')\n",
    "    return avg_errorRates"
   ]
  },
  {
   "cell_type": "code",
   "execution_count": null,
   "metadata": {},
   "outputs": [],
   "source": [
    "train_data.Kospi.iloc[-1]"
   ]
  },
  {
   "cell_type": "code",
   "execution_count": null,
   "metadata": {},
   "outputs": [],
   "source": [
    "from itertools import accumulate\n",
    "\n",
    "def change2close(last_close, changes):\n",
    "    return list(accumulate([last_close] + changes, lambda x, y: round(x * (1 + y / 100), 2)))[1:]"
   ]
  },
  {
   "cell_type": "code",
   "execution_count": null,
   "metadata": {},
   "outputs": [],
   "source": [
    "errorRates = []\n",
    "for params in best_params:\n",
    "    model, train_cv, train_p = train(train_data, regressor_column, **params)\n",
    "    rmse, forecast = test(model, test_data, regressor_column, **params)\n",
    "    forecast['ds'].iloc[:] = pd.to_datetime(test_data['ds']).iloc[:]\n",
    "    temp = data[data['ds'] > '2021']\n",
    "    forecast['y'] = change2close(train_data.Kospi.iloc[-1], forecast['yhat'].to_list())\n",
    "    test_datelist = test_data['ds'].to_list()\n",
    "    test_true = test_data.set_index('ds')['Kospi']\n",
    "    test_forecast = forecast.set_index('ds')['y']\n",
    "    avg_errorRates = printResult(test_data['ds'].to_list(), test_true, test_forecast)\n",
    "    results = copy.deepcopy(params)\n",
    "    results['Avg ErrorRates'] = avg_errorRates\n",
    "    errorRates.append(pd.DataFrame(results))\n",
    "    # plot_stock_forecast(temp, forecast)\n",
    "\n",
    "\n",
    "errorRates = pd.concat(errorRates, ignore_index=True)\n",
    "errorRates = errorRates.sort_values(by=['Avg ErrorRates'], ascending=True)"
   ]
  },
  {
   "cell_type": "code",
   "execution_count": null,
   "metadata": {},
   "outputs": [],
   "source": [
    "errorRates"
   ]
  }
 ],
 "metadata": {
  "kernelspec": {
   "display_name": "tsf-spi",
   "language": "python",
   "name": "python3"
  },
  "language_info": {
   "codemirror_mode": {
    "name": "ipython",
    "version": 3
   },
   "file_extension": ".py",
   "mimetype": "text/x-python",
   "name": "python",
   "nbconvert_exporter": "python",
   "pygments_lexer": "ipython3",
   "version": "3.11.4"
  }
 },
 "nbformat": 4,
 "nbformat_minor": 2
}
